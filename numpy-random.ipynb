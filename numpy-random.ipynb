{
 "cells": [
  {
   "cell_type": "markdown",
   "metadata": {},
   "source": [
    "# numpy. random package\n",
    "This jupyter notebook contains the numpy.random package investigation as part of the Programming for Data Analysis Module of Data Analytics at GMIT.\n",
    "\n",
    "1. Explain the overall purpose of the package. \n",
    "2. Explain the use of the “Simple random data” and “Permutations” functions. \n",
    "3. Explain the use and purpose of at least ﬁve “Distributions” functions. \n",
    "4. Explain the use of seeds in generating pseudorandom numbers.\n"
   ]
  },
  {
   "cell_type": "markdown",
   "metadata": {},
   "source": [
    "# Numpy\n",
    "numpy is the fundamental python package for numerical computing. It is a general-purpose array-processing package.\n",
    "It provides a high-performance multidimensional array objects, and tools for working with these arrays. Ref(https://www.geeksforgeeks.org/numpy-in-python-set-1-introduction/)"
   ]
  },
  {
   "cell_type": "markdown",
   "metadata": {},
   "source": [
    "# 1. numpy.random\n",
    "(Random sampling)\n",
    "Computers can be used to simulate the generation of random numbers. This random numbers generation is referred to as a pseudo-random generation.  These created values are not truly \"random\" because a mathematical formula is used to generate the values.\n",
    "The random module in Numpy package contains many functions for generation of random number.\n",
    "shuffle the existing data.\n",
    "it contains functions to generate NumPy arrays of random numbers sampled from specified distributions."
   ]
  },
  {
   "cell_type": "code",
   "execution_count": 1,
   "metadata": {},
   "outputs": [],
   "source": [
    "import numpy as np #import numpy\n",
    "#import matplotlib.pyplot\n",
    "import matplotlib.pyplot as plt"
   ]
  },
  {
   "cell_type": "markdown",
   "metadata": {},
   "source": [
    "# 2. Simple Random Data"
   ]
  },
  {
   "cell_type": "markdown",
   "metadata": {},
   "source": [
    "# random.rand function\n",
    "__numpy.random.rand(d0, d1, …, dn)__\n",
    "<br>\n",
    "&nbsp;&nbsp; Create an array of the given shape and populate it with random samples from a uniform distribution over (0,1)\n",
    "\n",
    "d0, d1, …, dn .....(int)optional <br>\n",
    "&ensp; The dimensions of the returned array, should all be positive. If no argument is given a single Python float is returned.\n"
   ]
  },
  {
   "cell_type": "code",
   "execution_count": 2,
   "metadata": {},
   "outputs": [
    {
     "data": {
      "text/plain": [
       "0.42970776111828735"
      ]
     },
     "execution_count": 2,
     "metadata": {},
     "output_type": "execute_result"
    }
   ],
   "source": [
    "np.random.rand() # if no dimention is given a random float value between 0 - 1"
   ]
  },
  {
   "cell_type": "code",
   "execution_count": 3,
   "metadata": {},
   "outputs": [
    {
     "data": {
      "text/plain": [
       "array([0.79772562, 0.6075889 , 0.17445646, 0.94978971, 0.32657784,\n",
       "       0.55610999, 0.19347507])"
      ]
     },
     "execution_count": 3,
     "metadata": {},
     "output_type": "execute_result"
    }
   ],
   "source": [
    "np.random.rand(7)#create a one dimentional array of size 7 and each element value lie between 0 - 1"
   ]
  },
  {
   "cell_type": "code",
   "execution_count": 4,
   "metadata": {},
   "outputs": [
    {
     "data": {
      "text/plain": [
       "array([[0.02577864, 0.65173628, 0.78972937],\n",
       "       [0.02991834, 0.18824477, 0.80550378]])"
      ]
     },
     "execution_count": 4,
     "metadata": {},
     "output_type": "execute_result"
    }
   ],
   "source": [
    "np.random.rand(2,3)# two dimentional array"
   ]
  },
  {
   "cell_type": "code",
   "execution_count": 5,
   "metadata": {},
   "outputs": [
    {
     "data": {
      "text/plain": [
       "array([[[0.52297905, 0.96035168, 0.06546505, 0.17527874],\n",
       "        [0.46682177, 0.37914339, 0.28472821, 0.09940576]],\n",
       "\n",
       "       [[0.9260398 , 0.66094879, 0.3673345 , 0.83888205],\n",
       "        [0.65461545, 0.5180129 , 0.47440941, 0.87241931]],\n",
       "\n",
       "       [[0.53247114, 0.2935387 , 0.76170926, 0.30241221],\n",
       "        [0.4347604 , 0.73112824, 0.88609902, 0.58540129]]])"
      ]
     },
     "execution_count": 5,
     "metadata": {},
     "output_type": "execute_result"
    }
   ],
   "source": [
    "np.random.rand (3,2,4) # three dimention array"
   ]
  },
  {
   "cell_type": "markdown",
   "metadata": {},
   "source": [
    "# numpy.random.randn(d0, d1, …, dn) \n",
    "   Return a sample (or samples) from the “standard normal” distribution."
   ]
  },
  {
   "cell_type": "code",
   "execution_count": 6,
   "metadata": {},
   "outputs": [
    {
     "data": {
      "text/plain": [
       "array([ 5.75562902e-01,  1.39504571e+00, -3.96161145e-01,  2.01984344e-01,\n",
       "       -5.79978290e-01, -3.41657844e-01,  2.10963907e-01, -1.50148692e+00,\n",
       "       -3.54547042e-01,  6.48176885e-01,  1.17960808e-01, -3.46759831e-01,\n",
       "       -4.29480697e-01, -1.43709914e+00, -3.33424979e-01,  1.99038128e-01,\n",
       "       -6.04627299e-01,  2.58361761e-01, -4.87297377e-01, -8.23090598e-01,\n",
       "       -6.71507976e-01,  6.38928894e-01,  1.80391993e+00,  1.56181424e-01,\n",
       "        8.88730562e-01,  4.10637522e-01,  5.14970851e-01, -5.88744029e-01,\n",
       "       -1.70610228e-01,  1.12467870e-01, -5.88061041e-01,  1.52646489e+00,\n",
       "        9.87995984e-02, -2.18015471e+00,  8.18963199e-02, -1.09488927e+00,\n",
       "       -4.08174158e-01,  2.57211501e-01, -6.05707422e-01,  3.75072822e-01,\n",
       "       -1.15075917e+00,  1.81214782e+00, -3.43049735e-01, -1.70171499e-01,\n",
       "       -3.06681342e-01, -1.30044372e-01, -9.21966162e-01,  1.07016949e+00,\n",
       "       -2.74809734e-01, -1.30331112e-01,  1.41248254e+00,  1.97512734e-01,\n",
       "       -1.08517268e+00,  8.89881429e-02, -6.05300708e-01, -2.50490186e-01,\n",
       "        8.73891112e-01, -8.62915929e-01, -1.56596143e+00, -1.55677190e+00,\n",
       "       -1.06970974e+00, -2.52266604e-01,  1.04781454e-01,  1.63746735e+00,\n",
       "        3.16257181e-01, -1.19425212e+00, -1.23334338e+00, -3.75779243e-01,\n",
       "       -1.88155593e+00, -1.62814259e+00, -2.82825087e+00, -5.47134400e-01,\n",
       "        4.16536867e-01,  5.50024901e-01,  3.29349704e-01, -2.11578921e+00,\n",
       "       -9.27824236e-01, -1.85319280e+00, -4.36010941e-01,  1.14285801e-01,\n",
       "        4.02201456e-01, -8.65467014e-01, -6.96754010e-01,  4.02617735e-01,\n",
       "       -6.71527734e-01,  2.98277004e-01, -1.78622074e+00, -1.00396595e-01,\n",
       "       -6.34914867e-01, -3.39172019e-01, -2.16901264e+00,  5.27582444e-01,\n",
       "       -1.04227565e-01,  1.62341483e+00, -1.42243506e-01,  8.15783255e-01,\n",
       "       -1.07526055e+00, -1.74735775e+00, -1.13122227e+00, -1.58207378e+00,\n",
       "       -5.28889268e-01,  4.26148657e-01, -6.22857966e-01, -3.51763534e-01,\n",
       "       -1.85610549e+00, -1.91737581e-01, -3.26994422e-01,  5.95134835e-01,\n",
       "        6.86977598e-01, -1.19759045e+00, -7.93656373e-01,  1.04687721e+00,\n",
       "        4.93907386e-01,  1.38549515e+00, -7.85692271e-01, -9.67262647e-01,\n",
       "        3.97754971e-01,  3.28385449e-01,  6.07876822e-01,  1.34122922e+00,\n",
       "        2.54768310e-01, -4.08884427e-01, -9.32887750e-01, -4.60863392e-01,\n",
       "       -1.10337352e+00, -9.79386063e-01, -1.41951789e+00, -6.85653141e-01,\n",
       "        1.76938617e+00, -1.55317500e+00,  1.44554629e-01, -3.27975306e-01,\n",
       "        4.43417794e-01, -3.46313484e-01, -2.64053961e+00,  9.34925809e-01,\n",
       "       -1.10335652e+00,  2.85556494e+00,  5.19437657e-01, -1.78860656e-01,\n",
       "        9.37414594e-01,  8.18850482e-01,  4.63113637e-01, -1.49945840e-01,\n",
       "       -1.80501619e+00, -5.19685280e-01, -9.81898145e-01, -1.03750383e+00,\n",
       "        8.45971653e-02,  1.67879636e-01,  8.02948134e-01, -9.71082430e-01,\n",
       "       -4.68442683e-01, -1.45946546e+00, -4.02216223e-01,  1.21135060e-01,\n",
       "       -1.81958791e+00, -3.42574281e+00,  6.71946887e-01, -3.59362966e-01,\n",
       "       -1.67959948e+00, -7.04352575e-01,  1.43997818e+00, -3.13450136e-01,\n",
       "        1.63712159e-01, -4.57278755e-01,  7.78407952e-01, -1.57372255e-01,\n",
       "        7.80494768e-01, -1.17777718e+00,  6.56202587e-01,  1.04993560e-01,\n",
       "       -1.50460455e+00,  2.50326687e-01, -5.78141294e-01, -1.98041189e+00,\n",
       "       -2.21621216e-01, -1.40206817e+00,  8.43629474e-01,  3.65932325e-01,\n",
       "        2.42033176e-01,  5.54640630e-01,  1.77611026e-02,  7.03961869e-01,\n",
       "        1.59953257e-01, -1.62251841e+00,  3.85238483e-01,  6.41420186e-01,\n",
       "        1.49723078e+00, -7.56169495e-01, -4.15965528e-01, -6.20626862e-02,\n",
       "       -1.23709598e+00,  1.68434433e+00, -6.31413664e-02, -5.18169677e-02,\n",
       "        1.73066260e+00, -2.08518647e-01, -1.29725068e+00,  1.30183353e+00,\n",
       "        8.38535739e-01, -1.25235669e+00, -1.48367695e+00,  8.11759849e-01,\n",
       "       -6.54433894e-01, -1.47753316e+00,  9.30867797e-01, -4.85778759e-02,\n",
       "        5.78787405e-01,  1.41948058e+00,  7.97829196e-01, -5.75755745e-01,\n",
       "        7.40975457e-01, -3.39282511e-01,  8.67046050e-01, -2.69441447e+00,\n",
       "       -3.77300124e-01, -7.60544284e-01,  2.04081152e+00,  1.91056013e-01,\n",
       "       -2.40292364e+00,  1.86489316e+00,  1.15789757e+00, -1.54478445e+00,\n",
       "        1.92940180e+00,  4.83250673e-01, -9.79985930e-02, -1.21659786e+00,\n",
       "       -5.05569429e-01, -1.69389556e-01,  3.74935576e-01,  2.68589182e+00,\n",
       "        5.56567774e-01,  1.46440676e+00,  7.06735699e-01, -1.25954988e+00,\n",
       "       -1.93401834e+00, -6.30537826e-01,  6.05649571e-01, -1.73509649e-01,\n",
       "        1.14634696e+00,  6.21977239e-01, -8.32671186e-01, -1.30980856e+00,\n",
       "        5.23235421e-01, -1.05074397e+00, -2.67038883e-01, -3.17970310e-01,\n",
       "       -2.63657685e-01, -2.27805916e+00,  1.15624469e+00, -5.75050045e-01,\n",
       "        1.51763165e-01,  5.19384704e-01, -9.04106899e-01, -5.01966235e-01,\n",
       "       -2.04910773e-02,  3.93475295e-01,  5.90319937e-01,  1.94183368e-01,\n",
       "       -2.70281703e-01,  2.11838586e+00,  1.42959470e+00, -1.81016793e+00,\n",
       "       -1.13027079e+00,  7.22064147e-01,  7.29923519e-01, -6.29563922e-01,\n",
       "        3.46019837e-01,  1.32642260e+00, -7.04678569e-01,  2.09611939e-03,\n",
       "        1.38642853e-01,  7.64472975e-01, -8.14890811e-01, -3.72697111e-01,\n",
       "        9.76360642e-01,  1.28415629e+00,  1.00851788e+00, -1.87793158e-01,\n",
       "        2.99374644e-01,  1.22295882e+00, -1.21472988e-01, -2.42738218e-01,\n",
       "        8.72198714e-01, -3.74575012e-01,  1.01810093e+00,  1.77500918e+00,\n",
       "       -1.56093768e+00, -1.49909507e+00, -6.15336674e-01,  1.43348113e-01,\n",
       "       -3.17542531e+00, -2.37524991e-01,  8.99075115e-01,  6.53061996e-01,\n",
       "       -7.09272128e-01,  1.70623940e+00,  1.45331742e-01,  9.13288042e-01,\n",
       "        4.15899618e-01, -1.03539421e+00, -1.83490727e+00,  9.24067541e-01,\n",
       "       -1.13657550e+00,  1.74230568e+00,  6.09461179e-01,  4.92064567e-01,\n",
       "       -1.33873663e+00, -1.19604515e+00,  1.55283530e-01,  8.14907137e-03,\n",
       "       -4.44058014e-01, -1.14353066e+00, -2.05245231e-01, -3.56931023e-01,\n",
       "       -1.67960601e-01,  2.75690488e-01,  3.72050632e-01, -4.64345704e-01,\n",
       "        4.89850629e-03,  1.32599964e-01,  8.07462982e-01,  2.10965247e-01,\n",
       "       -1.86218396e+00,  1.51365382e+00,  4.86461459e-01, -1.13379123e+00,\n",
       "        6.76635459e-01, -1.00451859e+00, -2.29222103e-01,  1.26626826e+00,\n",
       "       -7.68274183e-01, -1.14053782e+00, -5.27533448e-01, -1.15654226e+00,\n",
       "        5.53645773e-01,  9.29070308e-01, -1.98182543e+00, -2.96334673e-01,\n",
       "       -5.58289358e-01, -1.09002481e+00,  2.42048792e-02,  4.52880330e-01,\n",
       "        6.46763345e-01, -1.04242946e+00, -9.92473669e-01, -4.48900115e-01,\n",
       "        1.59752967e+00,  1.63723394e+00,  7.85403391e-01,  1.41224487e+00,\n",
       "       -7.62215916e-01, -1.73375072e+00, -1.39219459e+00,  1.54814785e+00,\n",
       "       -1.51981315e+00,  4.97915616e-01, -7.85399644e-02, -1.25445516e+00,\n",
       "       -1.46771155e+00, -3.23336361e-01,  2.38391833e-02, -3.47389718e-01,\n",
       "        8.76456503e-01, -8.39076116e-01,  5.12114442e-01,  7.55047582e-01,\n",
       "        1.60626351e+00, -1.18603729e+00, -5.82309323e-01,  1.10411554e+00,\n",
       "        9.43116642e-01,  2.39938738e-01,  4.64004144e-01, -1.92610051e+00,\n",
       "        6.25775918e-01,  4.41480915e-02,  3.53553212e-01, -1.36776819e-01,\n",
       "       -5.61579245e-01,  6.73396897e-03, -1.37883404e-01, -3.31548741e-01,\n",
       "       -2.32512631e-01,  2.91426046e-01,  3.05705703e-01,  9.30441247e-01,\n",
       "        5.49816046e-01,  1.12363448e+00, -6.87375281e-03,  6.08800714e-01,\n",
       "        2.23138746e-01, -2.11412174e-01, -2.27763832e+00, -2.50724755e-01,\n",
       "        9.39487893e-01,  6.16790300e-01, -1.26794873e-01,  5.02626320e-01,\n",
       "        6.03361131e-01,  7.22675870e-02, -1.58868255e-03,  5.36758027e-01,\n",
       "        1.05309345e-01,  3.82025136e-01, -5.73620413e-01,  5.70701616e-01,\n",
       "       -1.33176661e-01, -5.45533391e-01, -1.30140102e+00,  1.01739134e-01,\n",
       "       -8.51812697e-02, -2.14266710e+00,  5.90629124e-02, -8.30311683e-01,\n",
       "        5.43569423e-01, -2.15631963e+00, -8.07866248e-01, -2.09247143e+00,\n",
       "       -3.21479277e-01,  1.36798349e+00,  2.60755559e-01,  3.62179361e-01,\n",
       "       -6.46079761e-01, -1.10766220e-01, -1.51438909e+00, -2.58564370e+00,\n",
       "        1.22568275e+00, -8.12030752e-01,  1.17399906e+00,  1.15449202e-03,\n",
       "        1.46225239e+00, -7.40498635e-01,  1.20500270e+00, -1.79446287e-01,\n",
       "       -1.70664081e+00, -3.00583085e-01, -1.27576518e+00, -1.33003458e+00,\n",
       "       -5.04824159e-01,  6.83801984e-01,  3.23659603e-01,  1.05904155e+00,\n",
       "        5.68148064e-01,  1.19049899e+00, -9.69574261e-01,  6.19784523e-01,\n",
       "        1.34408974e-01,  6.41416041e-01, -1.60931366e+00,  1.13875469e+00,\n",
       "        8.61283305e-01, -7.91772283e-02,  1.44109887e+00,  4.00808993e-01,\n",
       "        8.50982670e-01,  2.81410335e+00,  1.55874497e-01, -5.54427437e-01,\n",
       "       -8.74606831e-01,  1.00047199e+00, -1.64474884e+00,  1.99286888e+00,\n",
       "        2.07239894e-02,  1.11611263e+00,  1.82912298e+00, -1.00416022e-01,\n",
       "       -3.35458268e-01,  1.62420976e+00, -1.39168354e+00, -4.29378248e-01,\n",
       "       -3.07666856e-02, -3.12145225e-01, -1.64840821e+00, -2.35756550e+00,\n",
       "        2.28130458e-01,  2.19305531e+00,  1.22068318e+00,  2.22629508e-01,\n",
       "       -8.74359124e-02, -1.10427520e-01, -2.69137466e+00,  4.00255312e-01,\n",
       "        9.79381922e-01, -5.44648373e-01,  8.53182781e-01, -7.02610933e-01,\n",
       "        1.47721731e+00, -5.77643116e-01,  5.67707612e-01,  1.24909274e+00,\n",
       "        2.26166073e-01,  5.92840511e-01, -3.98754104e-01,  1.20768369e+00,\n",
       "       -5.52385268e-01, -1.51633178e-01, -4.76884978e-01,  1.98111825e-01,\n",
       "       -2.53256726e-01,  7.66024388e-01,  6.32258487e-01, -1.63996944e+00,\n",
       "        8.66722107e-01,  1.08519926e-01,  8.78906256e-01, -1.42969208e-02,\n",
       "       -1.50740793e-02,  7.60449668e-01, -1.24632949e+00,  8.50756942e-01,\n",
       "        1.25018119e+00,  4.49091830e-01,  1.55135680e+00,  7.20105507e-01,\n",
       "       -5.90385980e-01, -6.45984680e-02, -3.70489781e-01, -5.11512665e-01,\n",
       "       -6.74219241e-01,  4.06391629e-01,  1.55420565e+00, -8.91987385e-02,\n",
       "       -9.05147250e-01,  5.89493669e-01, -1.10034083e+00, -2.32497898e+00,\n",
       "        3.64493247e-02, -8.59300862e-01,  1.99656549e-01,  8.35480419e-01,\n",
       "       -3.02910078e-01, -3.08613384e-01, -4.29666545e-01,  4.27851392e-01,\n",
       "       -1.07514126e+00,  1.72822332e+00,  8.28940170e-01,  1.94471062e+00,\n",
       "        2.33077979e+00, -2.41175713e-02, -2.71409827e-01,  2.68465382e+00,\n",
       "        1.93175776e+00, -1.43540270e+00, -2.36964215e-02,  6.91884391e-01,\n",
       "        2.36546410e+00, -1.10270644e+00,  4.75932030e-01,  3.85733789e-01,\n",
       "       -2.38713280e-01,  1.61422047e+00, -7.85255256e-01,  9.37844353e-01,\n",
       "        1.00510889e+00, -4.40984865e-01, -6.82260859e-01,  7.53422704e-01,\n",
       "        1.04309412e+00,  5.07430877e-01,  8.72158845e-01, -2.47079292e-01,\n",
       "       -1.07595366e+00,  5.66411402e-01, -1.28975526e+00, -1.68578643e+00,\n",
       "       -1.76201394e+00, -4.47800795e-01, -1.53110716e+00, -1.17121344e+00,\n",
       "       -5.65150710e-01, -5.88260573e-01,  1.26386858e+00,  2.84765165e-01,\n",
       "        4.34124755e-01, -8.06739375e-01,  2.17902705e-01,  2.75264848e-01,\n",
       "        6.09918211e-01, -1.14890026e+00, -5.56181772e-02,  1.44946777e+00,\n",
       "       -4.74082295e-01, -4.17411948e-02, -3.94740392e-01, -5.11363386e-01,\n",
       "        4.81969534e-01, -1.35515284e+00, -4.24787077e-01,  9.37994010e-01,\n",
       "        2.45835174e+00,  1.08362742e+00,  7.79867545e-01,  1.68429855e-01,\n",
       "        6.06680814e-01,  1.11271538e+00,  1.30203457e+00,  6.04222626e-01,\n",
       "        2.51582680e-02,  4.23333241e-02, -3.22966891e-01,  2.02398906e+00,\n",
       "       -2.22270400e+00, -2.58816213e-01, -1.72878718e+00, -9.68208463e-03,\n",
       "        2.02416340e-01, -7.89528587e-01, -2.24299583e-01, -1.16197134e+00,\n",
       "       -4.98857189e-01, -9.41277403e-01,  6.85961371e-02,  4.51710061e-02,\n",
       "       -2.91401439e-02,  3.83603528e-01,  1.68100146e+00,  4.04984156e-01,\n",
       "       -1.08284066e-01,  1.46485469e+00, -2.78078793e-01, -1.19167998e-01,\n",
       "       -5.42296864e-01,  2.70876632e-01, -5.28111836e-01,  8.01026394e-02,\n",
       "       -2.25430535e-01,  3.41234673e-01,  1.80755986e+00,  1.28432518e-01,\n",
       "        3.64435437e-01,  2.50669252e-01,  1.47825817e+00,  5.67999353e-01,\n",
       "       -9.39153330e-01,  9.95980565e-01, -1.41207397e+00,  7.93241778e-02,\n",
       "       -1.89922332e+00,  1.11262086e+00, -8.13020212e-01,  1.00685558e+00,\n",
       "        1.61679568e+00,  6.60264249e-01, -7.10035667e-01,  1.76850679e-01,\n",
       "        8.98629069e-01, -7.95829184e-01, -2.79680649e-01, -9.79902311e-01,\n",
       "       -1.60776667e+00,  3.73793065e-01,  9.39616914e-01,  7.05052470e-01,\n",
       "        5.11501550e-01, -1.60042587e-01, -1.30447855e-01, -9.53155750e-01,\n",
       "       -1.49854737e-01,  5.16028770e-01, -1.52999706e+00,  2.22244018e-01,\n",
       "        1.92909564e+00, -5.83745213e-02,  6.42393828e-01,  5.00224553e-01,\n",
       "        5.21637502e-01, -2.39279878e+00,  1.15832007e+00,  5.39009070e-01,\n",
       "       -6.10559809e-02, -8.60360976e-01,  2.69564041e-01,  2.30405065e+00,\n",
       "       -2.02943989e-01,  1.09154474e+00, -6.14846756e-01, -1.18580627e+00,\n",
       "       -1.23539763e+00,  1.05958224e+00,  1.38046809e+00,  1.40457787e+00,\n",
       "       -4.05440922e-01, -2.24975385e-01, -4.17779204e-01, -1.98852053e+00,\n",
       "        2.58257897e-01,  6.41999269e-01, -1.48075418e+00,  2.04328111e+00,\n",
       "       -2.87285724e-01,  1.96947510e+00,  1.53667646e-01, -3.11716577e-01,\n",
       "        1.80436870e-02, -8.22639750e-01,  5.10712701e-01,  1.83855931e+00,\n",
       "       -1.17201181e+00,  6.05941076e-01,  1.56199430e-01, -2.22004562e-01,\n",
       "        1.86712677e-01,  1.20885234e+00, -2.48152707e-02,  1.36029690e-02,\n",
       "        1.03709879e+00,  9.55143182e-01,  1.29675156e-01, -1.76247860e+00,\n",
       "       -8.30857414e-01, -1.44154529e+00, -1.96473220e+00,  9.33160655e-01,\n",
       "       -7.74566405e-01,  4.23696681e-01,  4.36300380e-02,  2.89519269e+00,\n",
       "        8.66245329e-01, -1.05085284e+00, -2.26668242e-01,  1.00260021e+00,\n",
       "       -1.14585362e+00, -6.42078513e-01, -7.17581907e-01,  9.79398984e-01,\n",
       "       -1.12037171e+00,  2.15577831e+00, -1.51261841e+00,  4.61149121e-01,\n",
       "       -1.01496521e+00,  8.39963668e-01,  1.48686442e+00, -1.63385797e+00,\n",
       "       -2.76545107e-01,  8.99826024e-01, -8.54753586e-01, -2.02751599e+00,\n",
       "       -5.47801877e-01, -2.06073629e-01, -1.52256111e+00, -9.24238131e-01,\n",
       "        1.45461024e-01, -4.15834549e-01,  3.98587320e-01,  1.19378956e+00,\n",
       "       -1.28108481e+00,  2.85483925e-01,  4.80008877e-01, -5.67973124e-01,\n",
       "        9.89781814e-02,  8.47011089e-01, -1.20801191e+00, -1.18097826e+00,\n",
       "        5.25134088e-01, -5.61866279e-01, -5.82171784e-01, -1.35350327e+00,\n",
       "       -9.97831564e-01, -2.13869887e+00, -2.87691303e-03,  1.19882689e+00,\n",
       "       -7.60483469e-01,  1.40043441e+00,  1.35689531e-01,  7.57070983e-01,\n",
       "        7.62578495e-02, -1.19442787e+00,  1.04077647e-01,  6.12391119e-01,\n",
       "       -1.27324577e+00,  5.28109865e-01,  7.38489416e-01,  6.79706593e-01,\n",
       "        1.32469003e+00,  2.06103869e-01, -3.35773901e-01, -2.28834122e+00,\n",
       "        8.09136787e-01,  5.28470913e-01,  6.58736190e-01,  8.89886115e-01,\n",
       "        8.49328467e-01,  1.31085617e-01, -1.00009596e+00,  5.28216239e-01,\n",
       "        8.14300147e-01, -7.78682944e-01, -1.33266092e+00, -2.19169500e+00,\n",
       "       -1.55095219e+00, -5.54689124e-01, -1.62936411e+00,  5.80783904e-01,\n",
       "       -1.72774353e+00,  5.87352316e-01,  2.29538040e-01,  6.64471700e-01,\n",
       "       -1.03052823e+00, -1.25626039e+00, -1.17999820e+00,  1.00823110e+00,\n",
       "        2.61212949e+00, -8.59752063e-01, -1.25820947e+00, -1.06132555e+00,\n",
       "       -1.67314286e-01,  2.09275297e+00, -7.33258186e-01, -1.46615331e+00,\n",
       "        1.46551534e+00, -9.19600990e-01,  8.17405029e-01,  2.38180519e+00,\n",
       "        5.67474572e-01, -1.11692195e+00, -1.62732942e+00, -1.76181113e-01,\n",
       "        1.65166744e+00,  6.46008648e-01, -7.09135253e-01, -4.01589332e-03,\n",
       "       -1.25808560e+00,  9.25704582e-01,  1.43321145e+00,  9.96851854e-02,\n",
       "       -2.27562724e-01,  1.82830345e-01,  7.18504781e-01,  1.33494037e-01,\n",
       "       -7.66205616e-01,  3.49297417e-01, -1.66369638e+00,  8.30329419e-01,\n",
       "       -1.11121667e+00, -3.20237278e-01, -2.84451291e-02, -1.97366274e-01,\n",
       "        8.40959890e-01, -7.59934947e-01,  2.50032968e-01, -8.73156570e-01,\n",
       "        7.85884520e-01,  1.10874746e+00, -1.39107540e+00,  1.25922762e+00,\n",
       "        2.19598116e-01, -9.18779525e-01,  1.82063356e-01,  1.55053006e+00,\n",
       "       -2.11581398e+00, -7.61480483e-01,  5.82935709e-01, -1.14998120e+00,\n",
       "        1.67108379e+00, -1.65743986e-01, -1.50553693e+00, -1.62810039e-01,\n",
       "        1.97915835e-01,  1.68480612e+00, -3.39769989e-01,  8.82433107e-01,\n",
       "       -1.50299255e-01,  4.21403852e-01, -8.79603773e-02,  4.89605077e-01,\n",
       "       -3.94481586e-02, -1.47020657e+00,  1.54695129e-01, -1.04025805e+00,\n",
       "       -2.15208034e-02, -9.73892188e-01, -7.43694158e-01, -3.96402343e-01,\n",
       "       -2.01286731e-01, -2.83043913e-01,  5.15675603e-01, -1.81823510e+00,\n",
       "        7.50187961e-01, -3.09279875e+00,  8.94481121e-01, -5.66227265e-01,\n",
       "       -9.09230210e-01,  7.49647278e-01, -1.16785432e+00,  1.69848710e+00,\n",
       "        3.33237503e-01, -7.87904382e-01,  9.77034198e-01, -5.12322283e-01,\n",
       "        4.21795730e-01,  2.09879722e+00,  2.22203254e-01, -1.90507401e-01,\n",
       "        4.63529294e-01,  1.00777531e+00, -1.02354422e+00,  1.98630045e-03,\n",
       "        7.82144286e-01,  2.79631053e-01,  2.23367098e-01,  1.69346431e-01,\n",
       "       -7.06197771e-01, -9.51580061e-01, -2.60508695e+00,  6.18063591e-01,\n",
       "       -8.87691603e-01, -1.49371061e+00, -4.16955669e-01,  3.37278194e-01,\n",
       "       -1.34823244e+00,  3.85677731e-01,  1.52636653e+00, -6.24456470e-01,\n",
       "       -7.07761446e-01, -9.36839033e-01,  2.50562866e-01,  1.91196774e-01,\n",
       "       -9.51573128e-01,  8.64904234e-02, -3.14129755e-03,  1.06545960e+00,\n",
       "        2.31590787e-01,  1.05402794e+00, -7.70084379e-01,  1.72413153e+00,\n",
       "       -4.63947799e-01,  3.84611842e-01,  1.22724925e-01, -1.33427902e-01,\n",
       "       -1.12283323e-01, -6.88763771e-01, -1.57582180e+00,  1.40153870e+00,\n",
       "       -3.13207568e-01, -8.20751342e-01,  9.44910414e-02,  1.09238556e+00,\n",
       "        1.38199828e-01, -5.56845878e-02,  7.66213333e-01,  1.94753737e+00,\n",
       "       -8.43107872e-01,  8.24496811e-01,  6.94668069e-01, -2.06806779e+00,\n",
       "       -7.31708225e-01, -1.96447299e-01, -1.91936445e-01, -2.27103957e-01,\n",
       "        7.45707157e-01, -4.09226649e-01,  1.72178876e-01,  2.36150633e+00,\n",
       "        1.17426801e+00,  4.68557898e-01, -1.05237839e+00, -1.36930930e+00,\n",
       "       -1.88827236e-01, -7.78759734e-01, -2.97594898e-01,  2.51099149e-02,\n",
       "        8.80377043e-02,  9.51249651e-01, -6.97575378e-01,  7.27146859e-01,\n",
       "       -2.27055031e+00,  9.49005537e-01, -2.29737561e+00, -1.40126636e+00,\n",
       "        5.08977757e-03,  9.64682498e-01, -7.69699747e-01,  1.37662050e+00,\n",
       "       -1.54502314e+00, -2.65467283e-01, -1.76819929e-02, -8.73190489e-01,\n",
       "       -1.39662164e+00, -1.19028846e+00,  2.81105379e-02,  1.31399874e+00,\n",
       "       -4.85500999e-01, -5.08297864e-01, -4.22739407e-01,  5.38355642e-01,\n",
       "       -1.19605588e+00,  6.05403669e-01, -3.53448712e-01,  1.59698639e-01,\n",
       "       -5.01422718e-01, -1.73441567e+00, -5.67550856e-01, -2.38584947e+00,\n",
       "       -1.52636311e+00, -6.07866674e-02,  7.21710114e-01, -2.64769837e-01])"
      ]
     },
     "execution_count": 6,
     "metadata": {},
     "output_type": "execute_result"
    }
   ],
   "source": [
    "np.random.randn(1000)"
   ]
  },
  {
   "cell_type": "code",
   "execution_count": 7,
   "metadata": {},
   "outputs": [
    {
     "data": {
      "image/png": "[encoded data removed]",
      "text/plain": [
       "<Figure size 432x288 with 1 Axes>"
      ]
     },
     "metadata": {
      "needs_background": "light"
     },
     "output_type": "display_data"
    },
    {
     "data": {
      "image/png": "[encoded data removed]",
      "text/plain": [
       "<Figure size 432x288 with 1 Axes>"
      ]
     },
     "metadata": {
      "needs_background": "light"
     },
     "output_type": "display_data"
    }
   ],
   "source": [
    "# to see the difference between rand (uniform distribution) and randn (normal distribution)\n",
    "sample_size = 10000\n",
    "uniform = np.random.rand(sample_size)\n",
    "normal = np.random.randn(sample_size)\n",
    "\n",
    "pdf, bins, patches = plt.hist(uniform)\n",
    "plt.title('numpy.rand: uniform')\n",
    "plt.show()\n",
    "\n",
    "pdf, bins, patches = plt.hist(normal)\n",
    "plt.title('numpy.randn: normal')\n",
    "plt.show()"
   ]
  },
  {
   "cell_type": "markdown",
   "metadata": {},
   "source": [
    "# numpy.random.randint(low[,high, size, dtype]) \n",
    "numpy.random.randint() is one of the function for doing random sampling in numpy. It returns an array of specified shape and fills it with random integers from low (inclusive) to high (exclusive), i.e. in the interval [low, high).\n",
    "\n",
    "Syntax : numpy.random.randint(low, high=None, size=None, dtype=’l’)\n",
    "\n",
    "Parameters : \n",
    "low : [int] Lowest (signed) integer to be drawn from the distribution.But, it works as a highest integer in the sample if high=None.\n",
    "high : [int, optional] Largest (signed) integer to be drawn from the distribution.\n",
    "size : [int or tuple of ints, optional] Output shape. If the given shape is, e.g., (m, n, k), then m * n * k samples are drawn. Default is None, in which case a single value is returned.\n",
    "dtype : [optional] Desired output data-type.\n",
    "\n",
    "\n",
    "\n",
    " \n",
    "\n",
    "Return : Array of random integers in the interval [low, high) or a single such random int if size not provided.\n",
    "\n",
    " \n",
    "out_arr = geek.random.randint(low = 0, high = 3, size = 5) \n",
    "print (\"Output 1D Array filled with random integers : \", out_arr)  \n",
    "Output :\n",
    "Output 1D Array filled with random integers :  [1 1 0 1 1]\n",
    " \n",
    "\n",
    "\n",
    "out_arr = geek.random.randint(low = 4, size =(2, 3)) \n",
    "print (\"Output 2D Array filled with random integers : \", out_arr)  \n",
    "Output :\n",
    "Output 2D Array filled with random integers :  [[1 1 0]\n",
    " [1 0 3]]\n",
    " \n",
    "\n",
    "out_arr = geek.random.randint(2, 10, (2, 3, 4)) \n",
    "print (\"Output 3D Array filled with random integers : \", out_arr)  \n",
    "Output :\n",
    "Output 3D Array filled with random integers :  [[[4 8 5 7]\n",
    "  [6 5 6 7]\n",
    "  [4 3 4 3]]\n",
    "\n",
    " [[2 9 2 2]\n",
    "  [3 2 2 3]\n",
    "  [6 8 3 2]]]\n",
    "\n",
    "\n"
   ]
  },
  {
   "cell_type": "code",
   "execution_count": 8,
   "metadata": {},
   "outputs": [
    {
     "data": {
      "text/plain": [
       "14"
      ]
     },
     "execution_count": 8,
     "metadata": {},
     "output_type": "execute_result"
    }
   ],
   "source": [
    "np.random.randint(5,15) # generate a random number between 5 - 14"
   ]
  },
  {
   "cell_type": "code",
   "execution_count": 9,
   "metadata": {},
   "outputs": [
    {
     "data": {
      "text/plain": [
       "array([ 9, 14, 14,  8, 14])"
      ]
     },
     "execution_count": 9,
     "metadata": {},
     "output_type": "execute_result"
    }
   ],
   "source": [
    "np.random.randint(5,15,5) # generate an array of 5 random numbers between values 5- 14 (inclusive)"
   ]
  },
  {
   "cell_type": "code",
   "execution_count": 10,
   "metadata": {},
   "outputs": [
    {
     "data": {
      "text/plain": [
       "array([[11,  6, 13,  5, 14],\n",
       "       [ 9,  8, 14,  6,  9],\n",
       "       [11,  8,  5, 14, 13],\n",
       "       [ 6, 11, 11,  6,  7],\n",
       "       [ 5, 12,  5, 14, 13]])"
      ]
     },
     "execution_count": 10,
     "metadata": {},
     "output_type": "execute_result"
    }
   ],
   "source": [
    "np.random.randint(5,15,[5,5])# generate two dimentional array(5 x 5)of random numbers between values 5- 14 (inclusive)"
   ]
  },
  {
   "cell_type": "code",
   "execution_count": 11,
   "metadata": {},
   "outputs": [
    {
     "data": {
      "text/plain": [
       "array([[13,  5,  9, 13, 10],\n",
       "       [10, 10, 14, 10,  5],\n",
       "       [ 8,  8,  7, 14,  5],\n",
       "       [10, 14,  8,  6, 13],\n",
       "       [13, 10, 12, 12,  7]])"
      ]
     },
     "execution_count": 11,
     "metadata": {},
     "output_type": "execute_result"
    }
   ],
   "source": [
    "np.random.randint(5,15,size=(5,5))# generate two dimentional array(5 x 5)of random numbers between values 5- 14 (inclusive)"
   ]
  },
  {
   "cell_type": "markdown",
   "metadata": {},
   "source": [
    "# Permutations \n",
    "the different ways in which a collection of items can be arranged. "
   ]
  },
  {
   "cell_type": "markdown",
   "metadata": {},
   "source": [
    "# numpy.random.permutation\n",
    "numpy.random.permutation(x)\n",
    "Randomly permute a sequence, or return a permuted range.\n",
    "\n",
    "If x is an integer, randomly permute np.arange(x). If x is an array, make a copy and shuffle the elements randomly.\n",
    "If x is a multi-dimensional array, it is only shuffled along its first index."
   ]
  },
  {
   "cell_type": "code",
   "execution_count": 12,
   "metadata": {},
   "outputs": [
    {
     "data": {
      "text/plain": [
       "array([4, 5, 0, 3, 6, 1, 2, 7, 9, 8])"
      ]
     },
     "execution_count": 12,
     "metadata": {},
     "output_type": "execute_result"
    }
   ],
   "source": [
    "np.random.permutation(10) # if  give an integer than it return randomly permute np.arange(x)\n"
   ]
  },
  {
   "cell_type": "code",
   "execution_count": 13,
   "metadata": {},
   "outputs": [
    {
     "name": "stdout",
     "output_type": "stream",
     "text": [
      "[13 14  8  5  9  7  7 14]\n"
     ]
    }
   ],
   "source": [
    "a=np.random.randint(5,15,8)\n",
    "print (a)"
   ]
  },
  {
   "cell_type": "code",
   "execution_count": 14,
   "metadata": {},
   "outputs": [
    {
     "data": {
      "text/plain": [
       "array([ 7, 13, 14,  9,  5, 14,  7,  8])"
      ]
     },
     "execution_count": 14,
     "metadata": {},
     "output_type": "execute_result"
    }
   ],
   "source": [
    "np.random.permutation(a)"
   ]
  },
  {
   "cell_type": "code",
   "execution_count": 15,
   "metadata": {},
   "outputs": [
    {
     "name": "stdout",
     "output_type": "stream",
     "text": [
      "[[7 8 6 7]\n",
      " [6 9 5 7]\n",
      " [9 6 5 9]]\n"
     ]
    }
   ],
   "source": [
    "b= np.random.randint(4,10,size=(3,4))# multi dimensional array\n",
    "print(b)"
   ]
  },
  {
   "cell_type": "code",
   "execution_count": 16,
   "metadata": {},
   "outputs": [
    {
     "name": "stdout",
     "output_type": "stream",
     "text": [
      "[[7 8 6 7]\n",
      " [6 9 5 7]\n",
      " [9 6 5 9]]\n"
     ]
    }
   ],
   "source": [
    "c= np.random.permutation(b)\n",
    "print(c)"
   ]
  },
  {
   "cell_type": "markdown",
   "metadata": {},
   "source": [
    "here above its clear that rows are shuffled positons but the contents in row are not shuffled"
   ]
  },
  {
   "cell_type": "markdown",
   "metadata": {},
   "source": [
    "# numpy.random.shuffle(x)\n",
    "Modify a sequence in-place by shuffling its contents.\n",
    "Multi-dimensional arrays are only shuffled along the first axis:"
   ]
  },
  {
   "cell_type": "code",
   "execution_count": 17,
   "metadata": {},
   "outputs": [
    {
     "name": "stdout",
     "output_type": "stream",
     "text": [
      "[3 1 3 4 1 5 6 6]\n",
      "After shuffle [3 3 1 6 6 4 1 5]\n"
     ]
    }
   ],
   "source": [
    "a=np.random.randint(1,11,8)\n",
    "arr=a\n",
    "print(arr)\n",
    "np.random.shuffle(arr)\n",
    "print(\"After shuffle\",arr)"
   ]
  },
  {
   "cell_type": "code",
   "execution_count": 18,
   "metadata": {},
   "outputs": [
    {
     "ename": "TypeError",
     "evalue": "object of type 'int' has no len()",
     "output_type": "error",
     "traceback": [
      "\u001b[1;31m---------------------------------------------------------------------------\u001b[0m",
      "\u001b[1;31mTypeError\u001b[0m                                 Traceback (most recent call last)",
      "\u001b[1;32m<ipython-input-18-63c8933fbb14>\u001b[0m in \u001b[0;36m<module>\u001b[1;34m\u001b[0m\n\u001b[1;32m----> 1\u001b[1;33m \u001b[0mnp\u001b[0m\u001b[1;33m.\u001b[0m\u001b[0mrandom\u001b[0m\u001b[1;33m.\u001b[0m\u001b[0mshuffle\u001b[0m\u001b[1;33m(\u001b[0m\u001b[1;36m10\u001b[0m\u001b[1;33m)\u001b[0m\u001b[1;31m# shuffle only works on sequences unlike permutation where if  give an integer than it return randomly permute np.arange(x)\u001b[0m\u001b[1;33m\u001b[0m\u001b[1;33m\u001b[0m\u001b[0m\n\u001b[0m",
      "\u001b[1;32mmtrand.pyx\u001b[0m in \u001b[0;36mmtrand.RandomState.shuffle\u001b[1;34m()\u001b[0m\n",
      "\u001b[1;31mTypeError\u001b[0m: object of type 'int' has no len()"
     ]
    }
   ],
   "source": [
    "np.random.shuffle(10)# shuffle only works on sequences unlike permutation where if  give an integer than it return randomly permute np.arange(x)\n"
   ]
  },
  {
   "cell_type": "markdown",
   "metadata": {},
   "source": [
    "# 3. Distributions"
   ]
  },
  {
   "cell_type": "markdown",
   "metadata": {},
   "source": [
    "# 3.1 numpy.random.standard_normal\n",
    "\n",
    "<br>Draw samples from a standard Normal distribution (mean=0, stdev=1).\n",
    "\n",
    "__Syntax:__ \n",
    "&nbsp;&nbsp;&nbsp;numpy.random.standard_normal(size=None)\n",
    "\n",
    "__Parameters:__ <br>\n",
    "&nbsp; &nbsp; &nbsp; &nbsp; &nbsp; __size :__ int or tuple of ints, _optional\n",
    "        <pre>Output shape. If the given shape is, e.g., (m, n, k), then m * n * k samples are drawn. \n",
    "        Default is None, in which case a single value is returned.</pre>\n",
    "\n",
    "__Returns:__\n",
    "&nbsp;  float or ndarray"
   ]
  },
  {
   "cell_type": "code",
   "execution_count": 19,
   "metadata": {},
   "outputs": [],
   "source": [
    "s = np.random.standard_normal(10000)"
   ]
  },
  {
   "cell_type": "code",
   "execution_count": 20,
   "metadata": {},
   "outputs": [
    {
     "data": {
      "text/plain": [
       "0.006681092688359082"
      ]
     },
     "execution_count": 20,
     "metadata": {},
     "output_type": "execute_result"
    }
   ],
   "source": [
    "s.mean()# mean is nearly 0 "
   ]
  },
  {
   "cell_type": "code",
   "execution_count": 21,
   "metadata": {},
   "outputs": [
    {
     "data": {
      "text/plain": [
       "1.0043902347639038"
      ]
     },
     "execution_count": 21,
     "metadata": {},
     "output_type": "execute_result"
    }
   ],
   "source": [
    "s.std()# standard deviation is nearly 1"
   ]
  },
  {
   "cell_type": "code",
   "execution_count": 22,
   "metadata": {},
   "outputs": [
    {
     "name": "stdout",
     "output_type": "stream",
     "text": [
      "[ 1.36532018  0.42991184 -0.16357301 ... -0.92054225  1.53400513\n",
      " -0.25693485]\n"
     ]
    }
   ],
   "source": [
    "print(s)"
   ]
  },
  {
   "cell_type": "code",
   "execution_count": 23,
   "metadata": {},
   "outputs": [
    {
     "data": {
      "image/png": "[encoded data removed]",
      "text/plain": [
       "<Figure size 432x288 with 1 Axes>"
      ]
     },
     "metadata": {
      "needs_background": "light"
     },
     "output_type": "display_data"
    }
   ],
   "source": [
    "plt.hist(s)\n",
    "plt.show()"
   ]
  },
  {
   "cell_type": "code",
   "execution_count": 24,
   "metadata": {},
   "outputs": [
    {
     "name": "stdout",
     "output_type": "stream",
     "text": [
      "[[[ 2.1968588   0.41546272]\n",
      "  [ 1.24171278  0.64738304]\n",
      "  [ 1.23476581 -0.50912474]\n",
      "  [ 1.06497685  1.63322991]\n",
      "  [ 0.46481599  0.02419033]\n",
      "  [-0.98191015 -0.72584531]\n",
      "  [-1.38907838  0.66110751]\n",
      "  [ 0.11300214  1.97739503]]\n",
      "\n",
      " [[ 2.23356977 -0.38460034]\n",
      "  [-0.39719726 -1.59501608]\n",
      "  [-1.85967226 -0.6465659 ]\n",
      "  [ 1.62425699  0.30522002]\n",
      "  [ 0.45715694 -0.68242661]\n",
      "  [-0.54423631 -0.18286526]\n",
      "  [-1.61512985  0.23989641]\n",
      "  [-1.67680507  1.00478851]]\n",
      "\n",
      " [[ 0.04089331 -0.4985918 ]\n",
      "  [-2.05750165 -0.84552381]\n",
      "  [-0.81718826  1.25368805]\n",
      "  [-0.30363303 -0.52700224]\n",
      "  [ 0.67465773 -1.36342217]\n",
      "  [-1.8207755  -0.0202516 ]\n",
      "  [ 0.50468202  0.84964991]\n",
      "  [ 1.39955571  0.30186409]]\n",
      "\n",
      " [[ 1.35764329 -0.38696876]\n",
      "  [ 0.21568052 -0.44949556]\n",
      "  [-1.53181037 -1.38282669]\n",
      "  [ 1.39491033  1.55579952]\n",
      "  [-1.37427543  0.68506102]\n",
      "  [-0.68987692 -2.13500654]\n",
      "  [-1.1841197   0.54245288]\n",
      "  [ 0.52082681 -1.29702872]]\n",
      "\n",
      " [[-0.97236047 -0.15910565]\n",
      "  [-0.57140906 -0.02762881]\n",
      "  [ 0.09575722  0.26868329]\n",
      "  [-0.49438661 -0.42643759]\n",
      "  [ 0.93946027 -1.25825312]\n",
      "  [-0.33208725 -1.04292119]\n",
      "  [ 2.00624923 -0.27801014]\n",
      "  [ 0.25618963 -1.9815437 ]]]\n"
     ]
    }
   ],
   "source": [
    "s1 = np.random.standard_normal(size=(5, 8, 2))\n",
    "print(s1)"
   ]
  },
  {
   "cell_type": "markdown",
   "metadata": {},
   "source": [
    "# 3.2 numpy.random.binomial\n",
    "\n",
    "Draw samples from a binomial distribution.\n",
    "\n",
    "Samples are drawn from a binomial distribution with specified parameters, n trials and p probability of success where n an integer >= 0 and p is in the interval [0,1].(n may be input as a float, but it is truncated to an integer in use)\n",
    "\n",
    "__Syntax:__    numpy.random.binomial(n, p, size=None)\n",
    "\n",
    "__Parameters:__ <p>\n",
    " &nbsp; &nbsp; &nbsp; &nbsp; &nbsp; __n :__ float (but truncated to an integer) parameter, >= 0<br> \n",
    " &nbsp; &nbsp; &nbsp; &nbsp; &nbsp; __p :__ float parameter, >= 0 and <=1 <br>\n",
    " &nbsp; &nbsp; &nbsp; &nbsp; &nbsp;  __size :__ int or tuple of ints, _optional\n",
    "\n",
    "        Output shape. If the given shape is, e.g., (m, n, k), then m * n * k samples are drawn. \n",
    "        Default is None, in which case a single value is returned.</p>\n",
    "__Returns:__ <br>\n",
    "&nbsp; &nbsp; &nbsp; &nbsp; &nbsp;  __samples__ : {ndarray, scalar}\n",
    "            where the values are all integers in [0, n].\n"
   ]
  },
  {
   "cell_type": "markdown",
   "metadata": {},
   "source": [
    "<p align=\"center\"><img src=\"images/binomial.png\"></p>"
   ]
  },
  {
   "cell_type": "markdown",
   "metadata": {},
   "source": [
    "                        source: https://docs.scipy.org/doc/numpy-1.9.0/reference/generated/numpy.random.binomial.html"
   ]
  },
  {
   "cell_type": "markdown",
   "metadata": {},
   "source": [
    "![](images/binomial.jpeg)"
   ]
  },
  {
   "cell_type": "code",
   "execution_count": 25,
   "metadata": {},
   "outputs": [
    {
     "name": "stdout",
     "output_type": "stream",
     "text": [
      "[4 4 5 5 4 6 1 2 5 4 7 8 4 8 7 6 4 4 5 4 4 6 5 5 5 2 6 5 4 6 2 2 4 7 4 7 4\n",
      " 5 5 6 4 5 7 6 7 6 6 4 6 4 6 8 6 6 2 7 7 8 3 4 5 3 6 7 6 4 6 4 5 5 3 7 6 6\n",
      " 6 5 7 8 5 5 9 6 5 9 2 5 4 6 5 5 3 3 4 3 2 4 7 7 6 3]\n"
     ]
    }
   ],
   "source": [
    "# no of trials 10\n",
    "#fair coin so probability is 50%\n",
    "# repeat the experiment 100 times\n",
    "s = np.random.binomial(10,0.5,100) # no of heads when tossing a fair coin for 10 time and repating that experiment 100 times\n",
    "print(s) "
   ]
  },
  {
   "cell_type": "code",
   "execution_count": 26,
   "metadata": {},
   "outputs": [
    {
     "data": {
      "text/plain": [
       "[0, 1, 7, 7, 22, 21, 22, 13, 5, 2]"
      ]
     },
     "execution_count": 26,
     "metadata": {},
     "output_type": "execute_result"
    }
   ],
   "source": [
    "# find the number of heads \n",
    "[np.equal(s,i).sum() for i in range(10)]"
   ]
  },
  {
   "cell_type": "code",
   "execution_count": 27,
   "metadata": {},
   "outputs": [
    {
     "name": "stdout",
     "output_type": "stream",
     "text": [
      "[0.0, 0.01, 0.07, 0.07, 0.22, 0.21, 0.22, 0.13, 0.05, 0.02]\n"
     ]
    }
   ],
   "source": [
    "#probabily of outcomes in 100 experiments that the number of heads we got\n",
    "prob= [np.equal(s,i).mean() for i in range(10)]\n",
    "print(prob)"
   ]
  },
  {
   "cell_type": "code",
   "execution_count": 28,
   "metadata": {},
   "outputs": [
    {
     "data": {
      "text/plain": [
       "Text(0, 0.5, 'Probability')"
      ]
     },
     "execution_count": 28,
     "metadata": {},
     "output_type": "execute_result"
    },
    {
     "data": {
      "image/png": "[encoded data removed]",
      "text/plain": [
       "<Figure size 432x288 with 1 Axes>"
      ]
     },
     "metadata": {
      "needs_background": "light"
     },
     "output_type": "display_data"
    }
   ],
   "source": [
    "plt.xticks(range(10))\n",
    "plt.plot(list(range(10)), prob,color='blue', marker='o')\n",
    "plt.xlabel('Number of Heads',fontsize=14)\n",
    "plt.ylabel('Probability',fontsize=14)"
   ]
  },
  {
   "cell_type": "code",
   "execution_count": 29,
   "metadata": {},
   "outputs": [],
   "source": [
    "s = np.random.binomial(6,0.167,10000)"
   ]
  },
  {
   "cell_type": "code",
   "execution_count": 30,
   "metadata": {},
   "outputs": [
    {
     "name": "stdout",
     "output_type": "stream",
     "text": [
      "[0 2 1 ... 1 1 1]\n"
     ]
    }
   ],
   "source": [
    "print(s)"
   ]
  },
  {
   "cell_type": "code",
   "execution_count": 31,
   "metadata": {},
   "outputs": [
    {
     "data": {
      "image/png": "[encoded data removed]",
      "text/plain": [
       "<Figure size 432x288 with 1 Axes>"
      ]
     },
     "metadata": {
      "needs_background": "light"
     },
     "output_type": "display_data"
    }
   ],
   "source": [
    "plt.hist(s)\n",
    "plt.show()"
   ]
  },
  {
   "cell_type": "markdown",
   "metadata": {},
   "source": [
    "# 3.3 numpy.random.chisquare\n",
    "\n",
    "Draw samples from a chi-square distribution.<br>\n",
    "When df independent random variables, each with standard normal distributions (mean 0, variance 1), are squared and summed, the resulting distribution is chi-square. This distribution is often used in hypothesis testing.\n",
    "\n",
    "__Syntax:__    numpy.random.chisquare(df, size=None)\n",
    "\n",
    "__Parameters:__ <br>\n",
    " &nbsp; &nbsp; &nbsp; &nbsp; &nbsp; __df :__  float or array_like of floats\n",
    "                                    Number of degrees of freedom, should be > 0<br> \n",
    " \n",
    " &nbsp; &nbsp; &nbsp; &nbsp; &nbsp;  __size :__ int or tuple of ints, _optional\n",
    "\n",
    "        Output shape. If the given shape is, e.g., (m, n, k), then m * n * k samples are drawn. If size is None (default), a single value is returned if df is a scalar. Otherwise, np.array(df).size samples are drawn </p>\n",
    "__Returns:__ <br>\n",
    "&nbsp; &nbsp; &nbsp; &nbsp; &nbsp;  __samples__ : {ndarray, scalar}\n",
    "            Drawn samples from the parameterized chi-square distribution.\n",
    "\n"
   ]
  },
  {
   "attachments": {},
   "cell_type": "markdown",
   "metadata": {},
   "source": [
    "<p align=\"center\"><img src=\"images/chisquare.png\"></p>"
   ]
  },
  {
   "cell_type": "markdown",
   "metadata": {},
   "source": [
    "The chi-square distribution has the following properties:\n",
    "\n",
    "The mean of the distribution is equal to the number of degrees of freedom.\n",
    "As the degrees of freedom increase, the chi-square curve approaches a normal distribution."
   ]
  },
  {
   "cell_type": "code",
   "execution_count": null,
   "metadata": {},
   "outputs": [],
   "source": [
    "c =np.random.chisquare(2,4)\n",
    "print(c)"
   ]
  },
  {
   "cell_type": "code",
   "execution_count": null,
   "metadata": {},
   "outputs": [],
   "source": [
    "c.mean()"
   ]
  },
  {
   "cell_type": "code",
   "execution_count": null,
   "metadata": {},
   "outputs": [],
   "source": [
    "c.std()"
   ]
  },
  {
   "cell_type": "code",
   "execution_count": null,
   "metadata": {},
   "outputs": [],
   "source": [
    "#https://medium.com/@successmagnum/python-data-science-tutorial-set-4-7122e1f62c93\n",
    "from scipy import stats\n",
    "import numpy as np\n",
    "import matplotlib.pyplot as plt\n",
    "x = np.linspace(0, 10, 100)\n",
    "fig,ax = plt.subplots(1,1)\n",
    "linestyles = [':', '--', '-.', '-']\n",
    "deg_of_freedom = [1, 4, 7, 10]\n",
    "for df, ls in zip(deg_of_freedom, linestyles):\n",
    "  ax.plot(x, stats.chi2.pdf(x, df), linestyle=ls)\n",
    "plt.xlim(0, 10)\n",
    "plt.ylim(0, 0.4)\n",
    "plt.xlabel('Value')\n",
    "plt.ylabel('Frequency')\n",
    "plt.title('Chi-Square Distribution')\n",
    "plt.legend(deg_of_freedom)\n",
    "plt.show()"
   ]
  },
  {
   "cell_type": "code",
   "execution_count": null,
   "metadata": {},
   "outputs": [],
   "source": [
    "s=np.random.chisquare(6,50)\n",
    "   \n",
    "print(s)\n",
    "print(\"Mean\",s.mean())"
   ]
  },
  {
   "cell_type": "markdown",
   "metadata": {},
   "source": [
    "# 3.4 numpy.random.f\n",
    "\n",
    "Draw samples from an F distribution.\n",
    "\n",
    "Samples are drawn from an F distribution with specified parameters, dfnum (degrees of freedom in numerator) and dfden (degrees of freedom in denominator), where both parameters should be greater than zero.\n",
    "\n",
    "The random variate of the F distribution (also known as the Fisher distribution) is a continuous probability distribution that arises in ANOVA tests, and is the ratio of two chi-square variates.\n",
    "\n",
    "__Syntax :__ numpy.random.f(dfnum, dfden, size=None)\n",
    "\n",
    "__Parameters:__\t\n",
    "&nbsp; &nbsp; &nbsp; &nbsp; &nbsp;__dfnum :__ float or array_like of floats Degrees of freedom in numerator, should be > 0.\n",
    "\n",
    "&nbsp; &nbsp; &nbsp; &nbsp; &nbsp;__dfden :__ float or array_like of float Degrees of freedom in denominator, should be > 0.\n",
    "\n",
    "&nbsp; &nbsp; &nbsp; &nbsp; &nbsp;__size :__ int or tuple of ints, optional\n",
    "Output shape. If the given shape is, e.g., (m, n, k), then m * n * k samples are drawn. If size is None (default), a single value is returned if dfnum and dfden are both scalars. Otherwise, np.broadcast(dfnum, dfden).size samples are drawn.\n",
    "\n",
    "__Return :__ &nbsp; &nbsp; &nbsp; &nbsp; &nbsp;ndarray or scalar\n",
    "    &nbsp; *Drawn samples from the parameterized Fisher distribution*"
   ]
  },
  {
   "cell_type": "markdown",
   "metadata": {},
   "source": [
    "An example from Glantz[1], pp 47-40:\n",
    "\n",
    "Two groups, children of diabetics (25 people) and children from people without diabetes (25 controls).\n",
    "Fasting blood glucose was measured, case group had a mean value of 86.1, controls had a mean value of 82.2. \n",
    "Standard deviations were 2.09 and 2.49 respectively. \n",
    "Are these data consistent with the null hypothesis that the parents diabetic status does not affect their children’s blood glucose levels? \n",
    "Calculating the F statistic from the data gives a value of 36.01.\n",
    "\n",
    "Draw samples from the distribution:"
   ]
  },
  {
   "cell_type": "code",
   "execution_count": null,
   "metadata": {},
   "outputs": [],
   "source": [
    "dfnum = 1  # between group degrees of freedom\n",
    "dfden = 48  # within groups degrees of freedom\n",
    "s = np.random.f(dfnum, dfden, 1000)"
   ]
  },
  {
   "cell_type": "code",
   "execution_count": null,
   "metadata": {},
   "outputs": [],
   "source": [
    "np.sort(s)[-10]"
   ]
  },
  {
   "cell_type": "markdown",
   "metadata": {},
   "source": [
    "So there is about a 1% chance that the F statistic will exceed 6.22, the measured value is 36, so the null hypothesis is rejected at the 1% level."
   ]
  },
  {
   "cell_type": "code",
   "execution_count": null,
   "metadata": {},
   "outputs": [],
   "source": [
    "plt.hist(s)\n",
    "\n",
    "#plt.plot(s)\n"
   ]
  },
  {
   "cell_type": "markdown",
   "metadata": {},
   "source": [
    "# 3.5 numpy.random.exponential\n",
    "\n",
    "Draw samples from an exponential distribution.\n",
    "\n",
    "__Syntax :__ numpy.random.exponential(scale=1.0, size=None)\n",
    "\n",
    "__Parameters:__\t\n",
    "&nbsp; &nbsp; &nbsp; &nbsp; &nbsp;__scale:__ float or array_like of floats Degrees of freedom in numerator, should be > 0.\n",
    "\n",
    "\n",
    "&nbsp; &nbsp; &nbsp; &nbsp; &nbsp;__size :__ int or tuple of ints, optional\n",
    "Output shape. If the given shape is, e.g., (m, n, k), then m * n * k samples are drawn. If size is None (default), a single value is returned if scale is a scalar. Otherwise, np.array(scale).size samples are drawn.\n",
    "\n",
    "__Returns :__ &nbsp; &nbsp; &nbsp; &nbsp; &nbsp;ndarray or scalar\n",
    "    &nbsp;  *Drawn samples from the parameterized exponential distribution* <br>\n",
    "\n",
    "Its probability density function is\n",
    "\n",
    "f(x; \\frac{1}{\\beta}) = \\frac{1}{\\beta} \\exp(-\\frac{x}{\\beta}),\n",
    "\n",
    "for x > 0 and 0 elsewhere. \\beta is the scale parameter, which is the inverse of the rate parameter \\lambda = 1/\\beta. The rate parameter is an alternative, widely used parameterization of the exponential distribution [3].\n",
    "\n",
    "The exponential distribution is a continuous analogue of the geometric distribution. It describes many common situations, such as the size of raindrops measured over many rainstorms [1], or the time between page requests to Wikipedia [2]."
   ]
  },
  {
   "cell_type": "code",
   "execution_count": null,
   "metadata": {},
   "outputs": [],
   "source": [
    "scale = 1\n",
    "s = np.random.exponential(scale, 1000)\n",
    "#Display the histogram of the samples, along with the probability density function:\n",
    "\n",
    "count, bins, ignored = plt.hist(s, 30, density=True)\n"
   ]
  },
  {
   "cell_type": "markdown",
   "metadata": {},
   "source": [
    "# 4. Use of seeds in generating pseudorandom numbers"
   ]
  },
  {
   "cell_type": "markdown",
   "metadata": {},
   "source": [
    "The random numbers or data generated by numpy’s random module is not truly random, it is pseudo-random.\n",
    "These “pseudo-random numbers” are generated by some kinds of deterministic algorithms. These pseudo random numbers follow some kinds of sequences.\n",
    "\n",
    "it means random number generation isn't truly \"random\". It is deterministic, and the sequence it generates is dictated by the seed value you pass.\n",
    "\n",
    "Pseudo-random number generators work by performing some operation on a value. Generally this value is the previous number generated by the generator. However, the first time you use the generator, there is no previous value.\n",
    "\n",
    "Seeding a pseudo-random number generator gives it its first \"previous\" value. Each seed value will correspond to a sequence of generated values for a given random number generator. That is, if you provide the same seed twice, you get the same sequence of numbers twice.\n",
    "\n",
    "Generally, you want to seed your random number generator with some value that will change each execution of the program. For instance, the current time is a frequently-used seed. The reason why this doesn't happen automatically is so that if you want, you can provide a specific seed to get a known sequence of numbers.\n",
    "\n",
    "What is seed?\n",
    "\n",
    "The seed during such random number generation is actually the starting point in the sequence. If we use same seed every time, it will yield same sequence of random numbers.So, same seed yields same sequence of random numbers.\n",
    "\n",
    "The same sequence generation is useful in simulation and modeling applications."
   ]
  },
  {
   "cell_type": "code",
   "execution_count": null,
   "metadata": {},
   "outputs": [],
   "source": [
    "np.random.seed(100) # Set the random seed\n",
    "print(\"Random number with seed = \", np.random.randint(1, 500))\n",
    "np.random.seed(100)# Set the random seed\n",
    "print(\"Random number with seed = \", np.random.randint(1, 500)) "
   ]
  },
  {
   "cell_type": "code",
   "execution_count": null,
   "metadata": {},
   "outputs": [],
   "source": [
    "np.random.seed(10) # Set the random seed\n",
    "print(\"Random number with seed = \", np.random.randint(1, 100, size=6))\n",
    "print(\"Random number with seed = \", np.random.randint(1, 100, size=6))\n",
    "\n",
    "np.random.seed(10) # Set the random seed\n",
    "print(\"\\nRandom number with seed = \", np.random.randint(1, 100, size=6))\n",
    "print(\"Random number with seed = \", np.random.randint(1, 100, size=6))"
   ]
  },
  {
   "cell_type": "markdown",
   "metadata": {},
   "source": [
    "as it is clear from result that seed are used to create the squence of same random numbers."
   ]
  },
  {
   "cell_type": "code",
   "execution_count": null,
   "metadata": {},
   "outputs": [],
   "source": [
    "# without seed\n",
    "print(\"Random number without seed = \", np.random.randint(1, 500))\n",
    "print(\"Random number without seed = \", np.random.randint(1, 500))"
   ]
  },
  {
   "cell_type": "code",
   "execution_count": null,
   "metadata": {
    "scrolled": true
   },
   "outputs": [],
   "source": [
    "for i in range(2):\n",
    "    np.random.seed(10)\n",
    "    for i in range(10):\n",
    "        print(np.random.randint(5,15))\n",
    "  "
   ]
  },
  {
   "cell_type": "markdown",
   "metadata": {},
   "source": [
    "# References"
   ]
  },
  {
   "cell_type": "markdown",
   "metadata": {},
   "source": [
    "1. What exactly is the function of random.seed() in python? available online at https://www.edureka.co/community/25335/what-exactly-is-the-function-of-random-seed-in-python accesssed on 05/11/2019\n",
    "2. What is seed in random number generation available online at https://www.quora.com/What-is-seed-in-random-number-generation accessed on 29/10/2019"
   ]
  },
  {
   "cell_type": "code",
   "execution_count": null,
   "metadata": {},
   "outputs": [],
   "source": []
  },
  {
   "cell_type": "code",
   "execution_count": null,
   "metadata": {},
   "outputs": [],
   "source": []
  }
 ],
 "metadata": {
  "kernelspec": {
   "display_name": "Python 3",
   "language": "python",
   "name": "python3"
  },
  "language_info": {
   "codemirror_mode": {
    "name": "ipython",
    "version": 3
   },
   "file_extension": ".py",
   "mimetype": "text/x-python",
   "name": "python",
   "nbconvert_exporter": "python",
   "pygments_lexer": "ipython3",
   "version": "3.7.1"
  }
 },
 "nbformat": 4,
 "nbformat_minor": 2
}
