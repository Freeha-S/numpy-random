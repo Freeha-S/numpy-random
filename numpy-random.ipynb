{
 "cells": [
  {
   "cell_type": "markdown",
   "metadata": {},
   "source": [
    "# numpy. random package\n",
    "This jupyter notebook contains the numpy.random package investigation as part of the Programming for Data Analysis Module of Data Analytics at GMIT.\n",
    "\n",
    "1. Explain the overall purpose of the package. \n",
    "2. Explain the use of the “Simple random data” and “Permutations” functions. \n",
    "3. Explain the use and purpose of at least ﬁve “Distributions” functions. \n",
    "4. Explain the use of seeds in generating pseudorandom numbers.\n"
   ]
  },
  {
   "cell_type": "markdown",
   "metadata": {},
   "source": [
    "# Numpy\n",
    "numpy is the fundamental python package for numerical computing. It is a general-purpose array-processing package.\n",
    "It provides a high-performance multidimensional array objects, and tools for working with these arrays. Ref(https://www.geeksforgeeks.org/numpy-in-python-set-1-introduction/)"
   ]
  },
  {
   "cell_type": "markdown",
   "metadata": {},
   "source": [
    "# 1. numpy.random\n",
    "(Random sampling)\n",
    "Computers can be used to simulate the generation of random numbers. This random numbers generation is referred to as a pseudo-random generation.  These created values are not truly \"random\" because a mathematical formula is used to generate the values.\n",
    "The random module in Numpy package contains many functions for generation of random number.\n",
    "shuffle the existing data.\n",
    "it contains functions to generate NumPy arrays of random numbers sampled from specified distributions."
   ]
  },
  {
   "cell_type": "code",
   "execution_count": 1,
   "metadata": {},
   "outputs": [],
   "source": [
    "import numpy as np #import numpy\n",
    "#import matplotlib.pyplot\n",
    "import matplotlib.pyplot as plt"
   ]
  },
  {
   "cell_type": "markdown",
   "metadata": {},
   "source": [
    "# 2. Simple Random Data"
   ]
  },
  {
   "cell_type": "markdown",
   "metadata": {},
   "source": [
    "# random.rand function\n",
    "__numpy.random.rand(d0, d1, …, dn)__\n",
    "<br>\n",
    "&nbsp;&nbsp; Create an array of the given shape and populate it with random samples from a uniform distribution over (0,1)\n",
    "\n",
    "d0, d1, …, dn .....(int)optional <br>\n",
    "&ensp; The dimensions of the returned array, should all be positive. If no argument is given a single Python float is returned.\n"
   ]
  },
  {
   "cell_type": "code",
   "execution_count": 2,
   "metadata": {},
   "outputs": [
    {
     "data": {
      "text/plain": [
       "0.041281854942513574"
      ]
     },
     "execution_count": 2,
     "metadata": {},
     "output_type": "execute_result"
    }
   ],
   "source": [
    "np.random.rand() # if no dimention is given a random float value between 0 - 1"
   ]
  },
  {
   "cell_type": "code",
   "execution_count": 3,
   "metadata": {},
   "outputs": [
    {
     "data": {
      "text/plain": [
       "array([0.85596418, 0.07710476, 0.15872467, 0.41361435, 0.5850723 ,\n",
       "       0.1172992 , 0.96763861])"
      ]
     },
     "execution_count": 3,
     "metadata": {},
     "output_type": "execute_result"
    }
   ],
   "source": [
    "np.random.rand(7)#create a one dimentional array of size 7 and each element value lie between 0 - 1"
   ]
  },
  {
   "cell_type": "code",
   "execution_count": 4,
   "metadata": {},
   "outputs": [
    {
     "data": {
      "text/plain": [
       "array([[0.5180257 , 0.83237488, 0.32652331],\n",
       "       [0.155878  , 0.85965166, 0.06056349]])"
      ]
     },
     "execution_count": 4,
     "metadata": {},
     "output_type": "execute_result"
    }
   ],
   "source": [
    "np.random.rand(2,3)# two dimentional array"
   ]
  },
  {
   "cell_type": "code",
   "execution_count": 5,
   "metadata": {},
   "outputs": [
    {
     "data": {
      "text/plain": [
       "array([[[0.5535827 , 0.12650272, 0.8666667 , 0.71066653],\n",
       "        [0.8211965 , 0.67875471, 0.2431707 , 0.76126466]],\n",
       "\n",
       "       [[0.24446594, 0.62896594, 0.57569826, 0.69908346],\n",
       "        [0.0033588 , 0.61929808, 0.39217321, 0.23646205]],\n",
       "\n",
       "       [[0.56547816, 0.85906453, 0.65343841, 0.4740536 ],\n",
       "        [0.7550437 , 0.72570262, 0.6946383 , 0.88109322]]])"
      ]
     },
     "execution_count": 5,
     "metadata": {},
     "output_type": "execute_result"
    }
   ],
   "source": [
    "np.random.rand (3,2,4) # three dimention array"
   ]
  },
  {
   "cell_type": "markdown",
   "metadata": {},
   "source": [
    "# numpy.random.randn(d0, d1, …, dn) \n",
    "   Return a sample (or samples) from the “standard normal” distribution."
   ]
  },
  {
   "cell_type": "code",
   "execution_count": 6,
   "metadata": {},
   "outputs": [
    {
     "data": {
      "text/plain": [
       "array([-1.49513774,  1.78711367, -0.15707753,  0.24951062, -1.14772838,\n",
       "        1.05208759, -0.34918377,  1.02840078,  0.25819614, -1.0968583 ,\n",
       "        2.53995427,  0.6184234 ,  0.52716508, -0.23297174, -0.60246496,\n",
       "       -0.23230867, -0.25937239, -0.5027619 , -1.06033518,  1.51702053,\n",
       "        0.60755766, -0.45519987, -0.25061484,  0.65913429, -1.88711716,\n",
       "        2.04121957,  0.3039195 , -1.71488216, -0.74896173,  0.41538142,\n",
       "        0.55872782,  0.01045496, -2.3775474 , -0.82119952,  0.43896235,\n",
       "       -0.3946983 ,  1.50372451, -2.08314775,  0.67125117, -0.22865883,\n",
       "        0.85614312, -0.52461343,  0.96798039,  0.1719731 ,  0.71273999,\n",
       "        0.12580477,  1.06474186, -1.3754629 ,  1.09210199, -0.20952406,\n",
       "       -0.97123059, -0.27441732, -1.32737691,  1.36436797,  1.09075635,\n",
       "       -0.11218487,  0.31085722, -0.29980967,  1.10710131,  0.95337336,\n",
       "        0.11320382,  0.96951769,  0.00355945,  0.52610183, -1.01100024,\n",
       "        0.67567545, -0.37624115,  1.08694093, -0.63864176, -1.6572039 ,\n",
       "       -0.95961972, -1.84616678, -0.5017743 , -2.79325766, -1.36525377,\n",
       "        0.14143506,  0.11439905,  1.62224125,  0.09403356, -0.61859844,\n",
       "        0.51480067, -2.20259322, -0.77027352,  0.20891767, -0.90030491,\n",
       "        0.94803514,  0.18033611,  0.91325118, -2.06304603, -0.15098533,\n",
       "       -0.62203142, -0.38972122,  1.59981453, -0.27572381,  0.121057  ,\n",
       "       -0.4127919 ,  0.2130732 ,  2.51867986, -0.06748806, -1.34372672,\n",
       "        1.26114833,  0.02275437,  1.28599248, -1.02167665, -0.13420426,\n",
       "        1.21974578,  0.80713098,  0.82985478, -0.02930216, -1.02886434,\n",
       "       -0.40241926, -1.35193068, -1.08305039, -0.44944865,  0.34835637,\n",
       "        0.614959  , -0.58635679,  0.44563592,  1.19055861, -1.46276886,\n",
       "        0.37828334, -2.00855364, -1.06366078, -1.41340773,  1.2056737 ,\n",
       "        0.18726376, -1.03462872,  0.1546892 ,  0.2938013 ,  0.34273634,\n",
       "        0.09288896,  0.90680202,  0.61076932, -2.64321693,  0.78680299,\n",
       "        0.53553327,  0.39451696,  0.39247654, -0.54494994, -0.23540359,\n",
       "        0.62957077, -0.02514593,  0.09358424,  0.18999028,  0.23309632,\n",
       "        1.46516584, -0.35873082, -0.32301175, -1.35240136,  1.39983585,\n",
       "       -0.54363798,  0.90114006, -0.29629459,  0.58127498,  0.74177428,\n",
       "       -2.06723346, -0.34075058, -1.21734108,  1.05671346, -0.8135833 ,\n",
       "        0.56738042, -0.12946234, -0.16003264, -1.04935098,  0.69099646,\n",
       "        0.81085381, -0.16423294, -1.44971958,  0.23319601, -0.49031589,\n",
       "        0.98882354, -0.03126387, -0.78908949,  0.53196845,  1.7236884 ,\n",
       "        0.23154587,  0.06561012,  0.73273286, -1.77223191,  0.85017684,\n",
       "        0.39350575,  1.0366888 , -1.69627721, -1.19708979, -1.47647077,\n",
       "        0.62284668,  0.93671679,  0.27027142,  1.11654165, -0.04459943,\n",
       "        0.54642757,  0.08527174, -0.79201015,  1.17304833,  1.01066957,\n",
       "       -0.01590514,  1.56497062,  0.86151374, -0.35650474, -0.71159928,\n",
       "        1.05326041,  0.32982081, -0.84710951, -0.28736039, -0.93789414,\n",
       "       -0.17075428,  0.00938171, -0.18675045, -1.02076617, -0.59403678,\n",
       "        1.2683135 ,  1.89772975, -0.55545781, -1.66859897,  2.18233911,\n",
       "        0.34344522,  0.48335927, -0.58419733,  0.28662198,  0.22479576,\n",
       "       -1.72069077,  0.78059044,  1.31075248,  0.58010792, -0.5468411 ,\n",
       "       -0.07403183,  1.64569027,  1.36491757, -1.67432312, -1.72123268,\n",
       "       -0.51050721, -0.74161435,  0.47258455,  0.32431502, -0.60816964,\n",
       "       -0.79325975,  0.0078966 ,  0.01263465, -1.03383035, -0.54205081,\n",
       "        1.3533105 ,  1.19443739, -0.07327139, -0.91461726,  0.08757465,\n",
       "        1.01037532, -0.71083167,  0.41248538,  1.31367405,  0.31391522,\n",
       "        1.55294233, -0.64575832,  0.24298001, -1.54585709, -0.50596003,\n",
       "       -0.85477885,  0.12797232, -0.82482388,  1.71021186, -1.2824281 ,\n",
       "        0.62174025,  0.4557915 ,  0.39799479,  0.11014773,  2.34301898,\n",
       "        0.0345226 , -1.22894241,  0.95099402,  0.24593754,  1.3043499 ,\n",
       "        1.7887939 ,  0.94682182,  0.02875175,  1.1719655 ,  0.06069914,\n",
       "       -1.91467448, -1.1429422 , -1.97551571, -1.03454899,  1.51099993,\n",
       "       -1.57149256,  0.52814338, -0.80849707, -2.22323087, -0.57542838,\n",
       "       -1.60392549,  2.20288128, -1.51980282, -1.45910085, -0.1408854 ,\n",
       "        0.49707932, -1.28399277,  0.58623914,  0.69427764,  1.97115208,\n",
       "       -0.20148552, -1.09467692,  0.70355585,  0.60591688, -0.91455393,\n",
       "        0.37566655, -0.57574665,  1.25355432,  0.10485553,  1.1677646 ,\n",
       "       -1.8216577 , -0.19921418, -0.8103693 ,  0.17180838,  1.30623346,\n",
       "       -0.32965732, -0.1229477 ,  1.9108703 ,  0.0313973 , -0.36496748,\n",
       "        0.48572476, -0.58914591,  0.94108861,  0.2217563 ,  1.54613775,\n",
       "       -1.08870263,  1.05232974, -0.21889599, -1.39739711,  0.57790855,\n",
       "       -1.67407097, -1.1975793 ,  0.74099321,  0.0247369 ,  0.89667981,\n",
       "       -0.19607549,  0.85700015, -1.01277081, -0.25941897,  0.55333291,\n",
       "       -2.00475749, -0.79987149, -0.06284166, -0.85071093,  0.34081433,\n",
       "       -1.77099503,  0.06157869,  0.55048258, -0.07302412,  1.23805567,\n",
       "        0.88791425, -0.33168012, -0.77866867,  1.59895157, -0.25055177,\n",
       "        0.70015885, -0.07718737,  0.88233001,  0.15208625, -0.32320118,\n",
       "       -0.58799197, -1.3252248 , -0.13440483, -0.52834946, -1.13886768,\n",
       "       -1.02551328,  1.35800555,  0.36494992,  0.51540128,  0.2237191 ,\n",
       "       -0.59406849, -0.83148375, -0.13682684,  0.28211379,  0.14721501,\n",
       "        1.59241615, -0.64990511,  1.78292023,  0.2420446 ,  0.12752988,\n",
       "        0.11985867,  0.57188105,  0.08295282,  1.1316972 , -1.59277299,\n",
       "       -0.5735797 ,  1.01680981, -0.90533037,  0.62082447,  1.48357687,\n",
       "       -1.82329842, -0.24537854, -0.15882324, -1.41817198, -0.10636151,\n",
       "       -1.68060981,  0.1593123 , -0.0937961 , -0.6174287 , -1.28898624,\n",
       "        0.41981669, -0.7362273 , -0.40475621, -1.41583478, -0.10149671,\n",
       "        1.07396565,  0.26704517,  1.2459219 ,  0.03719068, -1.85627861,\n",
       "       -1.80255404,  1.20191376,  1.75093585, -0.93368469,  2.34819507,\n",
       "        0.78344386,  0.22280633, -1.62109204, -0.98605624, -0.99761509,\n",
       "        0.4070339 ,  0.59491517, -0.05618265,  2.04175883, -0.36650516,\n",
       "       -0.12732705,  1.03205724, -0.56971501,  0.50486502,  1.22246855,\n",
       "       -0.0654176 ,  0.56017664,  0.70045613,  1.23449432, -0.70205165,\n",
       "        0.4429747 ,  1.98217666,  0.55426566, -0.83595876, -2.01523459,\n",
       "       -0.24100412, -0.09565844, -0.06640937, -0.24860869,  1.1802485 ,\n",
       "        0.13145063, -0.1487815 ,  0.71676276,  1.4932736 , -0.51218941,\n",
       "       -0.57463066, -0.34293075, -1.69621152, -0.13864575, -1.60105576,\n",
       "       -1.21880104,  1.45562267,  0.40858036,  2.12386032,  1.39411006,\n",
       "       -0.51278272, -0.91424958,  0.7738956 , -1.32259524,  0.12553483,\n",
       "        0.22439467,  1.16504752,  0.78778221,  0.52910284, -0.16874382,\n",
       "       -0.8350335 , -0.79406843,  1.34933615,  0.02923182, -0.30765552,\n",
       "        0.95107836,  0.08232281,  0.70628535,  0.69138104, -0.05454888,\n",
       "        0.60444193, -1.85054756,  1.45871251, -0.58629768, -2.17287504,\n",
       "       -0.3668682 ,  1.04009456,  2.18437065, -1.40474761, -0.54021839,\n",
       "        1.67743315,  0.00958391,  0.4259415 , -0.46754021,  0.16745108,\n",
       "        0.22624011,  0.79344141,  0.19243045,  0.99432456,  0.86054977,\n",
       "       -0.6239819 ,  0.56565101, -0.07444617, -0.82056226,  0.45278962,\n",
       "        0.03210394,  0.55958563,  0.10977059,  0.67004063, -0.78078652,\n",
       "        0.77752297,  1.12525854,  0.92141661, -0.24175467,  1.08235365,\n",
       "        1.14324886, -0.16678097, -0.84103023,  0.28161215,  0.9881596 ,\n",
       "        0.32065244,  1.37854533,  0.5904467 , -0.45522966, -0.85368979,\n",
       "        0.31362664, -0.18084184, -0.78134008, -1.3822795 , -0.84001838,\n",
       "       -1.68218372, -0.07512203,  0.43902067,  1.1372525 , -0.20453776,\n",
       "        1.05393146,  1.07385218, -0.68605727, -1.617327  , -0.72471824,\n",
       "        0.79972317, -1.22835973,  0.44778713,  0.74475673,  0.21024071,\n",
       "       -0.5626862 , -0.11646839, -0.28221973,  1.14571014, -0.81382921,\n",
       "        0.89117689, -0.70695778, -0.37379184,  0.91114384, -0.52558091,\n",
       "       -0.36686214, -0.23154112, -0.21859421, -1.47088607, -0.51015259,\n",
       "       -0.50583279,  1.30780164,  0.41136361, -0.23126184,  0.83706996,\n",
       "       -1.90640826,  0.53496557,  1.33930967, -0.51990479,  2.26240668,\n",
       "       -0.27978599,  0.46554028,  0.74584711, -0.83391296,  1.03061741,\n",
       "        1.23122898, -0.8357397 , -0.05436807,  0.30369891, -0.37332022,\n",
       "       -0.16088257,  0.48424164,  0.22219726, -0.99717013,  0.17410612,\n",
       "        0.45153045,  0.72922037, -0.07182096, -1.30629714, -0.16147891,\n",
       "        1.00695376,  0.59913897, -1.2388605 , -0.18650234, -0.50818443,\n",
       "        1.07378936, -1.14532359,  0.2306963 , -0.6795668 , -0.49405615,\n",
       "       -1.33512787,  1.67661509,  3.25503241,  1.65846967, -1.02657682,\n",
       "        0.76776409, -0.65031165, -0.84334659, -0.82991608, -2.78608777,\n",
       "       -1.10456465,  0.31188128, -1.00494226,  1.33996316, -1.29644884,\n",
       "       -1.02373456,  0.77741243,  1.80162619, -0.19219006, -0.0506013 ,\n",
       "        1.65065617, -1.97045132,  0.96352993, -0.95440347, -0.6928921 ,\n",
       "        0.26699006,  0.8563256 , -2.59575034, -1.62932857, -0.59965992,\n",
       "       -0.04785756,  0.86872126,  0.13945519, -0.70897958, -0.10110593,\n",
       "       -0.0794236 , -0.86416346, -0.43566286, -0.94317461, -1.38917585,\n",
       "        0.44641177,  0.49410323,  0.87180181,  0.03237538,  1.32222077,\n",
       "       -2.92731579, -0.46035356, -0.52039457,  1.18496373, -1.10205104,\n",
       "        0.05565849, -1.14046679,  2.00365341, -0.92291023,  0.41210994,\n",
       "        0.91484992,  0.26575321,  0.56654763,  0.12238621,  0.92645699,\n",
       "        0.49365764, -1.86470028,  1.90141004,  0.15107095,  0.72250335,\n",
       "        0.69753179, -0.03546757,  1.27738607, -0.43493388,  0.84439684,\n",
       "       -0.31717628,  0.74937823, -0.95841424, -0.25401772,  0.44046822,\n",
       "       -0.52206416, -0.28245399, -1.46689169,  1.40402455, -0.38800576,\n",
       "       -0.84625457,  2.67264675,  0.98857448,  0.93952436, -1.14601871,\n",
       "        0.13729201, -1.06620373, -2.08654949, -0.81668807, -0.25527234,\n",
       "        0.84348772,  0.13344364, -0.42869655, -0.3256571 , -0.0434008 ,\n",
       "       -0.26765596, -0.16200278,  0.65611313, -0.28015944, -0.48653048,\n",
       "       -1.64561922,  0.55165532, -0.89233172, -1.05469125,  0.47922063,\n",
       "       -0.48862139,  0.17661934, -0.6185715 , -1.07434594,  0.57034604,\n",
       "        0.23120731,  1.05549715,  0.1516293 ,  1.30141527,  1.16225837,\n",
       "        0.65551966, -0.64910656,  0.61633856, -0.62443424,  0.21454676,\n",
       "        0.61810488, -0.87139436, -0.89859045,  1.31856923, -1.92387008,\n",
       "       -0.53874689,  0.37198032,  1.88003642,  1.01882958, -1.46243881,\n",
       "       -0.66736205, -0.49327968,  0.14095491, -1.14884672, -1.84242363,\n",
       "        0.64743097,  1.131307  ,  0.78098907, -0.52615033,  1.16173685,\n",
       "        1.08624988,  0.76548797, -1.43522292, -1.6988473 , -0.98639109,\n",
       "        0.67502569,  0.23727587, -0.88309251, -0.96409533, -0.23335071,\n",
       "       -2.24829899, -1.31628586,  0.73043591, -2.02112817, -1.75582902,\n",
       "        0.93077494, -0.74388652, -1.3902017 , -0.36437755, -1.3839031 ,\n",
       "       -0.2169178 , -0.34978305,  1.09371906,  1.15579724, -0.18654298,\n",
       "        1.17371169,  0.7266798 , -0.51925304,  1.54391252,  0.80424531,\n",
       "        1.14842519, -1.2030054 ,  1.20255924, -0.58595022,  0.28284167,\n",
       "        0.09066848,  1.17725199,  1.21202374, -0.43362671, -1.66667965,\n",
       "       -0.79840003, -0.14593932,  0.71226302,  0.25926328, -2.33556742,\n",
       "       -1.96957951,  1.12417575,  0.52116933, -0.68805893,  0.21333085,\n",
       "        0.43632956, -0.09770857,  0.38745547, -0.34904299,  0.37328452,\n",
       "        0.57615551, -1.71888433, -0.49656027,  1.5773943 , -1.03819192,\n",
       "       -1.89097579,  0.61147538, -0.60402951, -2.13167742, -0.35439169,\n",
       "        0.25161087,  0.78572202,  1.2485526 , -0.86730689,  0.25248361,\n",
       "        1.30608909,  0.08097892, -0.54933296,  0.55425483,  1.04030536,\n",
       "       -0.04718463, -0.07237532,  0.06893188, -0.8275635 , -0.21973599,\n",
       "       -0.17700392, -0.03113913, -0.7112382 ,  0.31502366, -0.26804417,\n",
       "       -0.03800329,  2.53539209, -0.21492371, -0.84660359,  0.17305047,\n",
       "       -1.3084617 ,  0.12115979,  1.44756005,  1.6161044 , -1.22774971,\n",
       "       -0.597448  , -0.15718184, -0.05306349, -0.42594467,  1.08906971,\n",
       "       -0.96713356, -0.38316778, -1.15472272,  0.84842244,  0.24210392,\n",
       "       -2.1999053 , -0.272022  ,  0.36940239,  1.47319152,  0.1202651 ,\n",
       "        0.26359957, -1.41186122, -0.53325151, -0.45678731, -0.09314309,\n",
       "        1.11513608,  0.99920123, -1.55331486,  0.15290051,  0.4491591 ,\n",
       "       -0.52159542,  3.40445611,  0.21928152, -0.59606006,  0.07880115,\n",
       "        1.83401447, -0.33589494, -1.77205273,  0.11103967, -0.34552005,\n",
       "       -0.4931004 ,  0.72750341, -1.02288106,  0.35417909,  0.62887386,\n",
       "       -0.77922541, -1.07674978,  0.42557629,  2.09257563,  1.12860036,\n",
       "        0.32031356,  0.31006318,  0.63952855, -1.64787164,  0.83417315,\n",
       "       -0.60377063, -1.29937449, -0.89357306,  1.4750972 ,  0.01066485,\n",
       "       -1.83990252, -1.29725415,  0.07724081,  0.49936521,  0.95659606,\n",
       "        1.69952229, -0.69281839,  0.31331723, -1.11362787, -0.54733964,\n",
       "        1.60787504,  0.29993997, -1.31976721,  0.05705065,  1.67637967,\n",
       "        0.73074516, -1.80594982,  1.13294104, -0.03629847,  2.03561368,\n",
       "       -0.98972969,  0.82582126, -1.32766897,  0.05629113, -0.08752656,\n",
       "        0.702668  , -0.25307076, -0.50237298, -0.21870243,  0.17029181,\n",
       "       -0.66920161,  0.90284475,  0.17706499, -0.07456949,  0.1367486 ,\n",
       "        0.39085254,  0.87277747, -0.25058728,  1.29721299,  1.54439221,\n",
       "        0.01770086,  1.17418541, -0.79754983,  1.25234684,  1.35193229,\n",
       "        0.90135286,  0.30646885, -0.57016244,  2.02881243, -0.16020454,\n",
       "       -1.77664954, -0.28171958, -0.97346163,  1.0856121 , -1.02595529,\n",
       "       -1.09997564, -0.03824895,  0.36555203,  0.49132875,  1.23885826,\n",
       "       -0.96675425,  0.29639611, -0.50682832,  1.07415512, -0.68454596,\n",
       "       -0.34946368, -0.61626116, -2.10324874,  0.49055631,  0.52957606,\n",
       "       -0.84237687, -0.85495484, -0.45666594, -1.35967859, -0.00981085,\n",
       "        0.68605611,  1.46640284, -0.06995143,  1.53243497, -1.48664071,\n",
       "       -0.09208203,  0.10760381, -1.61409431,  0.53570372, -0.08217768,\n",
       "        0.07488401,  0.87414297, -1.65196189, -0.13656172, -0.18590577,\n",
       "       -2.21216972, -1.03529804,  1.6379209 , -0.01302301, -0.29075799,\n",
       "       -1.08995105,  0.42912609,  1.12352044, -0.21965007, -0.06637273,\n",
       "        0.61211431,  1.21143439,  0.72471814,  0.58655753, -0.4162661 ,\n",
       "       -1.63542961,  1.24563159, -0.2151805 ,  0.89968845,  0.94047838,\n",
       "        1.27599305,  0.0292672 ,  0.12292306, -0.48167633, -0.45979036])"
      ]
     },
     "execution_count": 6,
     "metadata": {},
     "output_type": "execute_result"
    }
   ],
   "source": [
    "np.random.randn(1000)"
   ]
  },
  {
   "cell_type": "code",
   "execution_count": 7,
   "metadata": {},
   "outputs": [
    {
     "data": {
      "image/png": "[encoded data removed]",
      "text/plain": [
       "<Figure size 432x288 with 1 Axes>"
      ]
     },
     "metadata": {
      "needs_background": "light"
     },
     "output_type": "display_data"
    },
    {
     "data": {
      "image/png": "[encoded data removed]",
      "text/plain": [
       "<Figure size 432x288 with 1 Axes>"
      ]
     },
     "metadata": {
      "needs_background": "light"
     },
     "output_type": "display_data"
    }
   ],
   "source": [
    "# to see the difference between rand (uniform distribution) and randn (normal distribution)\n",
    "sample_size = 10000\n",
    "uniform = np.random.rand(sample_size)\n",
    "normal = np.random.randn(sample_size)\n",
    "\n",
    "pdf, bins, patches = plt.hist(uniform)\n",
    "plt.title('numpy.rand: uniform')\n",
    "plt.show()\n",
    "\n",
    "pdf, bins, patches = plt.hist(normal)\n",
    "plt.title('numpy.randn: normal')\n",
    "plt.show()"
   ]
  },
  {
   "cell_type": "markdown",
   "metadata": {},
   "source": [
    "# numpy.random.randint(low[,high, size, dtype]) \n",
    "numpy.random.randint() is one of the function for doing random sampling in numpy. It returns an array of specified shape and fills it with random integers from low (inclusive) to high (exclusive), i.e. in the interval [low, high).\n",
    "\n",
    "Syntax : numpy.random.randint(low, high=None, size=None, dtype=’l’)\n",
    "\n",
    "Parameters : \n",
    "low : [int] Lowest (signed) integer to be drawn from the distribution.But, it works as a highest integer in the sample if high=None.\n",
    "high : [int, optional] Largest (signed) integer to be drawn from the distribution.\n",
    "size : [int or tuple of ints, optional] Output shape. If the given shape is, e.g., (m, n, k), then m * n * k samples are drawn. Default is None, in which case a single value is returned.\n",
    "dtype : [optional] Desired output data-type.\n",
    "\n",
    "\n",
    "\n",
    " \n",
    "\n",
    "Return : Array of random integers in the interval [low, high) or a single such random int if size not provided.\n",
    "\n",
    " \n",
    "out_arr = geek.random.randint(low = 0, high = 3, size = 5) \n",
    "print (\"Output 1D Array filled with random integers : \", out_arr)  \n",
    "Output :\n",
    "Output 1D Array filled with random integers :  [1 1 0 1 1]\n",
    " \n",
    "\n",
    "\n",
    "out_arr = geek.random.randint(low = 4, size =(2, 3)) \n",
    "print (\"Output 2D Array filled with random integers : \", out_arr)  \n",
    "Output :\n",
    "Output 2D Array filled with random integers :  [[1 1 0]\n",
    " [1 0 3]]\n",
    " \n",
    "\n",
    "out_arr = geek.random.randint(2, 10, (2, 3, 4)) \n",
    "print (\"Output 3D Array filled with random integers : \", out_arr)  \n",
    "Output :\n",
    "Output 3D Array filled with random integers :  [[[4 8 5 7]\n",
    "  [6 5 6 7]\n",
    "  [4 3 4 3]]\n",
    "\n",
    " [[2 9 2 2]\n",
    "  [3 2 2 3]\n",
    "  [6 8 3 2]]]\n",
    "\n",
    "\n"
   ]
  },
  {
   "cell_type": "code",
   "execution_count": 8,
   "metadata": {},
   "outputs": [
    {
     "data": {
      "text/plain": [
       "13"
      ]
     },
     "execution_count": 8,
     "metadata": {},
     "output_type": "execute_result"
    }
   ],
   "source": [
    "np.random.randint(5,15) # generate a random number between 5 - 14"
   ]
  },
  {
   "cell_type": "code",
   "execution_count": 9,
   "metadata": {},
   "outputs": [
    {
     "data": {
      "text/plain": [
       "array([10, 12, 14,  8,  6])"
      ]
     },
     "execution_count": 9,
     "metadata": {},
     "output_type": "execute_result"
    }
   ],
   "source": [
    "np.random.randint(5,15,5) # generate an array of 5 random numbers between values 5- 14 (inclusive)"
   ]
  },
  {
   "cell_type": "code",
   "execution_count": 10,
   "metadata": {},
   "outputs": [
    {
     "data": {
      "text/plain": [
       "array([[14, 13,  8, 11,  8],\n",
       "       [14, 11, 12, 11, 11],\n",
       "       [ 7,  6, 14,  8, 10],\n",
       "       [ 8,  6, 12,  8, 10],\n",
       "       [ 6,  5,  6, 13,  6]])"
      ]
     },
     "execution_count": 10,
     "metadata": {},
     "output_type": "execute_result"
    }
   ],
   "source": [
    "np.random.randint(5,15,[5,5])# generate two dimentional array(5 x 5)of random numbers between values 5- 14 (inclusive)"
   ]
  },
  {
   "cell_type": "code",
   "execution_count": 11,
   "metadata": {},
   "outputs": [
    {
     "data": {
      "text/plain": [
       "array([[11, 13,  7,  5,  8],\n",
       "       [ 5,  8,  8, 12,  5],\n",
       "       [ 7, 11,  9,  7,  7],\n",
       "       [14, 13,  7,  5,  7],\n",
       "       [ 5,  7,  9, 14,  6]])"
      ]
     },
     "execution_count": 11,
     "metadata": {},
     "output_type": "execute_result"
    }
   ],
   "source": [
    "np.random.randint(5,15,size=(5,5))# generate two dimentional array(5 x 5)of random numbers between values 5- 14 (inclusive)"
   ]
  },
  {
   "cell_type": "markdown",
   "metadata": {},
   "source": [
    "# Permutations \n",
    "the different ways in which a collection of items can be arranged. "
   ]
  },
  {
   "cell_type": "markdown",
   "metadata": {},
   "source": [
    "# numpy.random.permutation\n",
    "numpy.random.permutation(x)\n",
    "Randomly permute a sequence, or return a permuted range.\n",
    "\n",
    "If x is an integer, randomly permute np.arange(x). If x is an array, make a copy and shuffle the elements randomly.\n",
    "If x is a multi-dimensional array, it is only shuffled along its first index."
   ]
  },
  {
   "cell_type": "code",
   "execution_count": 12,
   "metadata": {},
   "outputs": [
    {
     "data": {
      "text/plain": [
       "array([0, 8, 3, 5, 9, 6, 2, 1, 4, 7])"
      ]
     },
     "execution_count": 12,
     "metadata": {},
     "output_type": "execute_result"
    }
   ],
   "source": [
    "np.random.permutation(10) # if  give an integer than it return randomly permute np.arange(x)\n"
   ]
  },
  {
   "cell_type": "code",
   "execution_count": 13,
   "metadata": {},
   "outputs": [
    {
     "name": "stdout",
     "output_type": "stream",
     "text": [
      "[14  8 10 11  6 13 10 13]\n"
     ]
    }
   ],
   "source": [
    "a=np.random.randint(5,15,8)\n",
    "print (a)"
   ]
  },
  {
   "cell_type": "code",
   "execution_count": 14,
   "metadata": {},
   "outputs": [
    {
     "data": {
      "text/plain": [
       "array([10, 13, 11, 13, 14,  8, 10,  6])"
      ]
     },
     "execution_count": 14,
     "metadata": {},
     "output_type": "execute_result"
    }
   ],
   "source": [
    "np.random.permutation(a)"
   ]
  },
  {
   "cell_type": "code",
   "execution_count": 15,
   "metadata": {},
   "outputs": [
    {
     "name": "stdout",
     "output_type": "stream",
     "text": [
      "[[8 4 5 9]\n",
      " [9 6 9 8]\n",
      " [8 5 8 7]]\n"
     ]
    }
   ],
   "source": [
    "b= np.random.randint(4,10,size=(3,4))# multi dimensional array\n",
    "print(b)"
   ]
  },
  {
   "cell_type": "code",
   "execution_count": 16,
   "metadata": {},
   "outputs": [
    {
     "name": "stdout",
     "output_type": "stream",
     "text": [
      "[[8 5 8 7]\n",
      " [8 4 5 9]\n",
      " [9 6 9 8]]\n"
     ]
    }
   ],
   "source": [
    "c= np.random.permutation(b)\n",
    "print(c)"
   ]
  },
  {
   "cell_type": "markdown",
   "metadata": {},
   "source": [
    "here above its clear that rows are shuffled positons but the contents in row are not shuffled"
   ]
  },
  {
   "cell_type": "markdown",
   "metadata": {},
   "source": [
    "# numpy.random.shuffle(x)\n",
    "Modify a sequence in-place by shuffling its contents.\n",
    "Multi-dimensional arrays are only shuffled along the first axis:"
   ]
  },
  {
   "cell_type": "code",
   "execution_count": 17,
   "metadata": {},
   "outputs": [
    {
     "name": "stdout",
     "output_type": "stream",
     "text": [
      "[ 2  3  4  6  9 10  4  2]\n",
      "After shuffle [ 4  3  2  6  2 10  4  9]\n"
     ]
    }
   ],
   "source": [
    "a=np.random.randint(1,11,8)\n",
    "arr=a\n",
    "print(arr)\n",
    "np.random.shuffle(arr)\n",
    "print(\"After shuffle\",arr)"
   ]
  },
  {
   "cell_type": "code",
   "execution_count": 18,
   "metadata": {},
   "outputs": [
    {
     "ename": "TypeError",
     "evalue": "object of type 'int' has no len()",
     "output_type": "error",
     "traceback": [
      "\u001b[1;31m---------------------------------------------------------------------------\u001b[0m",
      "\u001b[1;31mTypeError\u001b[0m                                 Traceback (most recent call last)",
      "\u001b[1;32m<ipython-input-18-63c8933fbb14>\u001b[0m in \u001b[0;36m<module>\u001b[1;34m\u001b[0m\n\u001b[1;32m----> 1\u001b[1;33m \u001b[0mnp\u001b[0m\u001b[1;33m.\u001b[0m\u001b[0mrandom\u001b[0m\u001b[1;33m.\u001b[0m\u001b[0mshuffle\u001b[0m\u001b[1;33m(\u001b[0m\u001b[1;36m10\u001b[0m\u001b[1;33m)\u001b[0m\u001b[1;31m# shuffle only works on sequences unlike permutation where if  give an integer than it return randomly permute np.arange(x)\u001b[0m\u001b[1;33m\u001b[0m\u001b[1;33m\u001b[0m\u001b[0m\n\u001b[0m",
      "\u001b[1;32mmtrand.pyx\u001b[0m in \u001b[0;36mmtrand.RandomState.shuffle\u001b[1;34m()\u001b[0m\n",
      "\u001b[1;31mTypeError\u001b[0m: object of type 'int' has no len()"
     ]
    }
   ],
   "source": [
    "np.random.shuffle(10)# shuffle only works on sequences unlike permutation where if  give an integer than it return randomly permute np.arange(x)\n"
   ]
  },
  {
   "cell_type": "markdown",
   "metadata": {},
   "source": [
    "# Distribution"
   ]
  },
  {
   "cell_type": "markdown",
   "metadata": {},
   "source": [
    "# numpy.random.standard_normal\n",
    "--numpy.random.standard_normal(size=None)\n",
    "<br>Draw samples from a standard Normal distribution (mean=0, stdev=1)."
   ]
  },
  {
   "cell_type": "code",
   "execution_count": null,
   "metadata": {},
   "outputs": [],
   "source": [
    "s = np.random.standard_normal(10000)"
   ]
  },
  {
   "cell_type": "code",
   "execution_count": null,
   "metadata": {},
   "outputs": [],
   "source": [
    "s.mean()# mean is nearly 0 "
   ]
  },
  {
   "cell_type": "code",
   "execution_count": null,
   "metadata": {},
   "outputs": [],
   "source": [
    "s.std()# standard deviation is nearly 1"
   ]
  },
  {
   "cell_type": "code",
   "execution_count": null,
   "metadata": {},
   "outputs": [],
   "source": [
    "print(s)"
   ]
  },
  {
   "cell_type": "code",
   "execution_count": null,
   "metadata": {},
   "outputs": [],
   "source": [
    "plt.hist(s)\n",
    "plt.show()"
   ]
  },
  {
   "cell_type": "markdown",
   "metadata": {},
   "source": [
    "# numpy.random.binomial\n",
    "numpy.random.binomial(n, p, size=None)\n",
    "<br>Draw samples from a binomial distribution.\n",
    "\n",
    "<br>Samples are drawn from a binomial distribution with specified parameters, n trials and p probability of success where n an integer >= 0 and p is in the interval [0,1]. (n may be input as a float, but it is truncated to an integer in use)"
   ]
  },
  {
   "cell_type": "code",
   "execution_count": null,
   "metadata": {},
   "outputs": [],
   "source": [
    "# no of trials 10\n",
    "#fair coin so probability is 50%\n",
    "# repeat the experiment 100 times\n",
    "s = np.random.binomial(10,0.5,100) # no of heads when tossing a fair coin for 10 time and repating that experiment 100 times\n",
    "print(s)"
   ]
  },
  {
   "cell_type": "code",
   "execution_count": null,
   "metadata": {},
   "outputs": [],
   "source": [
    "# find the number of heads\n",
    "[np.equal(s,i).sum() for i in range(10)]"
   ]
  },
  {
   "cell_type": "code",
   "execution_count": null,
   "metadata": {},
   "outputs": [],
   "source": [
    "#probabily of outcomes in 100 experiments that the number of heads we got\n",
    "prob= [np.equal(s,i).mean() for i in range(10)]\n",
    "print(prob)"
   ]
  },
  {
   "cell_type": "code",
   "execution_count": null,
   "metadata": {},
   "outputs": [],
   "source": [
    "plt.xticks(range(10))\n",
    "plt.plot(list(range(10)), prob,color='blue', marker='o')\n",
    "plt.xlabel('Number of Heads',fontsize=14)\n",
    "plt.ylabel('Probability',fontsize=14)"
   ]
  },
  {
   "cell_type": "code",
   "execution_count": null,
   "metadata": {},
   "outputs": [],
   "source": [
    "s = np.random.binomial(6,0.167,10000)"
   ]
  },
  {
   "cell_type": "code",
   "execution_count": null,
   "metadata": {},
   "outputs": [],
   "source": [
    "print(s)"
   ]
  },
  {
   "cell_type": "code",
   "execution_count": null,
   "metadata": {},
   "outputs": [],
   "source": [
    "plt.hist(s)\n",
    "plt.show()"
   ]
  },
  {
   "cell_type": "markdown",
   "metadata": {},
   "source": [
    "# numpy.random.chisquare\n",
    "numpy.random.chisquare(df, size=None)\n",
    "<br>Draw samples from a chi-square distribution.\n",
    "\n",
    "When df independent random variables, each with standard normal distributions (mean 0, variance 1), are squared and summed, the resulting distribution is chi-square. This distribution is often used in hypothesis testing."
   ]
  },
  {
   "cell_type": "code",
   "execution_count": null,
   "metadata": {},
   "outputs": [],
   "source": [
    "np.random.chisquare(2,4)"
   ]
  },
  {
   "cell_type": "code",
   "execution_count": null,
   "metadata": {},
   "outputs": [],
   "source": [
    "#https://medium.com/@successmagnum/python-data-science-tutorial-set-4-7122e1f62c93\n",
    "from scipy import stats\n",
    "import numpy as np\n",
    "import matplotlib.pyplot as plt\n",
    "x = np.linspace(0, 10, 100)\n",
    "fig,ax = plt.subplots(1,1)\n",
    "linestyles = [':', '--', '-.', '-']\n",
    "deg_of_freedom = [1, 4, 7, 10]\n",
    "for df, ls in zip(deg_of_freedom, linestyles):\n",
    "  ax.plot(x, stats.chi2.pdf(x, df), linestyle=ls)\n",
    "plt.xlim(0, 10)\n",
    "plt.ylim(0, 0.4)\n",
    "plt.xlabel('Value')\n",
    "plt.ylabel('Frequency')\n",
    "plt.title('Chi-Square Distribution')\n",
    "plt.legend(deg_of_freedom)\n",
    "plt.show()"
   ]
  },
  {
   "cell_type": "code",
   "execution_count": null,
   "metadata": {},
   "outputs": [],
   "source": [
    "x = np.linspace(0, 50, 50)\n",
    "fig,ax = plt.subplots(1,1)\n",
    "\n",
    "plt.xlabel('Value')\n",
    "plt.ylabel('Frequency')\n",
    "plt.title('Chi-Square Distribution')\n",
    "\n",
    "s=np.random.chisquare(1, size= 50)\n",
    "   \n",
    "ax.plot(x,s)\n",
    "\n",
    "plt.show()"
   ]
  },
  {
   "cell_type": "markdown",
   "metadata": {},
   "source": [
    "# numpy.random.f\n",
    "numpy.random.f(dfnum, dfden, size=None)\n",
    "<br>Draw samples from an F distribution.\n",
    "\n",
    "Samples are drawn from an F distribution with specified parameters, dfnum (degrees of freedom in numerator) and dfden (degrees of freedom in denominator), where both parameters should be greater than zero.\n",
    "\n",
    "The random variate of the F distribution (also known as the Fisher distribution) is a continuous probability distribution that arises in ANOVA tests, and is the ratio of two chi-square variates.\n",
    "\n",
    "Parameters:\t\n",
    "dfnum : float or array_like of floats\n",
    "Degrees of freedom in numerator, should be > 0.\n",
    "\n",
    "dfden : float or array_like of float\n",
    "Degrees of freedom in denominator, should be > 0.\n",
    "\n",
    "size : int or tuple of ints, optional\n",
    "Output shape. If the given shape is, e.g., (m, n, k), then m * n * k samples are drawn. If size is None (default), a single value is returned if dfnum and dfden are both scalars. Otherwise, np.broadcast(dfnum, dfden).size samples are drawn.\n",
    "\n",
    "Returns:\t\n",
    "out : ndarray or scalar\n",
    "Drawn samples from the parameterized Fisher distribution."
   ]
  },
  {
   "cell_type": "code",
   "execution_count": null,
   "metadata": {},
   "outputs": [],
   "source": [
    "An example from Glantz[1], pp 47-40:\n",
    "\n",
    "Two groups, children of diabetics (25 people) and children from people without diabetes (25 controls).\n",
    "Fasting blood glucose was measured, case group had a mean value of 86.1, controls had a mean value of 82.2. \n",
    "Standard deviations were 2.09 and 2.49 respectively. \n",
    "Are these data consistent with the null hypothesis that the parents diabetic status does not affect their children’s blood glucose levels? \n",
    "Calculating the F statistic from the data gives a value of 36.01.\n",
    "\n",
    "Draw samples from the distribution:"
   ]
  },
  {
   "cell_type": "code",
   "execution_count": null,
   "metadata": {},
   "outputs": [],
   "source": [
    "dfnum = 1  # between group degrees of freedom\n",
    "dfden = 48  # within groups degrees of freedom\n",
    "s = np.random.f(dfnum, dfden, 1000)"
   ]
  },
  {
   "cell_type": "code",
   "execution_count": null,
   "metadata": {},
   "outputs": [],
   "source": [
    "np.sort(s)[-10]"
   ]
  },
  {
   "cell_type": "markdown",
   "metadata": {},
   "source": [
    "So there is about a 1% chance that the F statistic will exceed 6.22, the measured value is 36, so the null hypothesis is rejected at the 1% level."
   ]
  },
  {
   "cell_type": "code",
   "execution_count": null,
   "metadata": {},
   "outputs": [],
   "source": [
    "plt.hist(s)\n",
    "\n",
    "#plt.plot(s)\n"
   ]
  },
  {
   "cell_type": "markdown",
   "metadata": {},
   "source": [
    "# numpy.random.exponential\n",
    "numpy.random.exponential(scale=1.0, size=None)\n",
    "<br>Draw samples from an exponential distribution.\n",
    "\n",
    "Its probability density function is\n",
    "\n",
    "f(x; \\frac{1}{\\beta}) = \\frac{1}{\\beta} \\exp(-\\frac{x}{\\beta}),\n",
    "\n",
    "for x > 0 and 0 elsewhere. \\beta is the scale parameter, which is the inverse of the rate parameter \\lambda = 1/\\beta. The rate parameter is an alternative, widely used parameterization of the exponential distribution [3].\n",
    "\n",
    "The exponential distribution is a continuous analogue of the geometric distribution. It describes many common situations, such as the size of raindrops measured over many rainstorms [1], or the time between page requests to Wikipedia [2].\n",
    "\n",
    "Parameters:\t\n",
    "scale : float or array_like of floats\n",
    "The scale parameter, \\beta = 1/\\lambda.\n",
    "\n",
    "size : int or tuple of ints, optional\n",
    "Output shape. If the given shape is, e.g., (m, n, k), then m * n * k samples are drawn. If size is None (default), a single value is returned if scale is a scalar. Otherwise, np.array(scale).size samples are drawn.\n",
    "\n",
    "Returns:\t\n",
    "out : ndarray or scalar\n",
    "Drawn samples from the parameterized exponential distribution."
   ]
  },
  {
   "cell_type": "code",
   "execution_count": null,
   "metadata": {},
   "outputs": [],
   "source": [
    "scale = 1\n",
    "s = np.random.exponential(scale, 1000)\n",
    "#Display the histogram of the samples, along with the probability density function:\n",
    "\n",
    "count, bins, ignored = plt.hist(s, 30, density=True)\n"
   ]
  },
  {
   "cell_type": "markdown",
   "metadata": {},
   "source": [
    "# 4. Use of seeds in generating pseudorandom numbers"
   ]
  },
  {
   "cell_type": "markdown",
   "metadata": {},
   "source": [
    "The random numbers or data generated by numpy’s random module is not truly random, it is pseudo-random.\n",
    "These “pseudo-random numbers” are generated by some kinds of deterministic algorithms. These pseudo random numbers follow some kinds of sequences.\n",
    "\n",
    "it means random number generation isn't truly \"random\". It is deterministic, and the sequence it generates is dictated by the seed value you pass.\n",
    "\n",
    "Pseudo-random number generators work by performing some operation on a value. Generally this value is the previous number generated by the generator. However, the first time you use the generator, there is no previous value.\n",
    "\n",
    "Seeding a pseudo-random number generator gives it its first \"previous\" value. Each seed value will correspond to a sequence of generated values for a given random number generator. That is, if you provide the same seed twice, you get the same sequence of numbers twice.\n",
    "\n",
    "Generally, you want to seed your random number generator with some value that will change each execution of the program. For instance, the current time is a frequently-used seed. The reason why this doesn't happen automatically is so that if you want, you can provide a specific seed to get a known sequence of numbers.\n",
    "\n",
    "What is seed?\n",
    "\n",
    "The seed during such random number generation is actually the starting point in the sequence. If we use same seed every time, it will yield same sequence of random numbers.So, same seed yields same sequence of random numbers.\n",
    "\n",
    "The same sequence generation is useful in simulation and modeling applications."
   ]
  },
  {
   "cell_type": "code",
   "execution_count": 19,
   "metadata": {},
   "outputs": [
    {
     "name": "stdout",
     "output_type": "stream",
     "text": [
      "Random number with seed =  9\n",
      "Random number with seed =  9\n"
     ]
    }
   ],
   "source": [
    "np.random.seed(100) # Set the random seed\n",
    "print(\"Random number with seed = \", np.random.randint(1, 500))\n",
    "np.random.seed(100)# Set the random seed\n",
    "print(\"Random number with seed = \", np.random.randint(1, 500)) "
   ]
  },
  {
   "cell_type": "code",
   "execution_count": 20,
   "metadata": {},
   "outputs": [
    {
     "name": "stdout",
     "output_type": "stream",
     "text": [
      "Random number with seed =  [10 16 65 29 90 94]\n",
      "Random number with seed =  [30  9 74  1 41 37]\n",
      "\n",
      "Random number with seed =  [10 16 65 29 90 94]\n",
      "Random number with seed =  [30  9 74  1 41 37]\n"
     ]
    }
   ],
   "source": [
    "np.random.seed(10) # Set the random seed\n",
    "print(\"Random number with seed = \", np.random.randint(1, 100, size=6))\n",
    "print(\"Random number with seed = \", np.random.randint(1, 100, size=6))\n",
    "\n",
    "np.random.seed(10) # Set the random seed\n",
    "print(\"\\nRandom number with seed = \", np.random.randint(1, 100, size=6))\n",
    "print(\"Random number with seed = \", np.random.randint(1, 100, size=6))"
   ]
  },
  {
   "cell_type": "markdown",
   "metadata": {},
   "source": [
    "as it is clear from result that seed are used to create the squence of same random numbers."
   ]
  },
  {
   "cell_type": "code",
   "execution_count": 21,
   "metadata": {},
   "outputs": [
    {
     "name": "stdout",
     "output_type": "stream",
     "text": [
      "Random number without seed =  372\n",
      "Random number without seed =  17\n"
     ]
    }
   ],
   "source": [
    "# without seed\n",
    "print(\"Random number without seed = \", np.random.randint(1, 500))\n",
    "print(\"Random number without seed = \", np.random.randint(1, 500))"
   ]
  },
  {
   "cell_type": "code",
   "execution_count": 27,
   "metadata": {
    "scrolled": true
   },
   "outputs": [
    {
     "name": "stdout",
     "output_type": "stream",
     "text": [
      "14\n",
      "9\n",
      "5\n",
      "6\n",
      "14\n",
      "5\n",
      "6\n",
      "13\n",
      "14\n",
      "5\n",
      "14\n",
      "9\n",
      "5\n",
      "6\n",
      "14\n",
      "5\n",
      "6\n",
      "13\n",
      "14\n",
      "5\n"
     ]
    }
   ],
   "source": [
    "for i in range(2):\n",
    "    np.random.seed(10)\n",
    "    for i in range(10):\n",
    "        print(np.random.randint(5,15))\n",
    "  "
   ]
  },
  {
   "cell_type": "markdown",
   "metadata": {},
   "source": [
    "# References"
   ]
  },
  {
   "cell_type": "markdown",
   "metadata": {},
   "source": [
    "What exactly is the function of random.seed() in python? available online at https://www.edureka.co/community/25335/what-exactly-is-the-function-of-random-seed-in-python accesssed on 05/11/2019\n",
    "What is seed in random number generation available online at https://www.quora.com/What-is-seed-in-random-number-generation accessed on 29/10/2019"
   ]
  }
 ],
 "metadata": {
  "kernelspec": {
   "display_name": "Python 3",
   "language": "python",
   "name": "python3"
  },
  "language_info": {
   "codemirror_mode": {
    "name": "ipython",
    "version": 3
   },
   "file_extension": ".py",
   "mimetype": "text/x-python",
   "name": "python",
   "nbconvert_exporter": "python",
   "pygments_lexer": "ipython3",
   "version": "3.7.1"
  }
 },
 "nbformat": 4,
 "nbformat_minor": 2
}
