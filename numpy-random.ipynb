{
 "cells": [
  {
   "cell_type": "markdown",
   "metadata": {},
   "source": [
    "# numpy. random package\n",
    "This jupyter notebook contains the numpy.random package investigation as part of the Programming for Data Analysis Module of Data Analytics at GMIT."
   ]
  },
  {
   "cell_type": "code",
   "execution_count": 1,
   "metadata": {},
   "outputs": [],
   "source": [
    "import numpy as np"
   ]
  },
  {
   "cell_type": "markdown",
   "metadata": {},
   "source": [
    "# random.rand function\n",
    "__numpy.random.rand(d0, d1, …, dn)__\n",
    "<br>\n",
    "&nbsp;&nbsp; Create an array of the given shape and populate it with random samples from a uniform distribution over (0,1)\n",
    "\n",
    "d0, d1, …, dn .....(int)optional <br>\n",
    "&ensp; The dimensions of the returned array, should all be positive. If no argument is given a single Python float is returned.\n"
   ]
  },
  {
   "cell_type": "code",
   "execution_count": 6,
   "metadata": {},
   "outputs": [
    {
     "data": {
      "text/plain": [
       "0.37103626147724045"
      ]
     },
     "execution_count": 6,
     "metadata": {},
     "output_type": "execute_result"
    }
   ],
   "source": [
    "np.random.rand() # if no dimention is given a random float value between 0 - 1"
   ]
  },
  {
   "cell_type": "code",
   "execution_count": 3,
   "metadata": {},
   "outputs": [
    {
     "data": {
      "text/plain": [
       "array([0.3102102 , 0.98064643, 0.94906879, 0.23334678, 0.52969916,\n",
       "       0.02362513, 0.50369608])"
      ]
     },
     "execution_count": 3,
     "metadata": {},
     "output_type": "execute_result"
    }
   ],
   "source": [
    "np.random.rand(7)#create a one dimentional array of size 7 and each element vale lie between 0 - 1"
   ]
  },
  {
   "cell_type": "code",
   "execution_count": 4,
   "metadata": {},
   "outputs": [
    {
     "data": {
      "text/plain": [
       "array([[0.47292442, 0.43779127, 0.29507988],\n",
       "       [0.54385811, 0.44657601, 0.81208594]])"
      ]
     },
     "execution_count": 4,
     "metadata": {},
     "output_type": "execute_result"
    }
   ],
   "source": [
    "np.random.rand(2,3)# two dimentional array"
   ]
  },
  {
   "cell_type": "code",
   "execution_count": 5,
   "metadata": {},
   "outputs": [
    {
     "data": {
      "text/plain": [
       "array([[[0.5087001 , 0.41010529, 0.98303576, 0.7644716 ],\n",
       "        [0.70508132, 0.74353531, 0.02622298, 0.81092891]],\n",
       "\n",
       "       [[0.29393357, 0.15689284, 0.48013498, 0.18455235],\n",
       "        [0.97840196, 0.82819963, 0.14003826, 0.61205017]],\n",
       "\n",
       "       [[0.71869668, 0.03332611, 0.00513341, 0.76772461],\n",
       "        [0.65253493, 0.54082637, 0.37285153, 0.73080526]]])"
      ]
     },
     "execution_count": 5,
     "metadata": {},
     "output_type": "execute_result"
    }
   ],
   "source": [
    "np.random.rand (3,2,4) # three dimention array"
   ]
  },
  {
   "cell_type": "code",
   "execution_count": null,
   "metadata": {},
   "outputs": [],
   "source": []
  }
 ],
 "metadata": {
  "kernelspec": {
   "display_name": "Python 3",
   "language": "python",
   "name": "python3"
  },
  "language_info": {
   "codemirror_mode": {
    "name": "ipython",
    "version": 3
   },
   "file_extension": ".py",
   "mimetype": "text/x-python",
   "name": "python",
   "nbconvert_exporter": "python",
   "pygments_lexer": "ipython3",
   "version": "3.7.1"
  }
 },
 "nbformat": 4,
 "nbformat_minor": 2
}
