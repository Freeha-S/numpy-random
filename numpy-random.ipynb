{
 "cells": [
  {
   "cell_type": "markdown",
   "metadata": {},
   "source": [
    "# numpy. random package\n",
    "This jupyter notebook contains the numpy.random package investigation as part of the Programming for Data Analysis Module of Data Analytics at GMIT.\n",
    "\n",
    "1. Explain the overall purpose of the package. \n",
    "2. Explain the use of the “Simple random data” and “Permutations” functions. \n",
    "3. Explain the use and purpose of at least ﬁve “Distributions” functions. \n",
    "4. Explain the use of seeds in generating pseudorandom numbers.\n"
   ]
  },
  {
   "cell_type": "markdown",
   "metadata": {},
   "source": [
    "# Numpy\n",
    "numpy is the fundamental python package for numerical computing. It is a general-purpose array-processing package.\n",
    "It provides a high-performance multidimensional array objects, and tools for working with these arrays. Ref(https://www.geeksforgeeks.org/numpy-in-python-set-1-introduction/)"
   ]
  },
  {
   "cell_type": "markdown",
   "metadata": {},
   "source": [
    "# 1. numpy.random\n",
    "(Random sampling)\n",
    "Computers can be used to simulate the generation of random numbers. This random numbers generation is referred to as a pseudo-random generation.  These created values are not truly \"random\" because a mathematical formula is used to generate the values.\n",
    "The random module in Numpy package contains many functions for generation of random number.\n",
    "shuffle the existing data.\n",
    "it contains functions to generate NumPy arrays of random numbers sampled from specified distributions."
   ]
  },
  {
   "cell_type": "code",
   "execution_count": 1,
   "metadata": {},
   "outputs": [],
   "source": [
    "import numpy as np #import numpy\n",
    "#import matplotlib.pyplot\n",
    "import matplotlib.pyplot as plt"
   ]
  },
  {
   "cell_type": "markdown",
   "metadata": {},
   "source": [
    "# 2. Simple Random Data"
   ]
  },
  {
   "cell_type": "markdown",
   "metadata": {},
   "source": [
    "# random.rand function\n",
    "__numpy.random.rand(d0, d1, …, dn)__\n",
    "<br>\n",
    "&nbsp;&nbsp; Create an array of the given shape and populate it with random samples from a uniform distribution over (0,1)\n",
    "\n",
    "d0, d1, …, dn .....(int)optional <br>\n",
    "&ensp; The dimensions of the returned array, should all be positive. If no argument is given a single Python float is returned.\n"
   ]
  },
  {
   "cell_type": "code",
   "execution_count": 2,
   "metadata": {},
   "outputs": [
    {
     "data": {
      "text/plain": [
       "0.37960049606966273"
      ]
     },
     "execution_count": 2,
     "metadata": {},
     "output_type": "execute_result"
    }
   ],
   "source": [
    "np.random.rand() # if no dimention is given a random float value between 0 - 1"
   ]
  },
  {
   "cell_type": "code",
   "execution_count": 3,
   "metadata": {},
   "outputs": [
    {
     "data": {
      "text/plain": [
       "array([0.75845491, 0.63515313, 0.79539962, 0.91954421, 0.14259224,\n",
       "       0.65970427, 0.49584327])"
      ]
     },
     "execution_count": 3,
     "metadata": {},
     "output_type": "execute_result"
    }
   ],
   "source": [
    "np.random.rand(7)#create a one dimentional array of size 7 and each element value lie between 0 - 1"
   ]
  },
  {
   "cell_type": "code",
   "execution_count": 4,
   "metadata": {},
   "outputs": [
    {
     "data": {
      "text/plain": [
       "array([[0.9636007 , 0.23135294, 0.93557345],\n",
       "       [0.86635373, 0.88804432, 0.95475234]])"
      ]
     },
     "execution_count": 4,
     "metadata": {},
     "output_type": "execute_result"
    }
   ],
   "source": [
    "np.random.rand(2,3)# two dimentional array"
   ]
  },
  {
   "cell_type": "code",
   "execution_count": 5,
   "metadata": {},
   "outputs": [
    {
     "data": {
      "text/plain": [
       "array([[[0.17183274, 0.40749235, 0.16038811, 0.34072622],\n",
       "        [0.07707393, 0.82815083, 0.84207461, 0.90907244]],\n",
       "\n",
       "       [[0.04149249, 0.56617516, 0.56279929, 0.72492587],\n",
       "        [0.01958442, 0.57717788, 0.1811258 , 0.34020453]],\n",
       "\n",
       "       [[0.15493312, 0.56203248, 0.78083125, 0.0987294 ],\n",
       "        [0.72526158, 0.5408412 , 0.905077  , 0.82155225]]])"
      ]
     },
     "execution_count": 5,
     "metadata": {},
     "output_type": "execute_result"
    }
   ],
   "source": [
    "np.random.rand (3,2,4) # three dimention array"
   ]
  },
  {
   "cell_type": "markdown",
   "metadata": {},
   "source": [
    "# numpy.random.randn(d0, d1, …, dn) \n",
    "   Return a sample (or samples) from the “standard normal” distribution."
   ]
  },
  {
   "cell_type": "code",
   "execution_count": 6,
   "metadata": {},
   "outputs": [
    {
     "data": {
      "text/plain": [
       "array([-4.07626548e-01, -5.06304472e-01, -9.79869676e-01,  6.81219432e-01,\n",
       "       -8.79803536e-01,  6.33480611e-01,  1.13981920e+00,  1.04387842e+00,\n",
       "       -6.66573190e-01, -5.17466875e-01,  2.11128464e+00,  3.97813375e-01,\n",
       "       -1.61998225e+00, -6.23505448e-01,  9.86113909e-01, -1.48043406e+00,\n",
       "        1.03069510e+00, -2.26985633e+00, -1.13265547e+00,  2.80918643e-02,\n",
       "        1.08267998e+00, -1.15623127e+00,  8.40180978e-01, -1.60103830e+00,\n",
       "       -1.06150406e+00,  3.43440505e+00, -9.74868052e-01,  3.08862645e-01,\n",
       "        1.96014810e-01, -3.71038667e-01,  2.05754576e+00, -2.41318686e+00,\n",
       "       -6.70277713e-01, -6.43384502e-02, -1.28998960e+00, -1.15895736e+00,\n",
       "        1.19824053e+00, -5.90633592e-01, -6.96029852e-02,  6.33873097e-02,\n",
       "        2.11574312e+00, -2.43135122e+00,  8.80478616e-02,  1.71750174e+00,\n",
       "        1.17364607e+00, -6.24545138e-01, -1.08733446e+00, -1.83390011e-01,\n",
       "        6.94767165e-01, -9.17425616e-01, -2.89747647e-01, -5.43930163e-01,\n",
       "        1.23313416e+00,  1.55378280e+00, -1.78085318e+00,  8.41354250e-01,\n",
       "       -3.38251051e-01, -4.86863221e-01,  1.42621146e+00,  1.14552487e+00,\n",
       "       -1.88420485e+00,  1.42244508e+00, -1.26593099e+00,  1.16265816e+00,\n",
       "       -9.75995349e-01,  1.37713333e-01, -1.12735415e+00,  8.54163213e-01,\n",
       "       -1.72061732e-01, -1.85658681e+00,  3.22881988e-02,  4.11064976e-01,\n",
       "        2.10779778e-01,  3.84827326e-01, -9.70683545e-01, -1.19944777e+00,\n",
       "        1.02260126e+00,  2.18213628e-01, -1.40437364e+00, -2.07388426e+00,\n",
       "       -6.77319063e-01, -6.25702832e-01,  1.13672250e+00,  5.13392247e-01,\n",
       "       -7.38963773e-04, -4.87554582e-02, -4.49526544e-01,  1.58115579e+00,\n",
       "       -9.45237165e-01, -8.85431156e-01,  8.41051025e-01, -5.01412896e-02,\n",
       "        1.17170565e-01,  1.87911203e+00, -3.78753657e-01, -4.45445733e-01,\n",
       "        2.07393355e+00,  1.14014803e+00,  1.20280096e+00, -6.60574021e-01,\n",
       "       -7.56522781e-01,  1.50334135e-02,  4.60748570e-01,  4.32349575e-01,\n",
       "       -9.50235211e-01,  9.83754751e-01,  4.53696930e-01, -6.70493528e-02,\n",
       "       -4.24823006e-01, -1.51960705e+00,  1.53990610e-01, -8.41231175e-01,\n",
       "        3.84348119e-01,  4.49347882e-01, -7.74579158e-02, -2.57973218e+00,\n",
       "        9.12189347e-01, -8.30952371e-02, -2.13942577e-02, -1.11872445e+00,\n",
       "       -9.99282793e-01, -6.66491557e-01, -1.34253783e+00,  6.06937629e-01,\n",
       "       -2.69479003e-01,  1.22221993e+00,  1.34972040e-01,  1.31891087e+00,\n",
       "        7.72461076e-01,  4.23087303e-02,  3.61994283e-01, -6.32563265e-01,\n",
       "        3.00817989e+00, -1.02100071e+00,  2.55622504e+00,  5.19338880e-01,\n",
       "       -1.62306715e+00, -2.34715710e+00,  8.46943898e-01,  1.81840283e-01,\n",
       "       -1.59321125e-01, -5.57624317e-01, -1.61177566e+00, -4.50988607e-01,\n",
       "       -8.87218617e-01, -6.93810326e-01, -1.83557121e-01,  1.14967229e+00,\n",
       "       -1.13355017e+00,  6.40945668e-01, -2.34269738e-01, -3.87299410e-01,\n",
       "       -1.30714913e+00,  1.60986378e+00, -7.60905332e-01,  4.68467852e-01,\n",
       "        4.48126017e-01, -7.49672622e-01, -1.87279901e+00,  9.47826618e-01,\n",
       "       -9.49635718e-01, -2.98864256e-01,  1.09389226e+00,  7.49685578e-01,\n",
       "        1.73568209e+00, -4.42874155e-01,  5.84779554e-01, -3.07506547e-01,\n",
       "        2.33146854e+00, -5.73845132e-01, -3.31986133e-01, -1.48618936e+00,\n",
       "       -2.36602957e-01,  1.38873534e+00,  2.94364094e-01, -7.81816312e-01,\n",
       "       -5.47916396e-01, -6.43852039e-01, -1.49924691e+00,  8.76354930e-01,\n",
       "       -1.37448648e-01,  1.27607418e+00,  3.23541959e-01, -1.31500872e+00,\n",
       "        5.22525432e-01,  8.64792215e-01,  5.88095326e-01,  1.53442985e+00,\n",
       "        1.54946962e+00,  1.36421264e+00,  1.05028248e+00, -6.62629004e-01,\n",
       "       -1.90615708e+00, -1.09209982e+00,  2.35563883e+00, -2.16157738e-01,\n",
       "        6.66593905e-02, -1.68269486e-01, -1.95233514e+00, -2.31504314e+00,\n",
       "        1.14066891e+00, -1.41943197e+00,  3.00389564e-01, -6.66191968e-01,\n",
       "       -2.81919188e-01, -2.23752643e-01,  6.57019460e-01, -7.58006193e-01,\n",
       "       -9.65280303e-01,  3.76928390e-01,  1.00736269e-01,  9.59936603e-02,\n",
       "       -1.44771639e+00,  9.18746038e-01, -7.52512945e-02,  1.25464210e+00,\n",
       "        1.92041508e-01,  8.24703130e-02, -4.35613023e-01,  4.31854230e-01,\n",
       "       -1.27070276e+00, -3.60728301e-01, -1.78803944e-01, -8.14892848e-01,\n",
       "        7.54228398e-01,  1.86617854e+00, -2.25693270e-01, -1.72166620e-01,\n",
       "        2.05406059e+00,  1.98460699e-01,  9.76257160e-01, -6.24271354e-02,\n",
       "        5.30680773e-01, -1.69067178e+00, -2.04519406e-01, -8.53369545e-01,\n",
       "       -1.68660113e+00,  1.36225083e+00, -1.20251306e+00,  5.41498100e-01,\n",
       "       -5.18784706e-01, -1.29809636e-01, -7.84397521e-01, -1.04912244e+00,\n",
       "        6.27533174e-01, -9.42591514e-01,  1.82864241e+00,  1.47542611e+00,\n",
       "        3.10906762e-01, -2.67927574e-01, -6.54395249e-01, -4.75981168e-01,\n",
       "        4.06072923e-01,  5.29040986e-01, -2.94653658e-02, -1.03159457e+00,\n",
       "        1.54543498e-01,  1.50047089e+00, -1.15231912e+00, -8.39258506e-01,\n",
       "       -6.81778123e-01,  1.79787036e-02, -7.78774403e-01, -9.80749984e-01,\n",
       "       -1.26334817e+00,  1.71709447e-01,  3.18515499e-02,  1.52332488e+00,\n",
       "       -8.94566006e-01, -5.98228882e-01,  1.79927837e+00, -1.10194000e+00,\n",
       "        1.38239555e+00, -3.77583868e-02,  8.63032275e-01,  8.97103900e-01,\n",
       "        1.70606298e-01, -1.36988954e+00, -1.32856918e+00, -2.29365243e-01,\n",
       "       -1.78365361e+00, -1.23617843e-01,  1.56742165e+00,  1.22494155e+00,\n",
       "       -1.08264365e+00, -9.45584812e-01, -4.99186486e-01,  2.31049823e-01,\n",
       "       -5.28049398e-01, -6.61530200e-01,  8.20475167e-01, -4.49275834e-01,\n",
       "        2.40242251e-01, -3.60138980e-01, -5.85624871e-01, -1.39155690e-01,\n",
       "       -1.26208745e-01,  4.32465639e-01,  6.11769433e-01,  1.11658273e+00,\n",
       "       -1.32973077e+00, -1.03877664e+00,  8.92643973e-01, -4.81374629e-01,\n",
       "        8.88171000e-01, -1.00335183e-01,  1.09374148e+00,  3.62111291e-01,\n",
       "        7.94506840e-01, -1.22399754e+00,  8.50522724e-01, -1.12085061e+00,\n",
       "        1.26031680e+00, -1.69222804e+00,  3.26660123e-01,  1.20053726e+00,\n",
       "       -6.93522661e-01,  1.53673811e+00,  8.88518152e-01,  8.10598882e-01,\n",
       "       -4.74173828e-01,  7.75270675e-01,  1.58988106e+00,  4.56915117e-01,\n",
       "       -1.52041449e+00, -3.31285933e-01, -9.27867157e-01, -1.00112058e+00,\n",
       "       -3.76256358e-01, -1.43995040e+00, -9.72058247e-01, -2.83406383e-01,\n",
       "        1.02237584e+00, -5.47289029e-01,  1.51105648e+00,  1.49169760e-01,\n",
       "        2.06802133e-01, -1.44689759e+00, -1.23705476e+00,  1.40023098e+00,\n",
       "        8.12285600e-01,  1.20002305e+00, -1.62872637e+00, -8.68602810e-01,\n",
       "        1.47702917e+00,  2.72596791e-01,  1.39896056e-01,  2.89544547e-01,\n",
       "       -3.35944638e-01, -2.15464777e-01,  1.05286521e-01, -1.37231172e-01,\n",
       "        9.71933804e-01, -1.37762226e-02,  2.68538724e-01,  6.96422689e-01,\n",
       "       -1.16859430e-02,  7.49845387e-01, -2.57131824e-01, -4.51353197e-01,\n",
       "        8.83765954e-01, -3.65126615e-01, -5.26353079e-01, -8.81437516e-01,\n",
       "       -5.56999500e-01, -1.30532828e+00, -5.99665208e-01,  5.78353872e-01,\n",
       "        4.21484182e-01,  6.15750723e-02, -1.74969834e+00, -1.00169919e+00,\n",
       "       -5.80783284e-01, -1.47130076e+00,  9.84003645e-01, -1.83312900e+00,\n",
       "       -1.45434464e+00,  5.53287029e-01, -5.44618789e-01, -4.10194724e-01,\n",
       "        3.87601377e-01,  3.01760250e-02,  2.02748752e+00,  3.58116879e-01,\n",
       "        1.46858776e-01, -2.05790208e-01,  9.95554954e-01,  1.26417410e+00,\n",
       "       -7.32726255e-01, -1.40326428e+00,  4.03027010e-01, -6.86244458e-01,\n",
       "        5.97100516e-01, -1.36424011e-01,  1.00309489e+00,  5.11291475e-01,\n",
       "       -1.21195251e+00,  1.72246262e+00, -3.25529757e-01, -5.42109993e-01,\n",
       "        1.27269861e+00,  2.20743619e+00, -6.32871938e-01,  7.80297251e-01,\n",
       "       -6.76216166e-01, -5.88019911e-02, -3.23616124e-01, -7.39879522e-01,\n",
       "        4.14495274e-01, -1.58101086e+00,  2.53719858e-01,  1.27181671e+00,\n",
       "        5.87941846e-01, -4.17084570e-01, -1.00550339e-01, -1.05399259e+00,\n",
       "        1.47956871e-01,  9.34185113e-01,  4.63575466e-01, -4.71548387e-01,\n",
       "       -8.30805234e-01,  1.72627399e+00,  3.91880309e-01, -2.31359133e-01,\n",
       "        4.60888838e-01,  5.81790491e-01,  3.82919141e-01,  1.29568895e-01,\n",
       "        9.46820299e-01, -9.20640353e-01,  7.80458284e-01, -1.97786443e+00,\n",
       "        1.20935963e+00,  1.01630652e+00, -1.00014922e+00, -5.23618495e-01,\n",
       "        5.70295413e-01, -1.95872653e-01, -2.53699493e-01, -3.33138846e-01,\n",
       "        2.96956209e-01, -8.95513044e-01,  1.54558322e+00, -1.36906763e-01,\n",
       "       -8.13093669e-01, -8.86590880e-02,  4.15427234e-01,  5.00722540e-02,\n",
       "       -1.54074005e+00, -1.03214430e-01,  7.73510784e-01, -7.90524731e-02,\n",
       "        8.22586438e-01, -2.80249616e-01, -4.86723330e-01,  1.45294980e+00,\n",
       "        1.08683632e-02,  1.03776659e+00, -6.47816428e-01, -4.48243413e-01,\n",
       "       -1.92143791e-01,  1.34356335e+00, -3.47633772e-01, -9.29860526e-02,\n",
       "       -4.61796483e-01, -5.28437531e-01,  1.12706377e+00,  6.59633047e-01,\n",
       "        1.43581458e+00,  1.28596394e+00, -8.04232680e-01, -8.78919228e-01,\n",
       "       -1.07624004e+00, -5.95837053e-01,  3.31969701e-01, -6.07451790e-01,\n",
       "       -4.58282629e-01,  8.67147106e-01,  9.04423559e-02,  6.23100446e-01,\n",
       "        2.67216407e-01,  5.35095344e-01, -5.03305543e-02,  2.62273202e+00,\n",
       "       -8.23677013e-01, -3.35720506e-01,  8.37802074e-01,  1.09903064e+00,\n",
       "        9.86623498e-02, -1.27473145e+00, -4.70130801e-02, -1.48066578e+00,\n",
       "        1.24153855e+00, -1.01749370e+00, -4.15971825e-02,  1.64688887e+00,\n",
       "       -9.66204693e-01, -2.16029465e+00, -7.23513234e-01,  5.24108686e-01,\n",
       "       -6.57744889e-01,  2.97412057e-01,  5.91857894e-01,  8.98735559e-01,\n",
       "        3.65215777e-01, -1.94888951e-01, -6.08273085e-01, -1.67677821e+00,\n",
       "        1.29629748e+00,  4.21093829e-01, -6.08865578e-01, -2.92612322e-01,\n",
       "        7.73773428e-01,  7.85154144e-01, -2.12909880e-01,  6.29921171e-02,\n",
       "        1.18777150e+00,  4.43846915e-01,  2.32307892e-02,  1.07383271e-01,\n",
       "       -6.42098091e-01, -8.00171360e-01, -3.04905971e-01,  1.79316957e+00,\n",
       "       -8.41582154e-02, -4.04691572e-01, -7.65254784e-01, -1.89443442e+00,\n",
       "        2.86704960e-01, -2.18968601e-03, -1.31750051e+00,  2.61664550e+00,\n",
       "        3.51882110e-01, -1.83357895e+00,  2.67866499e-01,  3.53493399e-01,\n",
       "        6.57266763e-01, -1.04806970e+00, -6.29609842e-02, -9.67066649e-01,\n",
       "       -2.89070454e-01,  1.50401579e+00,  7.41059813e-01,  1.73305166e+00,\n",
       "        2.26862115e-02, -2.10204827e+00, -1.79312157e+00, -2.10957897e+00,\n",
       "       -7.90499615e-01,  3.84509624e-01, -5.94960453e-01, -2.79923990e-01,\n",
       "        2.12904018e+00, -4.43581112e-01, -2.86268237e-01, -1.45602850e+00,\n",
       "       -1.39934919e+00,  4.25796953e-02,  2.11846136e+00,  8.35948221e-01,\n",
       "       -3.62526124e-01, -1.01373880e+00,  1.07570398e-01,  2.36325418e+00,\n",
       "        4.97282658e-01, -5.54767465e-01,  1.59945825e+00,  3.52244824e-01,\n",
       "       -4.12456674e-01,  1.15666266e-01, -1.11053010e+00, -1.42801715e+00,\n",
       "       -2.79868399e-02, -5.33801273e-01,  1.57143240e+00, -5.29409849e-01,\n",
       "        2.30373689e-02,  8.16539775e-02, -1.93809777e+00,  1.09678376e+00,\n",
       "        1.25304027e+00, -2.35810562e-01,  1.04421884e+00,  5.13359666e-01,\n",
       "       -1.38841753e-01, -1.70646177e-01,  2.75612870e+00, -9.65202827e-01,\n",
       "       -2.87619379e-01,  1.06522679e+00, -1.99555135e-01, -2.84523138e-01,\n",
       "       -1.49978088e+00, -4.44570521e-01, -1.33635034e+00,  5.25336281e-02,\n",
       "       -8.26877800e-01,  3.03238489e+00,  9.98502300e-01, -4.19953525e-02,\n",
       "       -5.15056115e-01, -5.15839055e-01, -1.35706276e+00,  1.59767008e+00,\n",
       "        6.17907527e-01,  1.05993911e+00, -4.31842557e-01, -1.48778425e-01,\n",
       "        3.96233921e-01, -2.18920187e+00, -1.82511623e+00,  2.69535892e-01,\n",
       "       -1.28521011e+00, -2.27098023e+00, -5.27647156e-01,  2.86912975e-01,\n",
       "        3.11795791e-02,  1.60033834e+00,  9.76521806e-01,  1.28236826e+00,\n",
       "        7.99847193e-01,  7.02144916e-01,  1.35518341e+00, -4.87693751e-01,\n",
       "       -5.75912121e-02, -2.13434182e+00, -1.71590588e+00,  2.13133875e-01,\n",
       "       -4.97521476e-01, -9.57603130e-01, -8.95565143e-01,  5.50578211e-01,\n",
       "       -4.29507516e-01, -1.17131605e-01,  7.79010007e-01,  5.32626723e-01,\n",
       "        6.12573989e-01,  1.59536992e+00,  2.39404895e-01, -1.92260516e+00,\n",
       "       -1.06418543e+00,  1.75200214e-01,  3.04718649e-01, -1.48087932e+00,\n",
       "        2.81079313e-01,  3.48762612e-01,  2.81021179e-01,  5.04469223e-01,\n",
       "       -1.78733139e+00, -1.26026038e+00,  7.58481051e-01, -1.41294374e+00,\n",
       "        3.54356724e-01, -4.28161795e-01, -8.30395069e-01,  2.53204428e-01,\n",
       "        1.20983455e+00, -1.69169359e-02, -4.91923269e-01, -1.19878360e+00,\n",
       "       -2.14951530e-01,  1.18877650e+00, -2.86561162e-01, -1.28861330e+00,\n",
       "        7.68197189e-01, -5.10175678e-01,  1.11607830e-02,  9.32511333e-01,\n",
       "       -1.72701505e+00, -1.04162194e-01, -1.00841949e+00,  6.63413389e-01,\n",
       "       -8.95526596e-02,  1.82125934e-01,  1.45065155e-01,  6.24911864e-01,\n",
       "       -1.46466535e+00,  7.21794022e-01, -1.71589326e+00, -6.69813264e-01,\n",
       "       -4.85279599e-01,  1.92210542e+00,  2.22464673e+00,  1.73847939e+00,\n",
       "        7.35628207e-01, -1.62959704e-01, -2.09951283e+00,  4.12322421e-01,\n",
       "       -3.35352648e-01, -5.67270954e-01,  1.51417892e+00,  1.25819814e+00,\n",
       "        1.06435044e+00, -1.09297566e-02,  1.23230228e+00,  2.74993092e-01,\n",
       "        1.12349283e+00,  3.25916531e-01, -5.16801033e-01, -3.12454125e-01,\n",
       "       -1.45707260e+00, -4.94207079e-01, -1.40893429e+00,  1.17413726e+00,\n",
       "        1.00346476e+00,  1.25917100e-01,  8.99571359e-01, -1.91315913e+00,\n",
       "       -1.18960052e+00,  7.94415535e-01, -1.35178746e+00, -1.53552662e+00,\n",
       "       -1.65539664e+00,  5.84329145e-01,  2.82096808e+00,  9.31144809e-01,\n",
       "       -1.77536646e+00,  1.03459382e+00, -9.89186220e-02, -4.44489343e-01,\n",
       "       -9.73787916e-01, -8.45260717e-01,  4.81882218e-01,  1.43121521e+00,\n",
       "        2.19746555e+00,  1.40755608e-01, -5.19780143e-01, -4.40039495e-01,\n",
       "       -4.91420361e-01,  2.54062635e-01,  3.15755809e-01,  1.75206241e-01,\n",
       "        5.27129205e-01,  1.37965725e+00,  8.59698740e-01,  1.76581290e-01,\n",
       "        9.10229100e-02,  1.00309305e+00, -7.57523642e-01, -1.44993316e+00,\n",
       "        1.38651449e+00,  4.06133714e-01, -1.48815991e+00, -3.38439042e-01,\n",
       "       -4.37638409e-01,  1.11744032e-01, -6.26253001e-01, -5.09042224e-01,\n",
       "       -1.24462847e+00,  8.75750659e-01, -6.75641759e-01, -4.51989701e-01,\n",
       "       -1.18915568e-02, -5.35246363e-02, -1.15716482e+00, -1.52420449e+00,\n",
       "       -4.11326563e-01, -2.42858084e-01,  3.37106124e-02, -1.66698479e-02,\n",
       "        4.09773749e-01, -7.31554475e-02, -3.08556307e-01,  4.33817001e-01,\n",
       "        9.15396039e-01, -2.10441551e-01, -9.17543201e-01,  2.27872496e-02,\n",
       "       -8.58558157e-01,  1.26458071e+00, -1.31820830e-01,  1.98537993e+00,\n",
       "       -1.39100763e+00,  7.82594883e-02,  4.31322731e-01,  1.76801647e-01,\n",
       "        4.28549476e-01,  7.67275719e-01, -7.06209090e-02, -2.18165856e-02,\n",
       "       -6.49619926e-01, -1.13717744e+00,  5.90469964e-01,  2.63437528e+00,\n",
       "        2.78502711e-01, -7.48193338e-01, -8.46170118e-01,  1.23836185e+00,\n",
       "       -2.16988131e+00,  1.40797852e+00, -2.97216595e-01, -1.58624872e+00,\n",
       "        1.35806549e+00, -1.58992029e+00, -2.19425797e-01, -1.43189010e+00,\n",
       "       -1.25522425e+00, -2.87055913e-01, -5.57650105e-02, -9.41229664e-02,\n",
       "        6.03953666e-01,  7.62458876e-01,  2.06741616e-01, -4.23726736e-01,\n",
       "        1.20649024e+00,  1.24188326e+00, -1.36461247e+00,  7.33924749e-02,\n",
       "       -4.60943526e-01, -1.82321607e-01,  8.41113074e-02, -1.32051083e+00,\n",
       "        4.50875904e-01,  1.60363847e-01,  1.08959824e+00,  5.36761162e-01,\n",
       "       -2.59760474e+00, -6.38184864e-01, -5.97117385e-02, -7.71467187e-01,\n",
       "       -1.68619961e+00,  1.50310057e-01,  7.09770145e-01,  6.98320463e-01,\n",
       "        1.82123950e+00,  7.02624318e-01, -9.30733452e-02,  3.27969049e-02,\n",
       "        3.56833752e-01, -8.26339682e-01,  1.14241081e+00,  8.78133878e-01,\n",
       "        1.12487872e+00,  1.52274948e-01,  5.39688156e-01,  2.39737230e+00,\n",
       "       -8.39674565e-02,  4.23031489e-01, -6.78192228e-01, -3.42122486e-02,\n",
       "        1.03490214e+00, -1.16418311e+00, -7.35282425e-01, -2.13162434e-01,\n",
       "       -1.74173317e+00, -1.18707147e+00, -2.94843653e-01,  1.32266237e+00,\n",
       "        1.93504385e-01, -2.08779182e+00,  2.78051358e-01,  1.27402699e+00,\n",
       "        3.56030256e+00,  1.08038041e+00, -1.11910038e-01, -7.39659159e-03,\n",
       "        1.28587093e+00, -5.34805162e-01, -7.27022656e-01,  3.53518916e-01,\n",
       "        1.03250699e+00,  1.09115376e+00, -1.14854728e+00,  7.20322170e-01,\n",
       "        6.70754098e-01,  7.39503405e-01,  1.18870216e-01,  2.23065000e+00,\n",
       "       -4.48373016e-01,  9.89186316e-01, -1.50062255e+00,  1.39305531e+00,\n",
       "       -9.31423739e-02,  6.10284756e-01, -1.80969860e+00, -2.09266376e-01,\n",
       "       -1.76804305e+00, -5.72533931e-02, -3.17840134e-01,  3.74439408e-01,\n",
       "        1.80149748e-01,  2.44803877e-01, -7.29476952e-02,  7.38210647e-01,\n",
       "        1.26983849e+00,  2.05985878e-01,  5.14731214e-01, -2.54470415e-01,\n",
       "       -1.09940781e+00, -6.22871260e-03, -1.19118440e+00, -1.22417304e-01,\n",
       "       -4.64957183e-01,  5.17975829e-01, -5.26524994e-01,  1.90105020e-01,\n",
       "       -1.14404159e+00, -5.14632677e-01,  6.26698907e-02, -3.04754440e-01,\n",
       "       -1.28472984e+00, -8.43124230e-01, -4.32000604e-01, -1.50383794e-01,\n",
       "        5.79399892e-01, -2.20316919e+00,  4.45829577e-01, -5.65247102e-01,\n",
       "        2.27963734e-01,  1.44328127e+00, -1.14408211e+00, -1.48413426e-02,\n",
       "       -2.72160025e+00, -1.10036619e+00, -4.11123510e-01,  1.03996564e+00,\n",
       "        1.94824938e+00,  6.60224682e-01, -2.92529838e-01,  1.21686344e-01,\n",
       "       -6.11551077e-02,  9.38830055e-01,  2.27421623e+00,  1.86283807e-01,\n",
       "       -7.48410515e-02,  1.10092282e-01, -6.04539669e-01,  5.95897024e-01,\n",
       "        9.57522134e-01, -1.67973442e+00, -9.82761813e-01,  8.69359234e-01,\n",
       "        1.24969992e+00,  1.52778771e+00,  1.74174648e-01,  1.99871057e+00,\n",
       "       -1.64881407e+00, -2.15802885e-01,  1.13256921e+00,  2.11983658e+00,\n",
       "       -9.89722616e-01, -5.61305215e-01, -1.17678597e+00,  1.42244272e+00,\n",
       "       -7.76964055e-01, -3.49224361e-01,  2.32925379e-01, -5.99575168e-01,\n",
       "       -1.75265233e+00,  2.56677350e+00, -2.14164210e-01,  7.32432514e-01,\n",
       "       -2.93219585e-02, -9.12650072e-02,  1.04785778e+00,  5.53569819e-01,\n",
       "        3.48828022e-01, -6.19112787e-01,  6.64061831e-02,  5.11714230e-01,\n",
       "        3.37495845e-01,  1.65923050e-01, -4.80513730e-01, -6.26829462e-01,\n",
       "        8.86070941e-01, -2.97959689e-01,  3.29933737e-02,  1.24780965e+00,\n",
       "       -3.42662475e-01,  7.78760839e-01,  1.34870364e+00,  9.84742822e-01,\n",
       "       -1.36236926e+00,  3.42516903e-01,  1.01499043e+00,  2.13045380e-03,\n",
       "       -5.21789319e-01, -7.81376629e-01, -5.55967531e-01,  1.39642003e+00,\n",
       "       -1.84468843e-01,  3.57945948e-01, -5.90757217e-01, -5.81274712e-01,\n",
       "       -6.30037102e-02,  1.55248269e+00,  7.25177709e-01, -2.23504258e-01,\n",
       "        3.15675213e-01,  1.94400645e+00,  5.51688687e-01,  7.49460407e-01,\n",
       "        6.91066271e-01,  6.46736167e-01,  6.10544887e-01, -1.24968623e+00,\n",
       "        1.14767802e+00,  1.21197805e+00,  2.25171780e+00,  1.49787443e+00])"
      ]
     },
     "execution_count": 6,
     "metadata": {},
     "output_type": "execute_result"
    }
   ],
   "source": [
    "np.random.randn(1000)"
   ]
  },
  {
   "cell_type": "code",
   "execution_count": 7,
   "metadata": {},
   "outputs": [
    {
     "data": {
      "image/png": "[encoded data removed]",
      "text/plain": [
       "<Figure size 432x288 with 1 Axes>"
      ]
     },
     "metadata": {
      "needs_background": "light"
     },
     "output_type": "display_data"
    },
    {
     "data": {
      "image/png": "[encoded data removed]",
      "text/plain": [
       "<Figure size 432x288 with 1 Axes>"
      ]
     },
     "metadata": {
      "needs_background": "light"
     },
     "output_type": "display_data"
    }
   ],
   "source": [
    "# to see the difference between rand (uniform distribution) and randn (normal distribution)\n",
    "sample_size = 10000\n",
    "uniform = np.random.rand(sample_size)\n",
    "normal = np.random.randn(sample_size)\n",
    "\n",
    "pdf, bins, patches = plt.hist(uniform)\n",
    "plt.title('numpy.rand: uniform')\n",
    "plt.show()\n",
    "\n",
    "pdf, bins, patches = plt.hist(normal)\n",
    "plt.title('numpy.randn: normal')\n",
    "plt.show()"
   ]
  },
  {
   "cell_type": "markdown",
   "metadata": {},
   "source": [
    "# numpy.random.randint(low[,high, size, dtype]) \n",
    "numpy.random.randint() is one of the function for doing random sampling in numpy. It returns an array of specified shape and fills it with random integers from low (inclusive) to high (exclusive), i.e. in the interval [low, high).\n",
    "\n",
    "Syntax : numpy.random.randint(low, high=None, size=None, dtype=’l’)\n",
    "\n",
    "Parameters : \n",
    "low : [int] Lowest (signed) integer to be drawn from the distribution.But, it works as a highest integer in the sample if high=None.\n",
    "high : [int, optional] Largest (signed) integer to be drawn from the distribution.\n",
    "size : [int or tuple of ints, optional] Output shape. If the given shape is, e.g., (m, n, k), then m * n * k samples are drawn. Default is None, in which case a single value is returned.\n",
    "dtype : [optional] Desired output data-type.\n",
    "\n",
    "\n",
    "\n",
    " \n",
    "\n",
    "Return : Array of random integers in the interval [low, high) or a single such random int if size not provided.\n",
    "\n",
    " \n",
    "out_arr = geek.random.randint(low = 0, high = 3, size = 5) \n",
    "print (\"Output 1D Array filled with random integers : \", out_arr)  \n",
    "Output :\n",
    "Output 1D Array filled with random integers :  [1 1 0 1 1]\n",
    " \n",
    "\n",
    "\n",
    "out_arr = geek.random.randint(low = 4, size =(2, 3)) \n",
    "print (\"Output 2D Array filled with random integers : \", out_arr)  \n",
    "Output :\n",
    "Output 2D Array filled with random integers :  [[1 1 0]\n",
    " [1 0 3]]\n",
    " \n",
    "\n",
    "out_arr = geek.random.randint(2, 10, (2, 3, 4)) \n",
    "print (\"Output 3D Array filled with random integers : \", out_arr)  \n",
    "Output :\n",
    "Output 3D Array filled with random integers :  [[[4 8 5 7]\n",
    "  [6 5 6 7]\n",
    "  [4 3 4 3]]\n",
    "\n",
    " [[2 9 2 2]\n",
    "  [3 2 2 3]\n",
    "  [6 8 3 2]]]\n",
    "\n",
    "\n"
   ]
  },
  {
   "cell_type": "code",
   "execution_count": 8,
   "metadata": {},
   "outputs": [
    {
     "data": {
      "text/plain": [
       "5"
      ]
     },
     "execution_count": 8,
     "metadata": {},
     "output_type": "execute_result"
    }
   ],
   "source": [
    "np.random.randint(5,15) # generate a random number between 5 - 14"
   ]
  },
  {
   "cell_type": "code",
   "execution_count": 9,
   "metadata": {},
   "outputs": [
    {
     "data": {
      "text/plain": [
       "array([14, 14,  9,  9, 13])"
      ]
     },
     "execution_count": 9,
     "metadata": {},
     "output_type": "execute_result"
    }
   ],
   "source": [
    "np.random.randint(5,15,5) # generate an array of 5 random numbers between values 5- 14 (inclusive)"
   ]
  },
  {
   "cell_type": "code",
   "execution_count": 10,
   "metadata": {},
   "outputs": [
    {
     "data": {
      "text/plain": [
       "array([[11, 14,  5, 13,  8],\n",
       "       [14, 13, 14,  9,  7],\n",
       "       [14, 13, 12,  7,  7],\n",
       "       [ 6, 10, 14, 10, 12],\n",
       "       [ 8, 11,  8, 12, 14]])"
      ]
     },
     "execution_count": 10,
     "metadata": {},
     "output_type": "execute_result"
    }
   ],
   "source": [
    "np.random.randint(5,15,[5,5])# generate two dimentional array(5 x 5)of random numbers between values 5- 14 (inclusive)"
   ]
  },
  {
   "cell_type": "code",
   "execution_count": 11,
   "metadata": {},
   "outputs": [
    {
     "data": {
      "text/plain": [
       "array([[ 7, 10,  6,  9,  9],\n",
       "       [ 8,  7, 13,  9,  7],\n",
       "       [11, 13,  6,  8, 13],\n",
       "       [ 6,  8, 13, 13, 10],\n",
       "       [ 6,  9,  6, 13,  9]])"
      ]
     },
     "execution_count": 11,
     "metadata": {},
     "output_type": "execute_result"
    }
   ],
   "source": [
    "np.random.randint(5,15,size=(5,5))# generate two dimentional array(5 x 5)of random numbers between values 5- 14 (inclusive)"
   ]
  },
  {
   "cell_type": "markdown",
   "metadata": {},
   "source": [
    "# Permutations \n",
    "the different ways in which a collection of items can be arranged. "
   ]
  },
  {
   "cell_type": "markdown",
   "metadata": {},
   "source": [
    "# numpy.random.permutation\n",
    "numpy.random.permutation(x)\n",
    "Randomly permute a sequence, or return a permuted range.\n",
    "\n",
    "If x is an integer, randomly permute np.arange(x). If x is an array, make a copy and shuffle the elements randomly.\n",
    "If x is a multi-dimensional array, it is only shuffled along its first index."
   ]
  },
  {
   "cell_type": "code",
   "execution_count": 12,
   "metadata": {},
   "outputs": [
    {
     "data": {
      "text/plain": [
       "array([1, 5, 9, 8, 3, 6, 7, 2, 0, 4])"
      ]
     },
     "execution_count": 12,
     "metadata": {},
     "output_type": "execute_result"
    }
   ],
   "source": [
    "np.random.permutation(10) # if  give an integer than it return randomly permute np.arange(x)\n"
   ]
  },
  {
   "cell_type": "code",
   "execution_count": 13,
   "metadata": {},
   "outputs": [
    {
     "name": "stdout",
     "output_type": "stream",
     "text": [
      "[ 6  7  6 14  5  6  7  8]\n"
     ]
    }
   ],
   "source": [
    "a=np.random.randint(5,15,8)\n",
    "print (a)"
   ]
  },
  {
   "cell_type": "code",
   "execution_count": 14,
   "metadata": {},
   "outputs": [
    {
     "data": {
      "text/plain": [
       "array([14,  6,  5,  8,  7,  6,  6,  7])"
      ]
     },
     "execution_count": 14,
     "metadata": {},
     "output_type": "execute_result"
    }
   ],
   "source": [
    "np.random.permutation(a)"
   ]
  },
  {
   "cell_type": "code",
   "execution_count": 15,
   "metadata": {},
   "outputs": [
    {
     "name": "stdout",
     "output_type": "stream",
     "text": [
      "[[7 4 7 8]\n",
      " [5 9 5 4]\n",
      " [6 8 7 8]]\n"
     ]
    }
   ],
   "source": [
    "b= np.random.randint(4,10,size=(3,4))# multi dimensional array\n",
    "print(b)"
   ]
  },
  {
   "cell_type": "code",
   "execution_count": 16,
   "metadata": {},
   "outputs": [
    {
     "name": "stdout",
     "output_type": "stream",
     "text": [
      "[[6 8 7 8]\n",
      " [5 9 5 4]\n",
      " [7 4 7 8]]\n"
     ]
    }
   ],
   "source": [
    "c= np.random.permutation(b)\n",
    "print(c)"
   ]
  },
  {
   "cell_type": "markdown",
   "metadata": {},
   "source": [
    "here above its clear that rows are shuffled positons but the contents in row are not shuffled"
   ]
  },
  {
   "cell_type": "markdown",
   "metadata": {},
   "source": [
    "# numpy.random.shuffle(x)\n",
    "Modify a sequence in-place by shuffling its contents.\n",
    "Multi-dimensional arrays are only shuffled along the first axis:"
   ]
  },
  {
   "cell_type": "code",
   "execution_count": 17,
   "metadata": {},
   "outputs": [
    {
     "name": "stdout",
     "output_type": "stream",
     "text": [
      "[ 4  5  4  1  7  7 10  4]\n",
      "After shuffle [ 1  7  4  4  4 10  5  7]\n"
     ]
    }
   ],
   "source": [
    "a=np.random.randint(1,11,8)\n",
    "arr=a\n",
    "print(arr)\n",
    "np.random.shuffle(arr)\n",
    "print(\"After shuffle\",arr)"
   ]
  },
  {
   "cell_type": "code",
   "execution_count": 18,
   "metadata": {},
   "outputs": [
    {
     "ename": "TypeError",
     "evalue": "object of type 'int' has no len()",
     "output_type": "error",
     "traceback": [
      "\u001b[1;31m---------------------------------------------------------------------------\u001b[0m",
      "\u001b[1;31mTypeError\u001b[0m                                 Traceback (most recent call last)",
      "\u001b[1;32m<ipython-input-18-63c8933fbb14>\u001b[0m in \u001b[0;36m<module>\u001b[1;34m\u001b[0m\n\u001b[1;32m----> 1\u001b[1;33m \u001b[0mnp\u001b[0m\u001b[1;33m.\u001b[0m\u001b[0mrandom\u001b[0m\u001b[1;33m.\u001b[0m\u001b[0mshuffle\u001b[0m\u001b[1;33m(\u001b[0m\u001b[1;36m10\u001b[0m\u001b[1;33m)\u001b[0m\u001b[1;31m# shuffle only works on sequences unlike permutation where if  give an integer than it return randomly permute np.arange(x)\u001b[0m\u001b[1;33m\u001b[0m\u001b[1;33m\u001b[0m\u001b[0m\n\u001b[0m",
      "\u001b[1;32mmtrand.pyx\u001b[0m in \u001b[0;36mmtrand.RandomState.shuffle\u001b[1;34m()\u001b[0m\n",
      "\u001b[1;31mTypeError\u001b[0m: object of type 'int' has no len()"
     ]
    }
   ],
   "source": [
    "np.random.shuffle(10)# shuffle only works on sequences unlike permutation where if  give an integer than it return randomly permute np.arange(x)\n"
   ]
  },
  {
   "cell_type": "markdown",
   "metadata": {},
   "source": [
    "# 3. Distributions"
   ]
  },
  {
   "cell_type": "markdown",
   "metadata": {},
   "source": [
    "# 3.1 numpy.random.standard_normal\n",
    "\n",
    "<br>Draw samples from a standard Normal distribution (mean=0, stdev=1).\n",
    "\n",
    "__Syntax:__ \n",
    "&nbsp;&nbsp;&nbsp;numpy.random.standard_normal(size=None)\n",
    "\n",
    "__Parameters:__ <br>\n",
    "&nbsp; &nbsp; &nbsp; &nbsp; &nbsp; __size :__ int or tuple of ints, _optional\n",
    "        <pre>Output shape. If the given shape is, e.g., (m, n, k), then m * n * k samples are drawn. \n",
    "        Default is None, in which case a single value is returned.</pre>\n",
    "\n",
    "__Returns:__\n",
    "&nbsp;  float or ndarray"
   ]
  },
  {
   "cell_type": "code",
   "execution_count": null,
   "metadata": {},
   "outputs": [],
   "source": [
    "s = np.random.standard_normal(10000)"
   ]
  },
  {
   "cell_type": "code",
   "execution_count": null,
   "metadata": {},
   "outputs": [],
   "source": [
    "s.mean()# mean is nearly 0 "
   ]
  },
  {
   "cell_type": "code",
   "execution_count": null,
   "metadata": {},
   "outputs": [],
   "source": [
    "s.std()# standard deviation is nearly 1"
   ]
  },
  {
   "cell_type": "code",
   "execution_count": null,
   "metadata": {},
   "outputs": [],
   "source": [
    "print(s)"
   ]
  },
  {
   "cell_type": "code",
   "execution_count": null,
   "metadata": {},
   "outputs": [],
   "source": [
    "plt.hist(s)\n",
    "plt.show()"
   ]
  },
  {
   "cell_type": "code",
   "execution_count": null,
   "metadata": {},
   "outputs": [],
   "source": [
    "s1 = np.random.standard_normal(size=(5, 8, 2))\n",
    "print(s1)"
   ]
  },
  {
   "cell_type": "markdown",
   "metadata": {},
   "source": [
    "# 3.2 numpy.random.binomial\n",
    "\n",
    "Draw samples from a binomial distribution.\n",
    "\n",
    "Samples are drawn from a binomial distribution with specified parameters, n trials and p probability of success where n an integer >= 0 and p is in the interval [0,1].(n may be input as a float, but it is truncated to an integer in use)\n",
    "\n",
    "__Syntax:__    numpy.random.binomial(n, p, size=None)\n",
    "\n",
    "__Parameters:__ <p>\n",
    " &nbsp; &nbsp; &nbsp; &nbsp; &nbsp; __n :__ float (but truncated to an integer) parameter, >= 0<br> \n",
    " &nbsp; &nbsp; &nbsp; &nbsp; &nbsp; __p :__ float parameter, >= 0 and <=1 <br>\n",
    " &nbsp; &nbsp; &nbsp; &nbsp; &nbsp;  __size :__ int or tuple of ints, _optional\n",
    "\n",
    "        Output shape. If the given shape is, e.g., (m, n, k), then m * n * k samples are drawn. \n",
    "        Default is None, in which case a single value is returned.</p>\n",
    "__Returns:__ <br>\n",
    "&nbsp; &nbsp; &nbsp; &nbsp; &nbsp;  __samples__ : {ndarray, scalar}\n",
    "            where the values are all integers in [0, n].\n"
   ]
  },
  {
   "attachments": {
    "binomial.JPG": {
     "image/jpeg": "[encoded data removed]"
    }
   },
   "cell_type": "markdown",
   "metadata": {},
   "source": [
    "![binomial.JPG](attachment:binomial.JPG)"
   ]
  },
  {
   "cell_type": "markdown",
   "metadata": {},
   "source": [
    "                        source: https://docs.scipy.org/doc/numpy-1.9.0/reference/generated/numpy.random.binomial.html"
   ]
  },
  {
   "cell_type": "markdown",
   "metadata": {},
   "source": [
    "![](images/binomial.jpeg)"
   ]
  },
  {
   "cell_type": "code",
   "execution_count": 19,
   "metadata": {},
   "outputs": [
    {
     "name": "stdout",
     "output_type": "stream",
     "text": [
      "[5 4 2 6 7 4 7 5 6 7 2 5 4 6 5 4 5 6 7 6 3 3 5 4 5 4 4 4 6 7 2 3 6 7 4 3 5\n",
      " 3 4 4 1 3 3 4 7 7 5 6 6 6 5 5 5 7 4 5 5 3 6 5 2 6 3 6 5 5 5 5 6 7 7 6 7 5\n",
      " 5 6 3 2 4 7 7 6 3 6 6 6 3 5 6 6 6 8 3 7 5 3 5 4 4 4]\n"
     ]
    }
   ],
   "source": [
    "# no of trials 10\n",
    "#fair coin so probability is 50%\n",
    "# repeat the experiment 100 times\n",
    "s = np.random.binomial(10,0.5,100) # no of heads when tossing a fair coin for 10 time and repating that experiment 100 times\n",
    "print(s) "
   ]
  },
  {
   "cell_type": "code",
   "execution_count": 20,
   "metadata": {},
   "outputs": [
    {
     "data": {
      "text/plain": [
       "[0, 1, 5, 14, 17, 24, 23, 15, 1, 0]"
      ]
     },
     "execution_count": 20,
     "metadata": {},
     "output_type": "execute_result"
    }
   ],
   "source": [
    "# find the number of heads \n",
    "[np.equal(s,i).sum() for i in range(10)]"
   ]
  },
  {
   "cell_type": "code",
   "execution_count": 21,
   "metadata": {},
   "outputs": [
    {
     "name": "stdout",
     "output_type": "stream",
     "text": [
      "[0.0, 0.01, 0.05, 0.14, 0.17, 0.24, 0.23, 0.15, 0.01, 0.0]\n"
     ]
    }
   ],
   "source": [
    "#probabily of outcomes in 100 experiments that the number of heads we got\n",
    "prob= [np.equal(s,i).mean() for i in range(10)]\n",
    "print(prob)"
   ]
  },
  {
   "cell_type": "code",
   "execution_count": 22,
   "metadata": {},
   "outputs": [
    {
     "data": {
      "text/plain": [
       "Text(0, 0.5, 'Probability')"
      ]
     },
     "execution_count": 22,
     "metadata": {},
     "output_type": "execute_result"
    },
    {
     "data": {
      "image/png": "[encoded data removed]",
      "text/plain": [
       "<Figure size 432x288 with 1 Axes>"
      ]
     },
     "metadata": {
      "needs_background": "light"
     },
     "output_type": "display_data"
    }
   ],
   "source": [
    "plt.xticks(range(10))\n",
    "plt.plot(list(range(10)), prob,color='blue', marker='o')\n",
    "plt.xlabel('Number of Heads',fontsize=14)\n",
    "plt.ylabel('Probability',fontsize=14)"
   ]
  },
  {
   "cell_type": "code",
   "execution_count": 23,
   "metadata": {},
   "outputs": [],
   "source": [
    "s = np.random.binomial(6,0.167,10000)"
   ]
  },
  {
   "cell_type": "code",
   "execution_count": 24,
   "metadata": {},
   "outputs": [
    {
     "name": "stdout",
     "output_type": "stream",
     "text": [
      "[2 1 0 ... 1 2 4]\n"
     ]
    }
   ],
   "source": [
    "print(s)"
   ]
  },
  {
   "cell_type": "code",
   "execution_count": 25,
   "metadata": {},
   "outputs": [
    {
     "data": {
      "image/png": "[encoded data removed]",
      "text/plain": [
       "<Figure size 432x288 with 1 Axes>"
      ]
     },
     "metadata": {
      "needs_background": "light"
     },
     "output_type": "display_data"
    }
   ],
   "source": [
    "plt.hist(s)\n",
    "plt.show()"
   ]
  },
  {
   "cell_type": "markdown",
   "metadata": {},
   "source": [
    "# 3.3 numpy.random.chisquare\n",
    "\n",
    "Draw samples from a chi-square distribution.<br>\n",
    "When df independent random variables, each with standard normal distributions (mean 0, variance 1), are squared and summed, the resulting distribution is chi-square. This distribution is often used in hypothesis testing.\n",
    "\n",
    "__Syntax:__    numpy.random.chisquare(df, size=None)\n",
    "\n",
    "__Parameters:__ <br>\n",
    " &nbsp; &nbsp; &nbsp; &nbsp; &nbsp; __df :__  float or array_like of floats\n",
    "                                    Number of degrees of freedom, should be > 0<br> \n",
    " \n",
    " &nbsp; &nbsp; &nbsp; &nbsp; &nbsp;  __size :__ int or tuple of ints, _optional\n",
    "\n",
    "        Output shape. If the given shape is, e.g., (m, n, k), then m * n * k samples are drawn. If size is None (default), a single value is returned if df is a scalar. Otherwise, np.array(df).size samples are drawn </p>\n",
    "__Returns:__ <br>\n",
    "&nbsp; &nbsp; &nbsp; &nbsp; &nbsp;  __samples__ : {ndarray, scalar}\n",
    "            Drawn samples from the parameterized chi-square distribution.\n",
    "\n"
   ]
  },
  {
   "attachments": {
    "chisquare.JPG": {
     "image/jpeg": "[encoded data removed]"
    }
   },
   "cell_type": "markdown",
   "metadata": {},
   "source": [
    "![chisquare.JPG](attachment:chisquare.JPG)"
   ]
  },
  {
   "cell_type": "markdown",
   "metadata": {},
   "source": [
    "The chi-square distribution has the following properties:\n",
    "\n",
    "The mean of the distribution is equal to the number of degrees of freedom.\n",
    "As the degrees of freedom increase, the chi-square curve approaches a normal distribution."
   ]
  },
  {
   "cell_type": "code",
   "execution_count": 26,
   "metadata": {},
   "outputs": [
    {
     "name": "stdout",
     "output_type": "stream",
     "text": [
      "[0.31025511 4.58351268 1.28492344 1.1741674 ]\n"
     ]
    }
   ],
   "source": [
    "c =np.random.chisquare(2,4)\n",
    "print(c)"
   ]
  },
  {
   "cell_type": "code",
   "execution_count": 27,
   "metadata": {},
   "outputs": [
    {
     "data": {
      "text/plain": [
       "1.8382146568664128"
      ]
     },
     "execution_count": 27,
     "metadata": {},
     "output_type": "execute_result"
    }
   ],
   "source": [
    "c.mean()"
   ]
  },
  {
   "cell_type": "code",
   "execution_count": 28,
   "metadata": {},
   "outputs": [
    {
     "data": {
      "text/plain": [
       "1.6292952133947334"
      ]
     },
     "execution_count": 28,
     "metadata": {},
     "output_type": "execute_result"
    }
   ],
   "source": [
    "c.std()"
   ]
  },
  {
   "cell_type": "code",
   "execution_count": 29,
   "metadata": {},
   "outputs": [
    {
     "data": {
      "image/png": "[encoded data removed]",
      "text/plain": [
       "<Figure size 432x288 with 1 Axes>"
      ]
     },
     "metadata": {
      "needs_background": "light"
     },
     "output_type": "display_data"
    }
   ],
   "source": [
    "#https://medium.com/@successmagnum/python-data-science-tutorial-set-4-7122e1f62c93\n",
    "from scipy import stats\n",
    "import numpy as np\n",
    "import matplotlib.pyplot as plt\n",
    "x = np.linspace(0, 10, 100)\n",
    "fig,ax = plt.subplots(1,1)\n",
    "linestyles = [':', '--', '-.', '-']\n",
    "deg_of_freedom = [1, 4, 7, 10]\n",
    "for df, ls in zip(deg_of_freedom, linestyles):\n",
    "  ax.plot(x, stats.chi2.pdf(x, df), linestyle=ls)\n",
    "plt.xlim(0, 10)\n",
    "plt.ylim(0, 0.4)\n",
    "plt.xlabel('Value')\n",
    "plt.ylabel('Frequency')\n",
    "plt.title('Chi-Square Distribution')\n",
    "plt.legend(deg_of_freedom)\n",
    "plt.show()"
   ]
  },
  {
   "cell_type": "code",
   "execution_count": 30,
   "metadata": {},
   "outputs": [
    {
     "name": "stdout",
     "output_type": "stream",
     "text": [
      "[ 6.59108976  1.69276119  2.09771495  6.23441264  2.96911231  1.23411946\n",
      "  4.31176113  3.52870763  4.11562506 11.17180862  7.55174328  8.46126061\n",
      "  4.07783299  6.41756174 10.30339054  7.43632273  9.64717825  1.68650151\n",
      " 10.15212515  6.6456447  12.21249533  4.50263854  4.97819624  9.13085591\n",
      "  6.34457366  4.48769959  4.14919225  3.69052037  5.27651093  6.28131294\n",
      "  5.19585733  7.35247373  8.47384968  2.08163765 13.86438422  3.90077233\n",
      "  8.36869553  6.33321941  5.37422849  8.69830553  2.67542991  5.45661042\n",
      "  4.41317251  2.99327591  1.85724541  5.9695442   7.73488441  9.63146825\n",
      "  7.1909299   5.57469022]\n",
      "Mean 6.010426901259752\n"
     ]
    }
   ],
   "source": [
    "s=np.random.chisquare(6,50)\n",
    "   \n",
    "print(s)\n",
    "print(\"Mean\",s.mean())"
   ]
  },
  {
   "cell_type": "markdown",
   "metadata": {},
   "source": [
    "# 3.4 numpy.random.f\n",
    "\n",
    "Draw samples from an F distribution.\n",
    "\n",
    "Samples are drawn from an F distribution with specified parameters, dfnum (degrees of freedom in numerator) and dfden (degrees of freedom in denominator), where both parameters should be greater than zero.\n",
    "\n",
    "The random variate of the F distribution (also known as the Fisher distribution) is a continuous probability distribution that arises in ANOVA tests, and is the ratio of two chi-square variates.\n",
    "\n",
    "__Syntax :__ numpy.random.f(dfnum, dfden, size=None)\n",
    "\n",
    "__Parameters:__\t\n",
    "&nbsp; &nbsp; &nbsp; &nbsp; &nbsp;__dfnum :__ float or array_like of floats Degrees of freedom in numerator, should be > 0.\n",
    "\n",
    "&nbsp; &nbsp; &nbsp; &nbsp; &nbsp;__dfden :__ float or array_like of float Degrees of freedom in denominator, should be > 0.\n",
    "\n",
    "&nbsp; &nbsp; &nbsp; &nbsp; &nbsp;__size :__ int or tuple of ints, optional\n",
    "Output shape. If the given shape is, e.g., (m, n, k), then m * n * k samples are drawn. If size is None (default), a single value is returned if dfnum and dfden are both scalars. Otherwise, np.broadcast(dfnum, dfden).size samples are drawn.\n",
    "\n",
    "__Return :__ &nbsp; &nbsp; &nbsp; &nbsp; &nbsp;ndarray or scalar\n",
    "    &nbsp; *Drawn samples from the parameterized Fisher distribution*"
   ]
  },
  {
   "cell_type": "markdown",
   "metadata": {},
   "source": [
    "An example from Glantz[1], pp 47-40:\n",
    "\n",
    "Two groups, children of diabetics (25 people) and children from people without diabetes (25 controls).\n",
    "Fasting blood glucose was measured, case group had a mean value of 86.1, controls had a mean value of 82.2. \n",
    "Standard deviations were 2.09 and 2.49 respectively. \n",
    "Are these data consistent with the null hypothesis that the parents diabetic status does not affect their children’s blood glucose levels? \n",
    "Calculating the F statistic from the data gives a value of 36.01.\n",
    "\n",
    "Draw samples from the distribution:"
   ]
  },
  {
   "cell_type": "code",
   "execution_count": 31,
   "metadata": {},
   "outputs": [],
   "source": [
    "dfnum = 1  # between group degrees of freedom\n",
    "dfden = 48  # within groups degrees of freedom\n",
    "s = np.random.f(dfnum, dfden, 1000)"
   ]
  },
  {
   "cell_type": "code",
   "execution_count": 32,
   "metadata": {},
   "outputs": [
    {
     "data": {
      "text/plain": [
       "6.839274477752321"
      ]
     },
     "execution_count": 32,
     "metadata": {},
     "output_type": "execute_result"
    }
   ],
   "source": [
    "np.sort(s)[-10]"
   ]
  },
  {
   "cell_type": "markdown",
   "metadata": {},
   "source": [
    "So there is about a 1% chance that the F statistic will exceed 6.22, the measured value is 36, so the null hypothesis is rejected at the 1% level."
   ]
  },
  {
   "cell_type": "code",
   "execution_count": 33,
   "metadata": {},
   "outputs": [
    {
     "data": {
      "text/plain": [
       "(array([715., 128.,  82.,  43.,  17.,   8.,   2.,   2.,   2.,   1.]),\n",
       " array([2.29448678e-07, 1.20451471e+00, 2.40902919e+00, 3.61354367e+00,\n",
       "        4.81805815e+00, 6.02257263e+00, 7.22708711e+00, 8.43160159e+00,\n",
       "        9.63611607e+00, 1.08406305e+01, 1.20451450e+01]),\n",
       " <a list of 10 Patch objects>)"
      ]
     },
     "execution_count": 33,
     "metadata": {},
     "output_type": "execute_result"
    },
    {
     "data": {
      "image/png": "[encoded data removed]",
      "text/plain": [
       "<Figure size 432x288 with 1 Axes>"
      ]
     },
     "metadata": {
      "needs_background": "light"
     },
     "output_type": "display_data"
    }
   ],
   "source": [
    "plt.hist(s)\n",
    "\n",
    "#plt.plot(s)\n"
   ]
  },
  {
   "cell_type": "markdown",
   "metadata": {},
   "source": [
    "# 3.5 numpy.random.exponential\n",
    "\n",
    "Draw samples from an exponential distribution.\n",
    "\n",
    "__Syntax :__ numpy.random.exponential(scale=1.0, size=None)\n",
    "\n",
    "__Parameters:__\t\n",
    "&nbsp; &nbsp; &nbsp; &nbsp; &nbsp;__scale:__ float or array_like of floats Degrees of freedom in numerator, should be > 0.\n",
    "\n",
    "\n",
    "&nbsp; &nbsp; &nbsp; &nbsp; &nbsp;__size :__ int or tuple of ints, optional\n",
    "Output shape. If the given shape is, e.g., (m, n, k), then m * n * k samples are drawn. If size is None (default), a single value is returned if scale is a scalar. Otherwise, np.array(scale).size samples are drawn.\n",
    "\n",
    "__Returns :__ &nbsp; &nbsp; &nbsp; &nbsp; &nbsp;ndarray or scalar\n",
    "    &nbsp;  *Drawn samples from the parameterized exponential distribution* <br>\n",
    "\n",
    "Its probability density function is\n",
    "\n",
    "f(x; \\frac{1}{\\beta}) = \\frac{1}{\\beta} \\exp(-\\frac{x}{\\beta}),\n",
    "\n",
    "for x > 0 and 0 elsewhere. \\beta is the scale parameter, which is the inverse of the rate parameter \\lambda = 1/\\beta. The rate parameter is an alternative, widely used parameterization of the exponential distribution [3].\n",
    "\n",
    "The exponential distribution is a continuous analogue of the geometric distribution. It describes many common situations, such as the size of raindrops measured over many rainstorms [1], or the time between page requests to Wikipedia [2]."
   ]
  },
  {
   "cell_type": "code",
   "execution_count": 34,
   "metadata": {},
   "outputs": [
    {
     "data": {
      "image/png": "[encoded data removed]",
      "text/plain": [
       "<Figure size 432x288 with 1 Axes>"
      ]
     },
     "metadata": {
      "needs_background": "light"
     },
     "output_type": "display_data"
    }
   ],
   "source": [
    "scale = 1\n",
    "s = np.random.exponential(scale, 1000)\n",
    "#Display the histogram of the samples, along with the probability density function:\n",
    "\n",
    "count, bins, ignored = plt.hist(s, 30, density=True)\n"
   ]
  },
  {
   "cell_type": "markdown",
   "metadata": {},
   "source": [
    "# 4. Use of seeds in generating pseudorandom numbers"
   ]
  },
  {
   "cell_type": "markdown",
   "metadata": {},
   "source": [
    "The random numbers or data generated by numpy’s random module is not truly random, it is pseudo-random.\n",
    "These “pseudo-random numbers” are generated by some kinds of deterministic algorithms. These pseudo random numbers follow some kinds of sequences.\n",
    "\n",
    "it means random number generation isn't truly \"random\". It is deterministic, and the sequence it generates is dictated by the seed value you pass.\n",
    "\n",
    "Pseudo-random number generators work by performing some operation on a value. Generally this value is the previous number generated by the generator. However, the first time you use the generator, there is no previous value.\n",
    "\n",
    "Seeding a pseudo-random number generator gives it its first \"previous\" value. Each seed value will correspond to a sequence of generated values for a given random number generator. That is, if you provide the same seed twice, you get the same sequence of numbers twice.\n",
    "\n",
    "Generally, you want to seed your random number generator with some value that will change each execution of the program. For instance, the current time is a frequently-used seed. The reason why this doesn't happen automatically is so that if you want, you can provide a specific seed to get a known sequence of numbers.\n",
    "\n",
    "What is seed?\n",
    "\n",
    "The seed during such random number generation is actually the starting point in the sequence. If we use same seed every time, it will yield same sequence of random numbers.So, same seed yields same sequence of random numbers.\n",
    "\n",
    "The same sequence generation is useful in simulation and modeling applications."
   ]
  },
  {
   "cell_type": "code",
   "execution_count": 35,
   "metadata": {},
   "outputs": [
    {
     "name": "stdout",
     "output_type": "stream",
     "text": [
      "Random number with seed =  9\n",
      "Random number with seed =  9\n"
     ]
    }
   ],
   "source": [
    "np.random.seed(100) # Set the random seed\n",
    "print(\"Random number with seed = \", np.random.randint(1, 500))\n",
    "np.random.seed(100)# Set the random seed\n",
    "print(\"Random number with seed = \", np.random.randint(1, 500)) "
   ]
  },
  {
   "cell_type": "code",
   "execution_count": 36,
   "metadata": {},
   "outputs": [
    {
     "name": "stdout",
     "output_type": "stream",
     "text": [
      "Random number with seed =  [10 16 65 29 90 94]\n",
      "Random number with seed =  [30  9 74  1 41 37]\n",
      "\n",
      "Random number with seed =  [10 16 65 29 90 94]\n",
      "Random number with seed =  [30  9 74  1 41 37]\n"
     ]
    }
   ],
   "source": [
    "np.random.seed(10) # Set the random seed\n",
    "print(\"Random number with seed = \", np.random.randint(1, 100, size=6))\n",
    "print(\"Random number with seed = \", np.random.randint(1, 100, size=6))\n",
    "\n",
    "np.random.seed(10) # Set the random seed\n",
    "print(\"\\nRandom number with seed = \", np.random.randint(1, 100, size=6))\n",
    "print(\"Random number with seed = \", np.random.randint(1, 100, size=6))"
   ]
  },
  {
   "cell_type": "markdown",
   "metadata": {},
   "source": [
    "as it is clear from result that seed are used to create the squence of same random numbers."
   ]
  },
  {
   "cell_type": "code",
   "execution_count": 37,
   "metadata": {},
   "outputs": [
    {
     "name": "stdout",
     "output_type": "stream",
     "text": [
      "Random number without seed =  372\n",
      "Random number without seed =  17\n"
     ]
    }
   ],
   "source": [
    "# without seed\n",
    "print(\"Random number without seed = \", np.random.randint(1, 500))\n",
    "print(\"Random number without seed = \", np.random.randint(1, 500))"
   ]
  },
  {
   "cell_type": "code",
   "execution_count": 38,
   "metadata": {
    "scrolled": true
   },
   "outputs": [
    {
     "name": "stdout",
     "output_type": "stream",
     "text": [
      "14\n",
      "9\n",
      "5\n",
      "6\n",
      "14\n",
      "5\n",
      "6\n",
      "13\n",
      "14\n",
      "5\n",
      "14\n",
      "9\n",
      "5\n",
      "6\n",
      "14\n",
      "5\n",
      "6\n",
      "13\n",
      "14\n",
      "5\n"
     ]
    }
   ],
   "source": [
    "for i in range(2):\n",
    "    np.random.seed(10)\n",
    "    for i in range(10):\n",
    "        print(np.random.randint(5,15))\n",
    "  "
   ]
  },
  {
   "cell_type": "markdown",
   "metadata": {},
   "source": [
    "# References"
   ]
  },
  {
   "cell_type": "markdown",
   "metadata": {},
   "source": [
    "1. What exactly is the function of random.seed() in python? available online at https://www.edureka.co/community/25335/what-exactly-is-the-function-of-random-seed-in-python accesssed on 05/11/2019\n",
    "2. What is seed in random number generation available online at https://www.quora.com/What-is-seed-in-random-number-generation accessed on 29/10/2019"
   ]
  },
  {
   "cell_type": "code",
   "execution_count": null,
   "metadata": {},
   "outputs": [],
   "source": []
  }
 ],
 "metadata": {
  "kernelspec": {
   "display_name": "Python 3",
   "language": "python",
   "name": "python3"
  },
  "language_info": {
   "codemirror_mode": {
    "name": "ipython",
    "version": 3
   },
   "file_extension": ".py",
   "mimetype": "text/x-python",
   "name": "python",
   "nbconvert_exporter": "python",
   "pygments_lexer": "ipython3",
   "version": "3.7.1"
  }
 },
 "nbformat": 4,
 "nbformat_minor": 2
}
