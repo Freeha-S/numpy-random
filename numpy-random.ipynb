{
 "cells": [
  {
   "cell_type": "markdown",
   "metadata": {},
   "source": [
    "# numpy. random package\n",
    "This jupyter notebook contains the numpy.random package investigation as part of the Programming for Data Analysis Module of Data Analytics at GMIT.\n",
    "\n",
    "1. Explain the overall purpose of the package. \n",
    "2. Explain the use of the “Simple random data” and “Permutations” functions. \n",
    "3. Explain the use and purpose of at least ﬁve “Distributions” functions. \n",
    "4. Explain the use of seeds in generating pseudorandom numbers.\n"
   ]
  },
  {
   "cell_type": "markdown",
   "metadata": {},
   "source": [
    "# Numpy\n",
    "numpy is the fundamental python package for numerical computing. It is a general-purpose array-processing package.\n",
    "It provides a high-performance multidimensional array objects, and tools for working with these arrays. Ref(https://www.geeksforgeeks.org/numpy-in-python-set-1-introduction/)"
   ]
  },
  {
   "cell_type": "markdown",
   "metadata": {},
   "source": [
    "# numpy.random\n",
    "The random module in Numpy package contains many functions for generation of random number.it contains functions to generate NumPy arrays of random numbers sampled from different distributions."
   ]
  },
  {
   "cell_type": "code",
   "execution_count": 13,
   "metadata": {},
   "outputs": [],
   "source": [
    "import numpy as np #import numpy\n",
    "#import matplotlib.pyplot\n",
    "import matplotlib.pyplot as plt"
   ]
  },
  {
   "cell_type": "markdown",
   "metadata": {},
   "source": [
    "# Simple Random Data"
   ]
  },
  {
   "cell_type": "markdown",
   "metadata": {},
   "source": [
    "# random.rand function\n",
    "__numpy.random.rand(d0, d1, …, dn)__\n",
    "<br>\n",
    "&nbsp;&nbsp; Create an array of the given shape and populate it with random samples from a uniform distribution over (0,1)\n",
    "\n",
    "d0, d1, …, dn .....(int)optional <br>\n",
    "&ensp; The dimensions of the returned array, should all be positive. If no argument is given a single Python float is returned.\n"
   ]
  },
  {
   "cell_type": "code",
   "execution_count": 2,
   "metadata": {},
   "outputs": [
    {
     "data": {
      "text/plain": [
       "0.5490547198195055"
      ]
     },
     "execution_count": 2,
     "metadata": {},
     "output_type": "execute_result"
    }
   ],
   "source": [
    "np.random.rand() # if no dimention is given a random float value between 0 - 1"
   ]
  },
  {
   "cell_type": "code",
   "execution_count": 3,
   "metadata": {},
   "outputs": [
    {
     "data": {
      "text/plain": [
       "array([0.08206669, 0.68001544, 0.56524291, 0.34686938, 0.51127834,\n",
       "       0.25157503, 0.44809081])"
      ]
     },
     "execution_count": 3,
     "metadata": {},
     "output_type": "execute_result"
    }
   ],
   "source": [
    "np.random.rand(7)#create a one dimentional array of size 7 and each element value lie between 0 - 1"
   ]
  },
  {
   "cell_type": "code",
   "execution_count": 4,
   "metadata": {},
   "outputs": [
    {
     "data": {
      "text/plain": [
       "array([[0.24605331, 0.84363737, 0.96239223],\n",
       "       [0.75980502, 0.02407595, 0.83492084]])"
      ]
     },
     "execution_count": 4,
     "metadata": {},
     "output_type": "execute_result"
    }
   ],
   "source": [
    "np.random.rand(2,3)# two dimentional array"
   ]
  },
  {
   "cell_type": "code",
   "execution_count": 5,
   "metadata": {},
   "outputs": [
    {
     "data": {
      "text/plain": [
       "array([[[0.65261091, 0.97043261, 0.79531721, 0.01694989],\n",
       "        [0.63587616, 0.17909004, 0.58523889, 0.69896764]],\n",
       "\n",
       "       [[0.0080699 , 0.43862122, 0.32555785, 0.90020306],\n",
       "        [0.66232314, 0.33617104, 0.85839767, 0.55843245]],\n",
       "\n",
       "       [[0.80559391, 0.93354577, 0.92305404, 0.33752706],\n",
       "        [0.1104484 , 0.11095242, 0.83998151, 0.39665285]]])"
      ]
     },
     "execution_count": 5,
     "metadata": {},
     "output_type": "execute_result"
    }
   ],
   "source": [
    "np.random.rand (3,2,4) # three dimention array"
   ]
  },
  {
   "cell_type": "markdown",
   "metadata": {},
   "source": [
    "# numpy.random.randn(d0, d1, …, dn) \n",
    "   Return a sample (or samples) from the “standard normal” distribution."
   ]
  },
  {
   "cell_type": "code",
   "execution_count": 6,
   "metadata": {},
   "outputs": [
    {
     "data": {
      "text/plain": [
       "array([ 1.69739867e+00, -1.15797784e+00, -1.25154675e+00, -6.01491676e-01,\n",
       "        1.60894351e+00,  1.49756219e-01,  1.02854942e+00, -2.36078281e-01,\n",
       "       -1.28561136e+00, -1.01240235e+00,  5.21014571e-01,  1.41071358e-01,\n",
       "        3.87658732e-01, -5.70418107e-01, -3.57663011e-01, -4.18261879e-01,\n",
       "        1.71037057e+00, -1.04379545e+00, -1.15348156e+00,  1.19382245e+00,\n",
       "       -9.30534001e-01, -1.29372859e-01,  1.37039710e+00, -2.21104864e+00,\n",
       "        1.93593165e+00,  1.15690385e+00,  5.76088676e-01,  5.23449395e-01,\n",
       "       -5.36645260e-01, -1.12572334e+00,  1.10177622e+00,  2.28244732e-01,\n",
       "       -7.66176883e-01,  2.11386006e+00, -1.68055686e+00, -4.78987731e-01,\n",
       "       -3.37484157e-01, -8.51876859e-01,  1.21972680e+00, -6.06340670e-01,\n",
       "        2.77960732e-01,  4.04363455e-01,  2.13055979e-01, -5.37812344e-01,\n",
       "        1.43008881e-01,  4.19252928e-01,  8.55475384e-01, -6.54649467e-01,\n",
       "       -2.14065300e+00,  6.71528030e-01,  3.52829751e-01,  1.40477303e+00,\n",
       "        1.51456103e+00,  7.53807625e-01, -1.00679729e+00,  6.57890465e-01,\n",
       "        1.10073697e+00,  1.12837310e+00,  1.00368083e+00,  9.81420357e-01,\n",
       "       -2.00606464e+00, -6.76014364e-01,  7.92399536e-01, -7.06075422e-02,\n",
       "       -2.52707197e-01,  5.84927984e-02, -1.35457368e+00,  9.98824148e-01,\n",
       "        8.21514734e-01, -6.87227039e-01,  2.73554643e+00,  1.80977283e+00,\n",
       "       -2.80394713e-01,  8.88391955e-01,  1.01067304e+00,  6.59510516e-01,\n",
       "       -1.75563955e-03, -1.07132104e-01, -1.18428258e+00,  1.37552660e+00,\n",
       "        3.12818259e-01, -1.49303811e+00, -1.27133655e+00,  1.96024587e+00,\n",
       "       -1.86180353e-01,  5.01438918e-01,  2.33902342e-01,  8.58776903e-01,\n",
       "        6.56044017e-01,  1.25740279e+00, -1.23710787e+00,  1.15558513e+00,\n",
       "        1.03975764e+00,  3.70209017e-01,  6.00234405e-01,  7.30796342e-01,\n",
       "       -1.11114021e+00, -8.29151524e-01,  1.39344165e-01,  1.61873495e-01,\n",
       "        7.01089965e-01,  6.31623806e-01,  4.43752883e-01,  1.40142602e+00,\n",
       "        4.37366561e-01,  9.84303913e-03, -1.70078777e+00, -3.94572991e-01,\n",
       "        7.77397652e-01, -5.61239787e-01, -1.95085376e-01, -1.21705849e+00,\n",
       "        8.52806781e-03,  1.88502724e+00,  1.59957073e+00, -8.41392940e-01,\n",
       "       -6.77927457e-02, -2.63656494e-01, -1.01958905e+00,  4.00601921e-01,\n",
       "       -1.24958091e-01,  5.80019026e-01, -8.43840965e-01,  1.41129655e-01,\n",
       "       -1.45273861e+00,  5.54542938e-01,  5.96839347e-01,  8.80427603e-01,\n",
       "        7.63940843e-01,  1.19549488e+00, -8.19697799e-02,  1.50293561e-01,\n",
       "       -7.97682425e-01, -2.51023528e+00,  5.95628434e-01,  6.05927656e-01,\n",
       "        5.75570699e-03, -1.43249335e-01, -1.98892837e+00,  1.00084597e+00,\n",
       "        9.33840992e-01, -5.78710858e-01, -3.44512779e-01,  8.14858931e-01,\n",
       "       -1.27630411e+00,  1.65026507e-01, -1.53555630e+00,  8.32997732e-01,\n",
       "        5.68094867e-01,  1.44754489e+00,  1.42147906e+00,  3.71137644e-02,\n",
       "       -6.70021412e-01,  6.37247190e-02, -1.79672603e-02, -5.94610062e-02,\n",
       "        7.76371192e-01, -4.96163721e-01,  7.04895270e-01,  5.32828051e-01,\n",
       "       -7.36429432e-01,  1.11911824e+00,  9.87043245e-01,  7.39879296e-01,\n",
       "        2.15271183e-01,  5.07473646e-01, -2.72456327e-01, -2.80524887e-01,\n",
       "       -8.90390872e-01,  1.22436066e-01,  2.25396589e+00,  1.84614219e+00,\n",
       "        6.47348759e-02, -3.63898284e-01, -3.61575736e-03,  2.25901389e+00,\n",
       "        1.08760488e+00,  8.60227667e-01, -6.91093761e-01, -7.64579420e-01,\n",
       "       -1.94773881e-01,  7.19435921e-01,  1.53646052e+00, -8.92535081e-01,\n",
       "        2.51577101e-01,  1.13674551e+00, -8.85295413e-02,  9.75925588e-01,\n",
       "       -1.97848814e+00, -2.65144837e-01,  3.74041590e-01, -1.12427198e+00,\n",
       "        1.13245898e+00,  1.46786321e+00,  5.75252632e-01, -6.88022632e-01,\n",
       "       -8.27227093e-01,  4.22149719e-01, -1.01999427e+00, -1.13143049e+00,\n",
       "       -6.45150390e-01, -2.08646237e+00,  1.89054192e+00,  7.72613581e-02,\n",
       "        9.02914860e-01, -4.39327501e-02,  4.74270069e-01,  1.34890141e+00,\n",
       "        1.28661759e+00,  9.72365510e-01,  1.24037496e-01,  5.69772044e-02,\n",
       "        8.97354792e-01, -1.30507466e+00,  8.72179362e-01,  4.20510185e-01,\n",
       "       -1.85431334e+00, -1.27468077e+00, -6.40006411e-01, -1.14201786e+00,\n",
       "        1.52971013e+00, -5.20337437e-01,  1.89654205e+00,  8.95052028e-01,\n",
       "        4.19390957e-01,  1.15987504e+00, -5.76644957e-01,  1.09392273e+00,\n",
       "        1.79151526e+00,  4.70663264e-01,  5.29568457e-01,  7.68640122e-01,\n",
       "       -1.58839524e+00,  2.78268772e-01, -1.66281129e+00, -1.35257038e+00,\n",
       "       -1.39085592e-01,  2.16123419e-01,  2.88116957e-01, -9.25582669e-01,\n",
       "       -1.51311213e+00, -4.26557271e-01,  1.11809034e+00, -1.59806196e-01,\n",
       "       -8.62052079e-01,  1.24876570e+00,  1.19203348e+00,  1.54014133e+00,\n",
       "        3.13564543e-01,  1.55710343e+00, -5.53318495e-01,  2.12172938e-01,\n",
       "       -4.02559603e-01, -2.82799258e+00,  3.22366014e-01,  4.45524904e-01,\n",
       "        1.34804960e+00,  1.64074424e+00, -4.31067205e-02,  3.83796836e-01,\n",
       "        1.37045842e+00, -8.24969341e-01, -1.46082069e+00,  7.63860528e-01,\n",
       "       -7.64073046e-01, -5.77148730e-01, -4.15977958e-01, -2.41969598e+00,\n",
       "        1.47505091e+00, -2.00698205e-01, -1.50539569e+00, -1.89029508e+00,\n",
       "        1.93471738e+00,  1.91404747e+00, -1.09944508e-01, -5.32881284e-01,\n",
       "        4.52871924e-01,  5.85720685e-01, -4.67400884e-02, -1.47169933e-01,\n",
       "        6.52066357e-01,  1.73149372e+00,  3.51776284e-01,  2.21922356e-01,\n",
       "       -1.47679318e+00, -5.52509419e-01,  3.89098539e-01,  2.04221593e+00,\n",
       "        3.35127513e-01,  5.83898727e-02,  9.66895488e-01, -2.67224494e-01,\n",
       "       -3.78034504e-01,  1.10218749e+00, -8.59201593e-01, -1.67052381e+00,\n",
       "       -1.21586919e-01,  1.13791325e-02, -1.46990248e-02,  8.65667285e-02,\n",
       "        4.06787167e-01,  1.43643447e-01,  1.15042080e+00, -8.32445664e-01,\n",
       "       -5.98229761e-01,  5.31495432e-01,  1.70020070e+00, -1.40619557e+00,\n",
       "       -6.11055234e-02,  1.25101971e+00, -1.52663263e+00, -1.76990164e+00,\n",
       "        3.19843650e-01, -1.27116007e+00,  5.25386768e-01, -6.67595836e-01,\n",
       "       -1.30353959e+00,  1.50445147e-01, -2.09515375e-01, -7.33885674e-02,\n",
       "        1.04437536e+00, -1.18991898e+00,  7.29488716e-01, -4.61079810e-01,\n",
       "       -3.34949325e-01, -6.45240523e-01,  1.36167896e+00,  2.04484754e-01,\n",
       "        1.60230492e+00,  3.05053290e-01,  1.00098272e+00,  5.54176350e-01,\n",
       "        9.19290008e-01, -1.24065555e-01, -8.66153458e-01, -1.67982100e-02,\n",
       "       -2.01881666e+00, -2.44711019e+00,  3.47541560e-01, -8.92258371e-01,\n",
       "        5.12260831e-01, -4.49765410e-01, -3.67236583e-01, -1.82658313e+00,\n",
       "        3.75164357e-01,  2.16298614e-01, -6.39489251e-01, -9.68681037e-01,\n",
       "        1.36010070e-01, -1.24103502e+00, -9.63293956e-01, -3.54926844e-01,\n",
       "        1.08064243e+00,  8.32492488e-01,  9.60532634e-01,  4.79995221e-01,\n",
       "        1.29070347e+00, -1.83075453e-01,  2.25663634e-01,  9.48978015e-01,\n",
       "        1.85229395e+00, -1.03649406e+00,  1.11459575e+00,  1.57665377e+00,\n",
       "        1.54354400e+00,  1.35556235e-01, -1.29527790e+00, -2.07379632e+00,\n",
       "        1.21596534e-01,  3.03185968e-01, -2.20669315e-01, -1.02730903e+00,\n",
       "        2.74077353e-01,  1.81786038e+00, -7.44182840e-02,  5.08921359e-01,\n",
       "       -1.09545458e-01, -2.11636909e+00, -2.52010907e-01, -1.43548954e+00,\n",
       "        7.44442690e-01,  2.99362581e-01,  2.37035332e+00,  5.64807482e-01,\n",
       "       -4.04969074e-01,  6.66032036e-01, -5.15949696e-01,  7.37184960e-01,\n",
       "       -5.38771133e-01,  3.81088687e-01, -1.57273868e+00,  1.56724172e+00,\n",
       "       -8.05073527e-01, -1.21750548e+00,  1.63942008e-01,  3.92020543e-01,\n",
       "       -5.40947335e-01,  1.36938680e-01, -6.15067995e-01,  9.10399964e-01,\n",
       "       -5.08926843e-01, -8.73439216e-01,  5.89663531e-01,  1.22825669e+00,\n",
       "       -6.46150402e-01, -2.90970762e-01,  2.18226497e-01,  1.10448649e+00,\n",
       "        1.88440521e-01,  8.82234535e-02,  3.33704418e-01,  2.38006701e+00,\n",
       "       -1.02622596e+00,  3.09181857e-02,  5.08326282e-01, -9.45631807e-01,\n",
       "        7.61693511e-01,  1.23464159e-01,  1.07604295e-02, -3.38535583e-01,\n",
       "       -8.61980809e-01, -2.58369270e-01, -8.34822480e-01, -1.20627278e+00,\n",
       "        7.27918555e-01,  1.08775904e+00, -3.23206906e+00, -2.37594373e-01,\n",
       "        8.77467310e-01, -5.15666213e-01,  1.58148845e+00, -3.64326474e-01,\n",
       "        5.33374722e-01, -2.19823785e-01, -8.53179644e-01,  3.55656895e-01,\n",
       "       -1.88744623e+00, -1.81013866e+00, -1.61593938e-01, -2.39265469e+00,\n",
       "        1.10203248e+00,  7.12508937e-01,  4.96318952e-01, -1.10342836e+00,\n",
       "        1.61270408e-01,  8.62021761e-02,  3.33682272e-01, -1.03151542e+00,\n",
       "       -7.39695906e-02,  1.16384065e+00,  4.53763163e-02,  6.09264545e-01,\n",
       "        6.00988452e-03,  1.84452616e+00, -1.07278441e+00, -8.81000926e-01,\n",
       "       -2.34852328e-01, -2.51582627e-01,  1.92260450e-02,  4.72320696e-01,\n",
       "        4.73754435e-01,  3.38422372e+00,  2.20715693e-02, -1.14417709e+00,\n",
       "        1.24594438e-01, -1.61214266e+00,  9.70223684e-01, -9.49082759e-01,\n",
       "       -7.52637907e-01,  4.32912527e-01,  1.05678996e+00,  1.40179792e+00,\n",
       "        1.42117709e+00, -1.67045455e+00,  1.71245441e+00,  1.18948608e-01,\n",
       "       -2.81237992e-01,  4.57129227e-01, -1.12074255e+00,  1.72390641e+00,\n",
       "        1.81728024e-01, -1.44539364e+00, -1.52719643e-01, -1.23550449e+00,\n",
       "       -1.16528225e+00, -8.70128410e-01,  2.49432954e-01, -7.22181938e-01,\n",
       "        3.10460715e-01,  1.14555221e+00,  9.67510480e-01,  6.66931801e-01,\n",
       "        1.62625833e-02, -8.08713779e-01, -1.90839955e+00, -7.50599640e-01,\n",
       "       -7.35538124e-01, -2.12648360e+00, -1.65295492e+00,  5.08284582e-01,\n",
       "       -1.00737016e+00,  1.04994878e+00,  8.93507017e-01,  1.01186571e+00,\n",
       "       -5.60664060e-01, -7.82989259e-01,  1.63699371e+00, -2.77153500e-02,\n",
       "       -1.23991658e+00,  3.05628609e-01,  7.99616587e-01, -7.84039003e-02,\n",
       "        1.29948392e-01,  4.65719544e-01, -5.71141807e-01, -1.20400888e+00,\n",
       "       -1.10329750e+00,  1.77542285e+00, -8.52667159e-01,  8.39531553e-01,\n",
       "       -9.06550512e-01, -1.00432289e+00,  1.84605907e+00, -1.19352945e+00,\n",
       "       -1.07429879e+00, -2.49530618e-01, -9.95486760e-01,  3.51721911e-01,\n",
       "        2.97353707e-01, -4.82823031e-01,  7.01875693e-01, -1.40706554e+00,\n",
       "       -1.54622803e+00, -6.69146439e-01,  6.78713056e-01, -4.69036160e-01,\n",
       "       -9.67977309e-01,  2.15434976e-01, -9.24715884e-01,  1.05457562e+00,\n",
       "        1.53945180e+00, -4.06897832e-01, -2.45530987e-03,  8.15424693e-01,\n",
       "       -1.18504218e+00, -9.41920894e-01, -1.58477013e+00,  5.30142582e-01,\n",
       "        4.84019581e-01,  4.52768480e-01, -8.26822460e-01,  4.51733041e-01,\n",
       "        2.56864261e-02, -3.06669892e-02,  1.91945454e+00,  2.68102349e-01,\n",
       "       -7.90487822e-01,  1.08910134e+00,  7.10627156e-01, -1.74622412e+00,\n",
       "        8.64810512e-01,  5.78088750e-01, -4.54821410e-01,  1.33104493e+00,\n",
       "       -1.01995479e+00, -5.60286612e-03,  1.38084478e+00,  1.32009783e-01,\n",
       "        8.90643148e-02,  7.27573358e-01,  2.18079311e-01, -1.01661884e-01,\n",
       "       -2.28678255e-01, -6.02538872e-01,  1.00250318e+00, -4.36718718e-01,\n",
       "       -1.15937657e+00, -9.74874011e-01,  5.64421824e-01,  1.59985031e-01,\n",
       "       -1.13533918e+00,  6.62398274e-01,  2.37197678e-01,  4.03783750e-01,\n",
       "       -1.42210460e+00, -1.58927454e-01, -4.19900806e-01,  1.11686968e+00,\n",
       "       -9.27779428e-01,  8.25771205e-01, -1.46670861e+00,  3.59680837e-01,\n",
       "       -7.79993787e-02, -1.46969038e+00,  5.54498662e-01, -3.78728313e-01,\n",
       "       -8.22687052e-01, -1.34182607e-01, -2.37789291e-01, -1.28547049e-01,\n",
       "        4.78734151e-03,  5.12719817e-01,  4.00728701e-01, -8.37485943e-01,\n",
       "       -5.00692653e-02, -3.59831504e-02, -1.12980781e+00, -2.30626940e+00,\n",
       "        2.22178261e-01, -6.29281403e-01, -2.05978504e+00,  1.87738763e+00,\n",
       "        4.45026015e-01, -3.61240764e-01,  1.77211021e+00,  5.17712030e-01,\n",
       "        1.87438497e+00,  1.06778845e+00, -6.03593624e-01, -2.58003143e-01,\n",
       "       -3.92605860e-01,  1.18688116e+00, -1.68071035e+00,  5.57115648e-02,\n",
       "       -2.19227674e-01,  4.36793943e-01,  7.01998494e-03,  6.10906586e-01,\n",
       "       -5.60091945e-01,  3.76231508e-01,  1.80872503e-01,  1.10270849e+00,\n",
       "        5.61997606e-01, -9.21765101e-01, -1.57460023e+00, -3.38954603e-02,\n",
       "        1.34120402e+00, -7.10516993e-01,  1.56316332e+00,  1.05297958e+00,\n",
       "        9.19302892e-01, -8.91359966e-01, -7.07859502e-02, -8.03486324e-01,\n",
       "       -3.38399554e-01,  6.12275356e-01, -1.64451661e+00, -7.39992505e-01,\n",
       "       -1.87979390e+00, -1.90611715e+00, -4.08230142e-01, -5.81801309e-01,\n",
       "        1.12163904e+00, -4.72201074e-01,  1.53528745e+00,  1.88494001e+00,\n",
       "        1.81324753e+00, -1.17400226e+00,  1.97577852e+00,  1.73465646e+00,\n",
       "       -4.99586431e-01, -3.08139125e-01, -4.86461508e-01, -4.61621261e-01,\n",
       "       -7.40254110e-01, -3.57957595e-01,  5.63739117e-02, -3.85935173e-01,\n",
       "        1.24444398e+00, -2.03883355e-01,  1.92999794e+00,  1.10655902e+00,\n",
       "       -1.67009591e+00,  1.32927269e+00,  2.04816107e+00, -1.41934939e+00,\n",
       "       -2.35700585e+00, -5.33544497e-01, -1.05359051e+00, -5.66100490e-01,\n",
       "       -8.76897482e-01, -6.54400924e-02, -1.92437122e+00, -4.62115187e-02,\n",
       "       -7.82351017e-01, -2.69139040e-01,  1.41860523e+00,  1.61372808e+00,\n",
       "       -2.10859243e-01, -1.29520190e+00,  5.64489160e-01, -1.83754134e+00,\n",
       "        1.03395748e+00,  5.05667461e-01,  8.32996563e-01, -2.88734850e-01,\n",
       "        2.07139608e-01,  8.18461063e-01,  2.02139051e-01, -9.85049489e-01,\n",
       "       -4.35553814e-01,  8.85198329e-02, -1.62182299e+00, -3.47744874e-01,\n",
       "        5.59826094e-01, -1.40603472e+00,  6.46051148e-01, -4.95428711e-01,\n",
       "       -9.68049429e-01, -4.54110777e-01, -1.52921993e+00,  1.27127242e+00,\n",
       "        9.77980370e-01, -2.62834118e-02,  7.09539684e-01,  8.41590422e-01,\n",
       "        9.43192600e-01,  1.20949618e+00, -1.30899806e+00, -3.23403763e-01,\n",
       "        1.27805343e-01,  5.18944779e-01,  2.16820385e+00,  9.12422281e-01,\n",
       "        2.28461892e+00, -1.74321533e+00, -3.99450734e-01,  1.51744644e-01,\n",
       "       -2.40170907e-01,  1.32924727e-01, -1.07687063e+00,  1.91355324e+00,\n",
       "        7.07666915e-01, -3.32802171e-01, -3.18294589e-01, -8.40745543e-01,\n",
       "        6.44035009e-01, -6.87602981e-01, -4.15999767e-01,  2.51075799e-02,\n",
       "        1.32546316e+00, -1.60798557e-01, -2.71065934e-02,  1.24825404e+00,\n",
       "        9.84281252e-01,  2.40548597e+00, -2.78075713e-01, -6.77970928e-02,\n",
       "        3.03156595e-01, -9.12087080e-01,  1.10837929e+00, -6.61318213e-01,\n",
       "        3.17262202e-01, -2.25437705e-01,  1.34569254e-01,  3.50350625e-02,\n",
       "       -5.95620321e-02, -9.98951840e-01,  7.30561429e-01, -1.57920116e+00,\n",
       "        1.24797033e+00,  3.59185941e-03, -2.51454490e+00,  6.02067863e-01,\n",
       "        6.55912631e-01,  6.09943538e-02, -2.36905180e-01, -8.83984543e-01,\n",
       "       -8.33253139e-01,  1.59255531e+00, -9.99332792e-01,  1.00881454e-01,\n",
       "       -1.17858021e-01,  1.34994846e+00,  1.18690759e-01,  1.67937368e+00,\n",
       "        7.07508873e-02, -3.72806285e-01, -6.63908408e-01,  1.40217566e-01,\n",
       "        2.73060254e-01,  1.69190301e+00, -1.46415215e+00, -4.52468792e-01,\n",
       "        1.23336014e+00,  1.92936714e-01, -4.91041543e-01,  6.36213678e-01,\n",
       "       -3.00549380e-01, -3.60213381e-01,  6.67777544e-02, -8.22853589e-01,\n",
       "       -2.29053092e-01, -2.17898212e-01, -1.30962225e+00,  2.30553119e+00,\n",
       "       -1.02994133e+00, -8.24994663e-01,  1.44315816e+00, -6.24642220e-02,\n",
       "       -1.51628380e+00, -1.15179988e+00,  5.74444844e-02,  1.63299489e+00,\n",
       "        4.59894366e-01,  2.45677563e-01, -1.06817035e+00,  5.37625645e-02,\n",
       "       -3.36610269e-01, -7.65849695e-01, -6.25750670e-01, -1.11755175e-01,\n",
       "        7.01981599e-01, -7.22000382e-01,  2.09453049e+00, -1.08040618e-01,\n",
       "        6.12669638e-01,  1.01359532e+00,  7.25805935e-01,  5.00590168e-01,\n",
       "       -1.40249663e+00, -1.43600088e+00,  1.35976333e+00, -1.00995879e+00,\n",
       "       -6.67955530e-01, -1.00038788e+00, -6.66177734e-01, -1.11689645e+00,\n",
       "       -5.55981058e-02, -4.02435012e-01,  1.07558411e+00,  4.00602136e-01,\n",
       "        1.28365472e+00,  1.16623313e+00, -1.38629378e+00, -1.12079533e+00,\n",
       "       -1.44360776e-01, -1.00487245e-01,  1.45006801e+00,  1.95843107e+00,\n",
       "       -1.52268066e-01, -3.92936736e-01, -2.20267008e+00, -9.12269181e-01,\n",
       "       -5.52497788e-01, -6.78047907e-01, -1.76510564e+00, -6.13157178e-01,\n",
       "        2.12689265e+00, -1.08278038e+00, -5.80158271e-01, -6.29353968e-01,\n",
       "       -1.30503904e+00, -3.73466673e-01,  1.15209612e+00,  7.00120596e-01,\n",
       "       -7.06920731e-01, -5.71209733e-01,  6.26490374e-01, -1.67784094e+00,\n",
       "       -1.13859877e+00, -4.97297569e-01,  9.37877847e-01,  8.66346112e-01,\n",
       "        5.48556845e-01, -5.21721386e-01, -1.74386724e-01, -1.59480426e-01,\n",
       "       -4.05302080e-01, -1.13744921e-01, -1.23336577e+00, -3.28009546e-01,\n",
       "       -1.15782482e+00, -6.29251312e-01,  3.84254667e-01,  7.69303434e-01,\n",
       "       -5.98225500e-01,  1.16685337e+00,  6.56250284e-01, -4.99081990e-01,\n",
       "        1.42029724e+00, -1.33365865e+00, -1.37140658e+00, -1.89292793e+00,\n",
       "        9.16195949e-01, -4.02750862e-01,  4.80987877e-01, -3.36657933e-01,\n",
       "       -2.39345091e-01,  4.37747471e-01,  1.30924995e-01,  4.31165860e-01,\n",
       "       -5.05118487e-01, -9.19385790e-01,  3.07817049e-01, -2.45739958e+00,\n",
       "       -9.19169558e-01,  5.58404651e-01, -9.91437335e-02,  1.74118536e+00,\n",
       "       -4.00039644e-01, -7.95956696e-01,  8.54358615e-01, -6.30299217e-01,\n",
       "       -7.26155310e-01, -7.63499733e-01, -1.83086874e+00,  6.24496214e-01,\n",
       "       -6.53661485e-01, -6.94534227e-01,  3.43606157e-01, -7.84913669e-01,\n",
       "       -1.99365801e-01,  8.97636876e-01, -7.93749588e-01, -2.09372175e+00,\n",
       "       -6.78892810e-01,  2.12693711e+00,  2.41666234e-01, -4.95320174e-01,\n",
       "        8.04887294e-01, -2.00746929e-01, -6.38114745e-01, -3.99242652e-01,\n",
       "        2.44414547e+00, -6.98998749e-01, -4.63408848e-02, -2.78332639e-02,\n",
       "       -8.83569130e-01, -3.34228603e-01, -8.93489960e-01,  1.40741096e+00,\n",
       "        1.43270425e+00,  4.11771343e-01,  9.36533903e-01, -7.31076868e-01,\n",
       "        3.26723286e-01, -2.73934446e-01,  1.10970403e+00,  2.18231351e+00,\n",
       "        1.29157280e+00,  4.28614234e-01, -1.30913345e-01,  1.40946194e+00,\n",
       "       -1.82469454e+00, -3.26721417e-01, -4.51815097e-01,  1.00793891e+00,\n",
       "        1.02525069e+00,  2.38255667e-01, -6.86251942e-02,  2.58790113e-01,\n",
       "        1.97856196e+00,  2.05818575e+00,  7.49969890e-01, -8.99544797e-01,\n",
       "       -9.62057222e-01,  3.19496207e-01,  1.44227603e-01, -4.93737306e-01,\n",
       "        1.65755016e+00, -4.48471072e-01,  4.50939296e-01, -1.46814168e-01,\n",
       "        5.94671832e-01,  2.13249531e+00,  1.27900113e+00,  2.04845187e+00,\n",
       "       -1.16186382e+00,  9.21596177e-01,  4.70591997e-01, -6.96657816e-01,\n",
       "       -2.54009270e+00, -1.13052003e+00,  2.29998536e-02,  2.31076635e-01,\n",
       "       -2.83962462e-02, -3.51949097e-02,  7.41431259e-01,  2.71395442e-02,\n",
       "       -7.05100610e-02, -8.25955088e-01, -4.53822637e-01,  1.32358823e-01,\n",
       "       -4.38028449e-01,  2.68064626e-01, -1.55413550e+00, -8.09432139e-01,\n",
       "       -6.51985402e-01, -1.48848120e+00, -5.03860749e-02, -1.08741028e-01,\n",
       "       -1.26236097e+00,  1.10131077e+00,  6.87520387e-01,  6.94103102e-01,\n",
       "       -6.02649261e-01, -1.62224060e+00, -1.09999463e+00,  1.59280813e+00])"
      ]
     },
     "execution_count": 6,
     "metadata": {},
     "output_type": "execute_result"
    }
   ],
   "source": [
    "np.random.randn(1000)"
   ]
  },
  {
   "cell_type": "code",
   "execution_count": 22,
   "metadata": {},
   "outputs": [
    {
     "data": {
      "image/png": "[encoded data removed]",
      "text/plain": [
       "<Figure size 432x288 with 1 Axes>"
      ]
     },
     "metadata": {
      "needs_background": "light"
     },
     "output_type": "display_data"
    },
    {
     "data": {
      "image/png": "[encoded data removed]",
      "text/plain": [
       "<Figure size 432x288 with 1 Axes>"
      ]
     },
     "metadata": {
      "needs_background": "light"
     },
     "output_type": "display_data"
    }
   ],
   "source": [
    "# to see the difference between rand (uniform distribution) and randn (normal distribution)\n",
    "sample_size = 10000\n",
    "uniform = np.random.rand(sample_size)\n",
    "normal = np.random.randn(sample_size)\n",
    "\n",
    "pdf, bins, patches = plt.hist(uniform)\n",
    "plt.title('numpy.rand: uniform')\n",
    "plt.show()\n",
    "\n",
    "pdf, bins, patches = plt.hist(normal)\n",
    "plt.title('numpy.randn: normal')\n",
    "plt.show()"
   ]
  },
  {
   "cell_type": "markdown",
   "metadata": {},
   "source": [
    "# numpy.random.randint(low[,high, size, dtype]) \n",
    "Return random integers from low (inclusive) to high (exclusive)."
   ]
  },
  {
   "cell_type": "code",
   "execution_count": 7,
   "metadata": {},
   "outputs": [
    {
     "data": {
      "text/plain": [
       "11"
      ]
     },
     "execution_count": 7,
     "metadata": {},
     "output_type": "execute_result"
    }
   ],
   "source": [
    "np.random.randint(5,15) # generate a random number between 5 - 14"
   ]
  },
  {
   "cell_type": "code",
   "execution_count": 8,
   "metadata": {},
   "outputs": [
    {
     "data": {
      "text/plain": [
       "array([ 8,  6,  6, 12, 11])"
      ]
     },
     "execution_count": 8,
     "metadata": {},
     "output_type": "execute_result"
    }
   ],
   "source": [
    "np.random.randint(5,15,5) # generate an array of 5 random numbers between values 5- 14 (inclusive)"
   ]
  },
  {
   "cell_type": "code",
   "execution_count": 9,
   "metadata": {},
   "outputs": [
    {
     "data": {
      "text/plain": [
       "array([[ 9,  9, 13, 14, 12],\n",
       "       [10, 12, 14,  5, 14],\n",
       "       [11,  8,  6, 10,  7],\n",
       "       [ 9, 11, 13, 14,  5],\n",
       "       [ 9,  8, 12, 11,  5]])"
      ]
     },
     "execution_count": 9,
     "metadata": {},
     "output_type": "execute_result"
    }
   ],
   "source": [
    "np.random.randint(5,15,[5,5])# generate two dimentional array(5 x 5)of random numbers between values 5- 14 (inclusive)"
   ]
  },
  {
   "cell_type": "code",
   "execution_count": 10,
   "metadata": {},
   "outputs": [
    {
     "data": {
      "text/plain": [
       "array([[ 9,  9,  7,  9, 13],\n",
       "       [ 9, 10, 13, 13, 14],\n",
       "       [11,  6,  6,  5,  7],\n",
       "       [ 6,  9, 11,  5,  8],\n",
       "       [11, 14, 11, 11,  6]])"
      ]
     },
     "execution_count": 10,
     "metadata": {},
     "output_type": "execute_result"
    }
   ],
   "source": [
    "np.random.randint(5,15,size=(5,5))# generate two dimentional array(5 x 5)of random numbers between values 5- 14 (inclusive)"
   ]
  },
  {
   "cell_type": "markdown",
   "metadata": {},
   "source": [
    "# Permutations \n",
    "the different ways in which a collection of items can be arranged. "
   ]
  },
  {
   "cell_type": "markdown",
   "metadata": {},
   "source": [
    "# numpy.random.permutation\n",
    "numpy.random.permutation(x)\n",
    "Randomly permute a sequence, or return a permuted range.\n",
    "\n",
    "If x is an integer, randomly permute np.arange(x). If x is an array, make a copy and shuffle the elements randomly.\n",
    "If x is a multi-dimensional array, it is only shuffled along its first index."
   ]
  },
  {
   "cell_type": "code",
   "execution_count": 35,
   "metadata": {},
   "outputs": [
    {
     "data": {
      "text/plain": [
       "array([9, 4, 2, 8, 6, 7, 3, 1, 0, 5])"
      ]
     },
     "execution_count": 35,
     "metadata": {},
     "output_type": "execute_result"
    }
   ],
   "source": [
    "np.random.permutation(10) # if  give an integer than it return randomly permute np.arange(x)\n"
   ]
  },
  {
   "cell_type": "code",
   "execution_count": 11,
   "metadata": {},
   "outputs": [],
   "source": [
    "a=np.random.randint(5,15,8)\n",
    "print (a)"
   ]
  },
  {
   "cell_type": "code",
   "execution_count": 13,
   "metadata": {},
   "outputs": [
    {
     "data": {
      "text/plain": [
       "array([12,  9, 13,  6,  9, 11, 14,  7])"
      ]
     },
     "execution_count": 13,
     "metadata": {},
     "output_type": "execute_result"
    }
   ],
   "source": [
    "np.random.permutation(a)"
   ]
  },
  {
   "cell_type": "code",
   "execution_count": 14,
   "metadata": {},
   "outputs": [
    {
     "name": "stdout",
     "output_type": "stream",
     "text": [
      "[[7 8 4 6]\n",
      " [5 5 8 5]\n",
      " [7 5 8 7]]\n"
     ]
    }
   ],
   "source": [
    "b= np.random.randint(4,10,size=(3,4))# multi dimensional array\n",
    "print(b)"
   ]
  },
  {
   "cell_type": "code",
   "execution_count": 15,
   "metadata": {},
   "outputs": [
    {
     "name": "stdout",
     "output_type": "stream",
     "text": [
      "[[7 5 8 7]\n",
      " [7 8 4 6]\n",
      " [5 5 8 5]]\n"
     ]
    }
   ],
   "source": [
    "c= np.random.permutation(b)\n",
    "print(c)"
   ]
  },
  {
   "cell_type": "markdown",
   "metadata": {},
   "source": [
    "here above its clear that rows are shuffled positons but the contents in row are not shuffled"
   ]
  },
  {
   "cell_type": "markdown",
   "metadata": {},
   "source": [
    "# numpy.random.shuffle(x)\n",
    "Modify a sequence in-place by shuffling its contents.\n",
    "Multi-dimensional arrays are only shuffled along the first axis:"
   ]
  },
  {
   "cell_type": "code",
   "execution_count": 32,
   "metadata": {},
   "outputs": [
    {
     "name": "stdout",
     "output_type": "stream",
     "text": [
      "[2 8 3 1 3 6 2 5]\n",
      "After shuffle [3 2 3 2 5 6 8 1]\n"
     ]
    }
   ],
   "source": [
    "a=np.random.randint(1,11,8)\n",
    "arr=a\n",
    "print(arr)\n",
    "np.random.shuffle(arr)\n",
    "print(\"After shuffle\",arr)"
   ]
  },
  {
   "cell_type": "code",
   "execution_count": 36,
   "metadata": {},
   "outputs": [
    {
     "ename": "TypeError",
     "evalue": "object of type 'int' has no len()",
     "output_type": "error",
     "traceback": [
      "\u001b[1;31m---------------------------------------------------------------------------\u001b[0m",
      "\u001b[1;31mTypeError\u001b[0m                                 Traceback (most recent call last)",
      "\u001b[1;32m<ipython-input-36-efdc983b15de>\u001b[0m in \u001b[0;36m<module>\u001b[1;34m\u001b[0m\n\u001b[1;32m----> 1\u001b[1;33m \u001b[0mnp\u001b[0m\u001b[1;33m.\u001b[0m\u001b[0mrandom\u001b[0m\u001b[1;33m.\u001b[0m\u001b[0mshuffle\u001b[0m\u001b[1;33m(\u001b[0m\u001b[1;36m10\u001b[0m\u001b[1;33m)\u001b[0m\u001b[1;33m\u001b[0m\u001b[1;33m\u001b[0m\u001b[0m\n\u001b[0m",
      "\u001b[1;32mmtrand.pyx\u001b[0m in \u001b[0;36mmtrand.RandomState.shuffle\u001b[1;34m()\u001b[0m\n",
      "\u001b[1;31mTypeError\u001b[0m: object of type 'int' has no len()"
     ]
    }
   ],
   "source": [
    "np.random.shuffle(10)# shuffle only works on sequences unlike permutation where if  give an integer than it return randomly permute np.arange(x)\n"
   ]
  },
  {
   "cell_type": "markdown",
   "metadata": {},
   "source": [
    "# Distribution"
   ]
  },
  {
   "cell_type": "markdown",
   "metadata": {},
   "source": [
    "# numpy.random.standard_normal\n",
    "--numpy.random.standard_normal(size=None)\n",
    "<br>Draw samples from a standard Normal distribution (mean=0, stdev=1)."
   ]
  },
  {
   "cell_type": "code",
   "execution_count": 41,
   "metadata": {},
   "outputs": [],
   "source": [
    "s = np.random.standard_normal(10000)"
   ]
  },
  {
   "cell_type": "code",
   "execution_count": 42,
   "metadata": {},
   "outputs": [
    {
     "data": {
      "text/plain": [
       "-0.002476267028770038"
      ]
     },
     "execution_count": 42,
     "metadata": {},
     "output_type": "execute_result"
    }
   ],
   "source": [
    "s.mean()# mean is nearly 0 "
   ]
  },
  {
   "cell_type": "code",
   "execution_count": 43,
   "metadata": {},
   "outputs": [
    {
     "data": {
      "text/plain": [
       "0.9996277018016897"
      ]
     },
     "execution_count": 43,
     "metadata": {},
     "output_type": "execute_result"
    }
   ],
   "source": [
    "s.std()# standard deviation is nearly 1"
   ]
  },
  {
   "cell_type": "code",
   "execution_count": 44,
   "metadata": {},
   "outputs": [
    {
     "name": "stdout",
     "output_type": "stream",
     "text": [
      "[ 0.10931924  0.86875458 -0.94037189 ... -1.10836336 -0.11809964\n",
      " -1.92668087]\n"
     ]
    }
   ],
   "source": [
    "print(s)"
   ]
  },
  {
   "cell_type": "code",
   "execution_count": 46,
   "metadata": {},
   "outputs": [
    {
     "data": {
      "image/png": "[encoded data removed]",
      "text/plain": [
       "<Figure size 432x288 with 1 Axes>"
      ]
     },
     "metadata": {
      "needs_background": "light"
     },
     "output_type": "display_data"
    }
   ],
   "source": [
    "plt.hist(s)\n",
    "plt.show()"
   ]
  },
  {
   "cell_type": "markdown",
   "metadata": {},
   "source": [
    "# numpy.random.binomial\n",
    "numpy.random.binomial(n, p, size=None)\n",
    "<br>Draw samples from a binomial distribution.\n",
    "\n",
    "<br>Samples are drawn from a binomial distribution with specified parameters, n trials and p probability of success where n an integer >= 0 and p is in the interval [0,1]. (n may be input as a float, but it is truncated to an integer in use)"
   ]
  },
  {
   "cell_type": "code",
   "execution_count": 55,
   "metadata": {},
   "outputs": [
    {
     "name": "stdout",
     "output_type": "stream",
     "text": [
      "[5 2 5 5 4 5 6 4 3 5 6 7 5 3 4 5 7 7 5 6 3 4 3 7 8 4 7 6 5 5 4 3 4 6 3 7 7\n",
      " 5 6 3 2 8 5 6 5 7 5 8 4 7 2 7 5 4 5 5 7 6 3 4 3 7 4 4 6 6 7 5 5 3 5 6 5 3\n",
      " 6 8 4 7 4 2 7 5 7 5 1 6 3 3 6 4 7 3 4 5 4 6 4 6 5 6]\n"
     ]
    }
   ],
   "source": [
    "# no of trials 10\n",
    "#fair coin so probability is 50%\n",
    "# repeat the experiment 100 times\n",
    "s = np.random.binomial(10,0.5,100) # no of heads when tossing a fair coin for 10 time and repating that experiment 100 times\n",
    "print(s)"
   ]
  },
  {
   "cell_type": "code",
   "execution_count": 56,
   "metadata": {},
   "outputs": [
    {
     "data": {
      "text/plain": [
       "[0, 1, 4, 14, 18, 25, 17, 17, 4, 0]"
      ]
     },
     "execution_count": 56,
     "metadata": {},
     "output_type": "execute_result"
    }
   ],
   "source": [
    "# find the number of heads\n",
    "[np.equal(s,i).sum() for i in range(10)]"
   ]
  },
  {
   "cell_type": "code",
   "execution_count": 58,
   "metadata": {},
   "outputs": [
    {
     "name": "stdout",
     "output_type": "stream",
     "text": [
      "[0.0, 0.01, 0.04, 0.14, 0.18, 0.25, 0.17, 0.17, 0.04, 0.0]\n"
     ]
    }
   ],
   "source": [
    "#probabily of outcomes in 100 experiments that the number of heads we got\n",
    "prob= [np.equal(s,i).mean() for i in range(10)]\n",
    "print(prob)"
   ]
  },
  {
   "cell_type": "code",
   "execution_count": 61,
   "metadata": {},
   "outputs": [
    {
     "data": {
      "text/plain": [
       "Text(0, 0.5, 'Probability')"
      ]
     },
     "execution_count": 61,
     "metadata": {},
     "output_type": "execute_result"
    },
    {
     "data": {
      "image/png": "[encoded data removed]",
      "text/plain": [
       "<Figure size 432x288 with 1 Axes>"
      ]
     },
     "metadata": {
      "needs_background": "light"
     },
     "output_type": "display_data"
    }
   ],
   "source": [
    "plt.xticks(range(10))\n",
    "plt.plot(list(range(10)), prob,color='blue', marker='o')\n",
    "plt.xlabel('Number of Heads',fontsize=14)\n",
    "plt.ylabel('Probability',fontsize=14)"
   ]
  },
  {
   "cell_type": "code",
   "execution_count": 50,
   "metadata": {},
   "outputs": [],
   "source": [
    "s = np.random.binomial(6,0.167,10000)"
   ]
  },
  {
   "cell_type": "code",
   "execution_count": 51,
   "metadata": {},
   "outputs": [
    {
     "name": "stdout",
     "output_type": "stream",
     "text": [
      "[1 1 1 ... 3 1 1]\n"
     ]
    }
   ],
   "source": [
    "print(s)"
   ]
  },
  {
   "cell_type": "code",
   "execution_count": 52,
   "metadata": {},
   "outputs": [
    {
     "data": {
      "image/png": "[encoded data removed]",
      "text/plain": [
       "<Figure size 432x288 with 1 Axes>"
      ]
     },
     "metadata": {
      "needs_background": "light"
     },
     "output_type": "display_data"
    }
   ],
   "source": [
    "plt.hist(s)\n",
    "plt.show()"
   ]
  },
  {
   "cell_type": "markdown",
   "metadata": {},
   "source": [
    "# numpy.random.chisquare\n",
    "numpy.random.chisquare(df, size=None)\n",
    "<br>Draw samples from a chi-square distribution.\n",
    "\n",
    "When df independent random variables, each with standard normal distributions (mean 0, variance 1), are squared and summed, the resulting distribution is chi-square. This distribution is often used in hypothesis testing."
   ]
  },
  {
   "cell_type": "code",
   "execution_count": 3,
   "metadata": {},
   "outputs": [
    {
     "data": {
      "text/plain": [
       "array([0.03185978, 3.00733779, 0.30549911, 0.0238357 ])"
      ]
     },
     "execution_count": 3,
     "metadata": {},
     "output_type": "execute_result"
    }
   ],
   "source": [
    "np.random.chisquare(2,4)"
   ]
  },
  {
   "cell_type": "markdown",
   "metadata": {},
   "source": [
    "# numpy.random.f\n",
    "numpy.random.f(dfnum, dfden, size=None)\n",
    "<br>Draw samples from an F distribution.\n",
    "\n",
    "Samples are drawn from an F distribution with specified parameters, dfnum (degrees of freedom in numerator) and dfden (degrees of freedom in denominator), where both parameters should be greater than zero.\n",
    "\n",
    "The random variate of the F distribution (also known as the Fisher distribution) is a continuous probability distribution that arises in ANOVA tests, and is the ratio of two chi-square variates.\n",
    "\n",
    "Parameters:\t\n",
    "dfnum : float or array_like of floats\n",
    "Degrees of freedom in numerator, should be > 0.\n",
    "\n",
    "dfden : float or array_like of float\n",
    "Degrees of freedom in denominator, should be > 0.\n",
    "\n",
    "size : int or tuple of ints, optional\n",
    "Output shape. If the given shape is, e.g., (m, n, k), then m * n * k samples are drawn. If size is None (default), a single value is returned if dfnum and dfden are both scalars. Otherwise, np.broadcast(dfnum, dfden).size samples are drawn.\n",
    "\n",
    "Returns:\t\n",
    "out : ndarray or scalar\n",
    "Drawn samples from the parameterized Fisher distribution."
   ]
  },
  {
   "cell_type": "code",
   "execution_count": null,
   "metadata": {},
   "outputs": [],
   "source": [
    "An example from Glantz[1], pp 47-40:\n",
    "\n",
    "Two groups, children of diabetics (25 people) and children from people without diabetes (25 controls).\n",
    "Fasting blood glucose was measured, case group had a mean value of 86.1, controls had a mean value of 82.2. \n",
    "Standard deviations were 2.09 and 2.49 respectively. \n",
    "Are these data consistent with the null hypothesis that the parents diabetic status does not affect their children’s blood glucose levels? \n",
    "Calculating the F statistic from the data gives a value of 36.01.\n",
    "\n",
    "Draw samples from the distribution:"
   ]
  },
  {
   "cell_type": "code",
   "execution_count": 11,
   "metadata": {},
   "outputs": [],
   "source": [
    "dfnum = 1  # between group degrees of freedom\n",
    "dfden = 48  # within groups degrees of freedom\n",
    "s = np.random.f(dfnum, dfden, 1000)"
   ]
  },
  {
   "cell_type": "code",
   "execution_count": 17,
   "metadata": {},
   "outputs": [
    {
     "data": {
      "text/plain": [
       "6.221635798622754"
      ]
     },
     "execution_count": 17,
     "metadata": {},
     "output_type": "execute_result"
    }
   ],
   "source": [
    "np.sort(s)[-10]"
   ]
  },
  {
   "cell_type": "markdown",
   "metadata": {},
   "source": [
    "So there is about a 1% chance that the F statistic will exceed 6.22, the measured value is 36, so the null hypothesis is rejected at the 1% level."
   ]
  },
  {
   "cell_type": "code",
   "execution_count": 38,
   "metadata": {},
   "outputs": [
    {
     "data": {
      "text/plain": [
       "(array([561., 223., 130.,  50.,  21.,   8.,   2.,   3.,   0.,   2.]),\n",
       " array([2.70053999e-03, 7.90318905e-01, 1.57793727e+00, 2.36555564e+00,\n",
       "        3.15317400e+00, 3.94079237e+00, 4.72841073e+00, 5.51602910e+00,\n",
       "        6.30364746e+00, 7.09126583e+00, 7.87888420e+00]),\n",
       " <a list of 10 Patch objects>)"
      ]
     },
     "execution_count": 38,
     "metadata": {},
     "output_type": "execute_result"
    },
    {
     "data": {
      "image/png": "[encoded data removed]",
      "text/plain": [
       "<Figure size 432x288 with 1 Axes>"
      ]
     },
     "metadata": {
      "needs_background": "light"
     },
     "output_type": "display_data"
    }
   ],
   "source": [
    "plt.hist(s)\n",
    "\n",
    "#plt.plot(s)\n"
   ]
  },
  {
   "cell_type": "markdown",
   "metadata": {},
   "source": [
    "# numpy.random.exponential\n",
    "numpy.random.exponential(scale=1.0, size=None)\n",
    "<br>Draw samples from an exponential distribution.\n",
    "\n",
    "Its probability density function is\n",
    "\n",
    "f(x; \\frac{1}{\\beta}) = \\frac{1}{\\beta} \\exp(-\\frac{x}{\\beta}),\n",
    "\n",
    "for x > 0 and 0 elsewhere. \\beta is the scale parameter, which is the inverse of the rate parameter \\lambda = 1/\\beta. The rate parameter is an alternative, widely used parameterization of the exponential distribution [3].\n",
    "\n",
    "The exponential distribution is a continuous analogue of the geometric distribution. It describes many common situations, such as the size of raindrops measured over many rainstorms [1], or the time between page requests to Wikipedia [2].\n",
    "\n",
    "Parameters:\t\n",
    "scale : float or array_like of floats\n",
    "The scale parameter, \\beta = 1/\\lambda.\n",
    "\n",
    "size : int or tuple of ints, optional\n",
    "Output shape. If the given shape is, e.g., (m, n, k), then m * n * k samples are drawn. If size is None (default), a single value is returned if scale is a scalar. Otherwise, np.array(scale).size samples are drawn.\n",
    "\n",
    "Returns:\t\n",
    "out : ndarray or scalar\n",
    "Drawn samples from the parameterized exponential distribution."
   ]
  },
  {
   "cell_type": "code",
   "execution_count": 27,
   "metadata": {},
   "outputs": [
    {
     "data": {
      "image/png": "[encoded data removed]",
      "text/plain": [
       "<Figure size 432x288 with 1 Axes>"
      ]
     },
     "metadata": {
      "needs_background": "light"
     },
     "output_type": "display_data"
    }
   ],
   "source": [
    "scale = 1\n",
    "s = np.random.exponential(scale, 1000)\n",
    "#Display the histogram of the samples, along with the probability density function:\n",
    "\n",
    "count, bins, ignored = plt.hist(s, 30, density=True)\n"
   ]
  },
  {
   "cell_type": "markdown",
   "metadata": {},
   "source": [
    "# use of seeds in generating pseudorandom numbers"
   ]
  },
  {
   "cell_type": "markdown",
   "metadata": {},
   "source": [
    "The random numbers are actually “pseudo-random numbers”.These are generated by some kinds of deterministic algorithms. These pseudo random numbers follow some kinds of sequences.\n",
    "\n",
    "What is seed?\n",
    "\n",
    "The seed during such random number generation is actually the starting point in the sequence. If we use same seed every time, it will yield same sequence of random numbers.\n",
    "\n",
    "So, same seed yields same sequence of random numbers.\n",
    "\n",
    "reference:https://www.quora.com/What-is-seed-in-random-number-generation accessed 29/10/2019"
   ]
  },
  {
   "cell_type": "code",
   "execution_count": 7,
   "metadata": {},
   "outputs": [
    {
     "name": "stdout",
     "output_type": "stream",
     "text": [
      "Random number with seed =  9\n",
      "Random number with seed =  9\n"
     ]
    }
   ],
   "source": [
    "np.random.seed(100) # Set the random seed\n",
    "print(\"Random number with seed = \", np.random.randint(1, 500))\n",
    "np.random.seed(100)# Set the random seed\n",
    "print(\"Random number with seed = \", np.random.randint(1, 500)) "
   ]
  },
  {
   "cell_type": "code",
   "execution_count": 23,
   "metadata": {},
   "outputs": [
    {
     "name": "stdout",
     "output_type": "stream",
     "text": [
      "Random number with seed =  [10 16 65 29 90 94]\n",
      "Random number with seed =  [30  9 74  1 41 37]\n",
      "\n",
      "Random number with seed =  [10 16 65 29 90 94]\n",
      "Random number with seed =  [30  9 74  1 41 37]\n"
     ]
    }
   ],
   "source": [
    "np.random.seed(10) # Set the random seed\n",
    "print(\"Random number with seed = \", np.random.randint(1, 100, size=6))\n",
    "print(\"Random number with seed = \", np.random.randint(1, 100, size=6))\n",
    "\n",
    "np.random.seed(10) # Set the random seed\n",
    "print(\"\\nRandom number with seed = \", np.random.randint(1, 100, size=6))\n",
    "print(\"Random number with seed = \", np.random.randint(1, 100, size=6))"
   ]
  },
  {
   "cell_type": "code",
   "execution_count": null,
   "metadata": {},
   "outputs": [],
   "source": [
    "as it is clear from result that if "
   ]
  },
  {
   "cell_type": "code",
   "execution_count": 8,
   "metadata": {},
   "outputs": [
    {
     "name": "stdout",
     "output_type": "stream",
     "text": [
      "Random number without seed =  281\n",
      "Random number without seed =  324\n"
     ]
    }
   ],
   "source": [
    "# without seed\n",
    "print(\"Random number without seed = \", np.random.randint(1, 500))\n",
    "print(\"Random number without seed = \", np.random.randint(1, 500))"
   ]
  },
  {
   "cell_type": "code",
   "execution_count": null,
   "metadata": {},
   "outputs": [],
   "source": []
  }
 ],
 "metadata": {
  "kernelspec": {
   "display_name": "Python 3",
   "language": "python",
   "name": "python3"
  },
  "language_info": {
   "codemirror_mode": {
    "name": "ipython",
    "version": 3
   },
   "file_extension": ".py",
   "mimetype": "text/x-python",
   "name": "python",
   "nbconvert_exporter": "python",
   "pygments_lexer": "ipython3",
   "version": "3.7.1"
  }
 },
 "nbformat": 4,
 "nbformat_minor": 2
}
