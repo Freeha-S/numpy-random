{
 "cells": [
  {
   "cell_type": "markdown",
   "metadata": {},
   "source": [
    "## ProgDA_Assignment"
   ]
  },
  {
   "cell_type": "markdown",
   "metadata": {},
   "source": [
    "##  Module: Programming for Data Analysis"
   ]
  },
  {
   "cell_type": "markdown",
   "metadata": {},
   "source": [
    "## Lecturer: Dr. Brian McGinley"
   ]
  },
  {
   "cell_type": "markdown",
   "metadata": {},
   "source": [
    "## Introduction:\n",
    "This jupyter notebook contains the numpy.random package investigation as part of the Programming for Data Analysis Module of Data Analytics at GMIT."
   ]
  },
  {
   "cell_type": "markdown",
   "metadata": {},
   "source": [
    "## Objectives: \n",
    "Investigate the __numpy.random package__\n",
    "\n",
    "1. Explain the overall purpose of the package. \n",
    "2. Explain the use of the “Simple random data” and “Permutations” functions. \n",
    "3. Explain the use and purpose of at least ﬁve “Distributions” functions. \n",
    "4. Explain the use of seeds in generating pseudorandom numbers.\n"
   ]
  },
  {
   "cell_type": "code",
   "execution_count": null,
   "metadata": {},
   "outputs": [],
   "source": []
  },
  {
   "cell_type": "markdown",
   "metadata": {},
   "source": [
    "# Numpy\n",
    "NumPy is a module for Python. The name is an acronym for \"Numeric Python\" or \"Numerical Python\". it is the fundamental python package for numerical computing. It is a general-purpose array-processing package.\n",
    "It provides a high-performance multidimensional array objects, and  supplies a large library of high-level mathematical functions to operate on these matrices and arrays.\n",
    "\n",
    "Advantages of using Numpy with Python:\n",
    "\n",
    "- Array oriented computing\n",
    "- Efficiently implemented multi-dimensional arrays\n",
    "- Designed for scientific computation\n",
    "- Basic and powerful package for working with data in python "
   ]
  },
  {
   "cell_type": "markdown",
   "metadata": {},
   "source": [
    "# 1. Purpose of  numpy.random package\n",
    "(Random sampling)\n",
    "\n",
    "The random module in Numpy package contains many functions for\n",
    "-  generation of random number.\n",
    "-  shuffle the existing data.\n",
    "-  generating NumPy arrays of random numbers sampled from various data distributions.\n",
    "\n",
    "<p>Computers can be used to simulate the generation of random numbers. This random numbers generation is referred to as a pseudo-random generation.  These created values are not truly \"random\" because a mathematical formula is used to generate the values.</p>"
   ]
  },
  {
   "cell_type": "code",
   "execution_count": 49,
   "metadata": {},
   "outputs": [],
   "source": [
    "#before using the numpy, we need to import this module\n",
    "import numpy as np #import numpy\n",
    "#import matplotlib.pyplot\n",
    "import matplotlib.pyplot as plt\n",
    "#import seaborn as sns\n",
    "import seaborn as sns"
   ]
  },
  {
   "cell_type": "markdown",
   "metadata": {},
   "source": [
    "# 2. Simple Random Data\n",
    "Random submodule provides handy functions to generate data randomly and draw samples from various distributions."
   ]
  },
  {
   "cell_type": "markdown",
   "metadata": {},
   "source": [
    "## 2.1 random.rand function\n",
    "__Syntax__ numpy.random.rand(d0, d1, …, dn)\n",
    "\n",
    "__Parameter__ d0, d1, …, dn ..... *optional (dimentions of array)* __type__ int\n",
    "\n",
    "&nbsp; Create an array of the given shape and populate it with random samples from a uniform distribution over (0,1).Uniform distribution refers to a probability distribution for which all of the values that a random variable can take on occur have equal probability. \n",
    "\n",
    "&ensp; The dimensions of the returned array, should all be positive. If no argument is given a single python float is returned.\n"
   ]
  },
  {
   "cell_type": "code",
   "execution_count": 2,
   "metadata": {},
   "outputs": [
    {
     "data": {
      "text/plain": [
       "0.42970776111828735"
      ]
     },
     "execution_count": 2,
     "metadata": {},
     "output_type": "execute_result"
    }
   ],
   "source": [
    "np.random.rand() # if no dimention is given a random float value between 0 - 1"
   ]
  },
  {
   "cell_type": "code",
   "execution_count": 3,
   "metadata": {},
   "outputs": [
    {
     "data": {
      "text/plain": [
       "array([0.79772562, 0.6075889 , 0.17445646, 0.94978971, 0.32657784,\n",
       "       0.55610999, 0.19347507])"
      ]
     },
     "execution_count": 3,
     "metadata": {},
     "output_type": "execute_result"
    }
   ],
   "source": [
    "np.random.rand(7)#create a one dimentional array of size 7 and each element value lie between 0 - 1"
   ]
  },
  {
   "cell_type": "code",
   "execution_count": 4,
   "metadata": {},
   "outputs": [
    {
     "data": {
      "text/plain": [
       "array([[0.02577864, 0.65173628, 0.78972937],\n",
       "       [0.02991834, 0.18824477, 0.80550378]])"
      ]
     },
     "execution_count": 4,
     "metadata": {},
     "output_type": "execute_result"
    }
   ],
   "source": [
    "np.random.rand(2,3)# two dimentional array"
   ]
  },
  {
   "cell_type": "code",
   "execution_count": 5,
   "metadata": {},
   "outputs": [
    {
     "data": {
      "text/plain": [
       "array([[[0.52297905, 0.96035168, 0.06546505, 0.17527874],\n",
       "        [0.46682177, 0.37914339, 0.28472821, 0.09940576]],\n",
       "\n",
       "       [[0.9260398 , 0.66094879, 0.3673345 , 0.83888205],\n",
       "        [0.65461545, 0.5180129 , 0.47440941, 0.87241931]],\n",
       "\n",
       "       [[0.53247114, 0.2935387 , 0.76170926, 0.30241221],\n",
       "        [0.4347604 , 0.73112824, 0.88609902, 0.58540129]]])"
      ]
     },
     "execution_count": 5,
     "metadata": {},
     "output_type": "execute_result"
    }
   ],
   "source": [
    "np.random.rand (3,2,4) # three dimention array"
   ]
  },
  {
   "cell_type": "code",
   "execution_count": 9,
   "metadata": {},
   "outputs": [
    {
     "name": "stdout",
     "output_type": "stream",
     "text": [
      "[[2.94533771e-04 6.86148908e-04 3.59988485e-03 ... 9.93103466e-01\n",
      "  9.93695088e-01 9.99001484e-01]\n",
      " [1.00000000e+00 1.00000000e+00 1.00000000e+00 ... 1.00000000e+00\n",
      "  1.00000000e+00 1.00000000e+00]]\n"
     ]
    },
    {
     "data": {
      "image/png": "[encoded data removed]",
      "text/plain": [
       "<Figure size 432x288 with 1 Axes>"
      ]
     },
     "metadata": {
      "needs_background": "light"
     },
     "output_type": "display_data"
    }
   ],
   "source": [
    "r1 = np.random.rand(1000)# generate 1000 random numbers and their value between 0 and 1 \n",
    "plt.plot(r1,'g.')\n",
    "plt.show()# the graph shows values in a set of data are equally spread across the range of the data set,\n",
    "#Graphically, a uniform distribution has no distinct peaks."
   ]
  },
  {
   "cell_type": "markdown",
   "metadata": {},
   "source": [
    "## 2.2 numpy.random.randn(d0, d1, …, dn) \n",
    "__Syntax__ numpy.random.randn(d0, d1, …, dn)\n",
    "\n",
    "__Parameter__ d0, d1, …, dn ..... *optional (dimentions of array)* __type__ int\n",
    "\n",
    "   Return a sample (or samples) from the “standard normal” distribution. The standard normal distribution is a special case of the normal distribution . It is the distribution that occurs when a normal random variable has a mean of zero and a standard deviation of one."
   ]
  },
  {
   "cell_type": "code",
   "execution_count": 35,
   "metadata": {},
   "outputs": [
    {
     "name": "stdout",
     "output_type": "stream",
     "text": [
      " the mean of selected samples -0.036468075839079434\n",
      "The standard deviation 0.9945770139503236\n"
     ]
    }
   ],
   "source": [
    "rn=np.random.randn(1000)\n",
    "print(\" the mean of selected samples\",rn.mean())# the mean of standard normal distribution be equal to 0\n",
    "print(\"The standard deviation\",rn.std())# the standard deviation  be equal to 1"
   ]
  },
  {
   "cell_type": "code",
   "execution_count": 30,
   "metadata": {},
   "outputs": [
    {
     "data": {
      "image/png": "[encoded data removed]",
      "text/plain": [
       "<Figure size 720x288 with 2 Axes>"
      ]
     },
     "metadata": {
      "needs_background": "light"
     },
     "output_type": "display_data"
    }
   ],
   "source": [
    "# to see the difference between rand (uniform distribution) and randn (normal distribution)\n",
    "sample_size = 10000\n",
    "uniform = np.random.rand(sample_size)\n",
    "normal = np.random.randn(sample_size)\n",
    "\n",
    "fig, (ax1,ax2)= plt.subplots(ncols=2, figsize=(10,4))\n",
    "ax1.hist(uniform)\n",
    "ax2.hist(normal)\n",
    "ax1.set_title('numpy.rand: uniform')\n",
    "ax2.set_title('numpy.randn: normal')\n",
    "plt.show()"
   ]
  },
  {
   "cell_type": "markdown",
   "metadata": {},
   "source": [
    "## 2.3 numpy.random.randint(low[,high, size, dtype]) \n",
    "numpy.random.randint() is one of the function for doing random sampling in numpy. It returns an array of specified shape and fills it with random integers from low (inclusive) to high (exclusive), i.e. in the interval [low,high]\n",
    "\n",
    "__Syntax:__  numpy.random.randint(low, high=None, size=None, dtype=’l’)\n",
    "\n",
    "__Parameters:__ \n",
    "\n",
    "__low :__ [int] Lowest (signed) integer to be drawn from the distribution.But, it works as a highest integer in the sample if high=None.\n",
    "\n",
    "__high :__ [int, optional] Largest (signed) integer to be drawn from the distribution.\n",
    "\n",
    "__size :__ [int or tuple of ints, optional] Output shape. If the given shape is, e.g., (m, n, k), then m * n * k samples are drawn. Default is None, in which case a single value is returned.\n",
    "\n",
    "__dtype :__ [optional] Desired output data-type.\n",
    "\n",
    "__Return :__ Array of random integers in the interval [low, high] or a single such random int if size not provided.\n",
    "\n",
    "this function Return random integers from the “discrete uniform” distribution of the specified dtype in the “half-open” interval [low, high]. If high is None (the default), then results are from [0, low]\n"
   ]
  },
  {
   "cell_type": "code",
   "execution_count": 40,
   "metadata": {},
   "outputs": [
    {
     "data": {
      "text/plain": [
       "0"
      ]
     },
     "execution_count": 40,
     "metadata": {},
     "output_type": "execute_result"
    }
   ],
   "source": [
    "np.random.randint(5)# If high is None (the default), then results are from [0, low]"
   ]
  },
  {
   "cell_type": "code",
   "execution_count": 37,
   "metadata": {},
   "outputs": [
    {
     "data": {
      "text/plain": [
       "5"
      ]
     },
     "execution_count": 37,
     "metadata": {},
     "output_type": "execute_result"
    }
   ],
   "source": [
    "np.random.randint(5,15) # generate a random number between 5 - 14"
   ]
  },
  {
   "cell_type": "code",
   "execution_count": 9,
   "metadata": {},
   "outputs": [
    {
     "data": {
      "text/plain": [
       "array([ 9, 14, 14,  8, 14])"
      ]
     },
     "execution_count": 9,
     "metadata": {},
     "output_type": "execute_result"
    }
   ],
   "source": [
    "np.random.randint(5,15,5) # generate an array of 5 random numbers between values 5- 14 (inclusive)"
   ]
  },
  {
   "cell_type": "code",
   "execution_count": 10,
   "metadata": {},
   "outputs": [
    {
     "data": {
      "text/plain": [
       "array([[11,  6, 13,  5, 14],\n",
       "       [ 9,  8, 14,  6,  9],\n",
       "       [11,  8,  5, 14, 13],\n",
       "       [ 6, 11, 11,  6,  7],\n",
       "       [ 5, 12,  5, 14, 13]])"
      ]
     },
     "execution_count": 10,
     "metadata": {},
     "output_type": "execute_result"
    }
   ],
   "source": [
    "np.random.randint(5,15,[5,5])# generate two dimentional array(5 x 5)of random numbers between values 5- 14 (inclusive)"
   ]
  },
  {
   "cell_type": "code",
   "execution_count": 11,
   "metadata": {},
   "outputs": [
    {
     "data": {
      "text/plain": [
       "array([[13,  5,  9, 13, 10],\n",
       "       [10, 10, 14, 10,  5],\n",
       "       [ 8,  8,  7, 14,  5],\n",
       "       [10, 14,  8,  6, 13],\n",
       "       [13, 10, 12, 12,  7]])"
      ]
     },
     "execution_count": 11,
     "metadata": {},
     "output_type": "execute_result"
    }
   ],
   "source": [
    "np.random.randint(5,15,size=(5,5))# generate two dimentional array(5 x 5)of random numbers between values 5- 14 (inclusive)"
   ]
  },
  {
   "cell_type": "code",
   "execution_count": 39,
   "metadata": {},
   "outputs": [
    {
     "data": {
      "text/plain": [
       "array([1, 2, 4, 3, 4, 1, 4, 2, 3, 1, 4, 2, 6, 1, 6, 3, 3, 6, 2, 4, 1, 5,\n",
       "       5, 1, 2, 3, 6, 1, 5, 1, 1, 4, 5, 1, 1, 6, 4, 6, 1, 6, 5, 3, 3, 4,\n",
       "       1, 5, 3, 2, 4, 1, 1, 3, 1, 6, 1, 6, 4, 4, 5, 5, 4, 1, 5, 1, 3, 1,\n",
       "       3, 4, 4, 1, 3, 2, 6, 1, 5, 1, 2, 3, 3, 3, 5, 3, 2, 1, 6, 2, 5, 3,\n",
       "       4, 6, 1, 4, 2, 5, 1, 1, 2, 3, 6, 5])"
      ]
     },
     "execution_count": 39,
     "metadata": {},
     "output_type": "execute_result"
    }
   ],
   "source": [
    "# code for generate a random sample of rolling a dice 100 time\n",
    "np.random.randint(1,7,100)"
   ]
  },
  {
   "cell_type": "markdown",
   "metadata": {},
   "source": [
    "## 2.4 numpy.random.choice\n",
    "\n",
    "Generates a random sample from a given 1-D array\n",
    "\n",
    "__Syntax:__ numpy.random.choice(a, size=None, replace=True, p=None)\n",
    "\n",
    "__Parameters:__\n",
    "\n",
    "__a :__ 1-D array-like or int If an ndarray, a random sample is generated from its elements. If an int, the random sample is generated as if a were np.arange(a)\n",
    "\n",
    "__size:__ int or tuple of ints, *optional*\n",
    "\n",
    "Output shape. If the given shape is, e.g., (m, n, k), then m * n * k samples are drawn. Default is None, in which case a single value is returned.\n",
    "\n",
    "__replace:__ boolean, *optional*\n",
    "\n",
    "Whether the sample is with or without replacement\n",
    "\n",
    "__p:__ 1-D array-like, *optional*\n",
    "\n",
    "The probabilities associated with each entry in a. If not given the sample assumes a uniform distribution over all entries in a.\n",
    "\n",
    "__Returns:__ samples : single item or ndarray\n",
    "<br>The generated random samples\n",
    "\n",
    "__Raises:__ ValueError\n",
    "\n",
    "If a is an int and less than zero, if a or p are not 1-dimensional, if a is an array-like of size 0, if p is not a vector of probabilities, if a and p have different lengths, or if replace=False and the sample size is greater than the population size"
   ]
  },
  {
   "cell_type": "code",
   "execution_count": 42,
   "metadata": {},
   "outputs": [
    {
     "data": {
      "text/plain": [
       "array([1, 3, 3])"
      ]
     },
     "execution_count": 42,
     "metadata": {},
     "output_type": "execute_result"
    }
   ],
   "source": [
    "np.random.choice(5, 3)#Generate a uniform random sample from np.arange(5) of size 3"
   ]
  },
  {
   "cell_type": "code",
   "execution_count": 43,
   "metadata": {},
   "outputs": [
    {
     "data": {
      "text/plain": [
       "array([3, 3, 2], dtype=int64)"
      ]
     },
     "execution_count": 43,
     "metadata": {},
     "output_type": "execute_result"
    }
   ],
   "source": [
    "np.random.choice(5, 3, p=[0.1, 0, 0.3, 0.6, 0])#Generate a uniform random sample from np.arange(5) of size 3"
   ]
  },
  {
   "cell_type": "code",
   "execution_count": 45,
   "metadata": {},
   "outputs": [
    {
     "data": {
      "text/plain": [
       "'Ace'"
      ]
     },
     "execution_count": 45,
     "metadata": {},
     "output_type": "execute_result"
    }
   ],
   "source": [
    "facecard= [\"King\",\"Queen\",\"Joker\",\"Ace\"]\n",
    "np.random.choice(facecard)"
   ]
  },
  {
   "cell_type": "markdown",
   "metadata": {},
   "source": [
    "# Permutations \n",
    "The different ways in which a collection of items can be arranged. "
   ]
  },
  {
   "cell_type": "markdown",
   "metadata": {},
   "source": [
    "## 2.5  numpy.random.permutation\n",
    "\n",
    "Randomly permute a sequence, or return a permuted range.\n",
    "\n",
    "__Syntax:__ numpy.random.permutation(x)\n",
    "\n",
    "__parameters:__\n",
    "\n",
    "__x :___ int or array_like\n",
    "\n",
    "If x is an integer, randomly permute np.arange(x). If x is an array, make a copy and shuffle the elements randomly.\n",
    "If x is a multi-dimensional array, it is only shuffled along its first index.\n",
    "\n",
    "__Returns:__  ndarray\n",
    "*Permuted sequence or array range*"
   ]
  },
  {
   "cell_type": "code",
   "execution_count": 12,
   "metadata": {},
   "outputs": [
    {
     "data": {
      "text/plain": [
       "array([4, 5, 0, 3, 6, 1, 2, 7, 9, 8])"
      ]
     },
     "execution_count": 12,
     "metadata": {},
     "output_type": "execute_result"
    }
   ],
   "source": [
    "np.random.permutation(10) # if  give an integer than it return randomly permute np.arange(x)\n"
   ]
  },
  {
   "cell_type": "code",
   "execution_count": 13,
   "metadata": {},
   "outputs": [
    {
     "name": "stdout",
     "output_type": "stream",
     "text": [
      "[13 14  8  5  9  7  7 14]\n"
     ]
    }
   ],
   "source": [
    "a=np.random.randint(5,15,8)\n",
    "print (a)# print original array"
   ]
  },
  {
   "cell_type": "code",
   "execution_count": 14,
   "metadata": {},
   "outputs": [
    {
     "data": {
      "text/plain": [
       "array([ 7, 13, 14,  9,  5, 14,  7,  8])"
      ]
     },
     "execution_count": 14,
     "metadata": {},
     "output_type": "execute_result"
    }
   ],
   "source": [
    "np.random.permutation(a) # print after permutation"
   ]
  },
  {
   "cell_type": "code",
   "execution_count": 47,
   "metadata": {},
   "outputs": [
    {
     "name": "stdout",
     "output_type": "stream",
     "text": [
      "[[7 7 4 8]\n",
      " [6 8 9 7]\n",
      " [5 8 4 8]]\n"
     ]
    }
   ],
   "source": [
    "b= np.random.randint(4,10,size=(3,4))# multi dimensional array\n",
    "print(b)"
   ]
  },
  {
   "cell_type": "code",
   "execution_count": 48,
   "metadata": {},
   "outputs": [
    {
     "name": "stdout",
     "output_type": "stream",
     "text": [
      "[[6 8 9 7]\n",
      " [7 7 4 8]\n",
      " [5 8 4 8]]\n"
     ]
    }
   ],
   "source": [
    "c= np.random.permutation(b)# \n",
    "print(c)# print permutated multidimensional array"
   ]
  },
  {
   "cell_type": "markdown",
   "metadata": {},
   "source": [
    "here above its clear that rows are shuffled positons but the contents in row are not shuffled"
   ]
  },
  {
   "cell_type": "markdown",
   "metadata": {},
   "source": [
    "## 2.6 numpy.random.shuffle\n",
    "Modify a sequence in-place by shuffling its contents.Multi-dimensional arrays are only shuffled along the first axis.\n",
    "\n",
    "__Syntax:__ numpy.random.shuffle(x)\n",
    "\n",
    "__Parametera:__ \n",
    "__x :__ array_like\n",
    "*The array or list to be shuffled.*\n",
    "\n",
    "__Returns:__ None\n"
   ]
  },
  {
   "cell_type": "code",
   "execution_count": 17,
   "metadata": {},
   "outputs": [
    {
     "name": "stdout",
     "output_type": "stream",
     "text": [
      "[3 1 3 4 1 5 6 6]\n",
      "After shuffle [3 3 1 6 6 4 1 5]\n"
     ]
    }
   ],
   "source": [
    "a=np.random.randint(1,11,8)\n",
    "arr=a\n",
    "print(arr)\n",
    "np.random.shuffle(arr)\n",
    "print(\"After shuffle\",arr)"
   ]
  },
  {
   "cell_type": "code",
   "execution_count": 18,
   "metadata": {},
   "outputs": [
    {
     "ename": "TypeError",
     "evalue": "object of type 'int' has no len()",
     "output_type": "error",
     "traceback": [
      "\u001b[1;31m---------------------------------------------------------------------------\u001b[0m",
      "\u001b[1;31mTypeError\u001b[0m                                 Traceback (most recent call last)",
      "\u001b[1;32m<ipython-input-18-63c8933fbb14>\u001b[0m in \u001b[0;36m<module>\u001b[1;34m\u001b[0m\n\u001b[1;32m----> 1\u001b[1;33m \u001b[0mnp\u001b[0m\u001b[1;33m.\u001b[0m\u001b[0mrandom\u001b[0m\u001b[1;33m.\u001b[0m\u001b[0mshuffle\u001b[0m\u001b[1;33m(\u001b[0m\u001b[1;36m10\u001b[0m\u001b[1;33m)\u001b[0m\u001b[1;31m# shuffle only works on sequences unlike permutation where if  give an integer than it return randomly permute np.arange(x)\u001b[0m\u001b[1;33m\u001b[0m\u001b[1;33m\u001b[0m\u001b[0m\n\u001b[0m",
      "\u001b[1;32mmtrand.pyx\u001b[0m in \u001b[0;36mmtrand.RandomState.shuffle\u001b[1;34m()\u001b[0m\n",
      "\u001b[1;31mTypeError\u001b[0m: object of type 'int' has no len()"
     ]
    }
   ],
   "source": [
    "np.random.shuffle(10)\n",
    "# shuffle only works on sequences unlike permutation where if  give an integer than it return randomly permute np.arange(x)\n"
   ]
  },
  {
   "cell_type": "markdown",
   "metadata": {},
   "source": [
    "# 3. Distributions"
   ]
  },
  {
   "cell_type": "markdown",
   "metadata": {},
   "source": [
    "## Random Variable\n",
    "A random variable is a variable whose possible values are numerical outcomes of a random phenomenon.<br>\n",
    "There are two types of random variables, \n",
    "- Discrete\n",
    "- Continuous\n",
    "\n",
    "A __discrete random variable__ is one which may take on only a countable number of distinct values and thus can be quantified. For example, you can define a random variable X to be the number which comes up when you roll a fair dice. X can take values : [1,2,3,4,5,6] and therefore is a discrete random variable.\n",
    "\n",
    "The probability distribution of a discrete random variable is a list of probabilities associated with each of its possible values. It is also sometimes called the probability function or the probability mass function. \n",
    "Suppose a random variable X may take k different values, with the probability that X=xi defined to be P(X=xi)=pi. Then the probabilities pi must satisfy the following:\n",
    "\n",
    "1: 0 < pi < 1 for each i\n",
    "2: p1+p2+...+pk=1.\n",
    "\n",
    "Some examples of discrete probability distributions are Bernoulli distribution, Binomial distribution, Poisson distribution etc.\n",
    "\n",
    "A __continuous random variable__ is one which takes an infinite number of possible values. For example, you can define a random variable X to be the height of students in a class. Since the continuous random variable is defined over an interval of values, it is represented by the area under a curve (or the integral).\n",
    "\n",
    "The probability distribution of a continuous random variable, known as probability distribution functions, are the functions that take on continuous values. The probability of observing any single value is equal to 0 since the number of values which may be assumed by the random variable is infinite. For example, a random variable X may take all values over an interval of real numbers. Then the probability that X is in the set of outcomes A,P(A), is defined to be the area above A and under a curve. The curve, which represents a function p(x), must satisfy the following:\n",
    "\n",
    "1: The curve has no negative values (p(x)>0 for all x)\n",
    "\n",
    "2: The total area under the curve is equal to 1.\n",
    "\n",
    "A curve meeting these requirements is often known as a density curve. Some examples of continuous probability distributions are normal distribution, exponential distribution, beta distribution, etc.\n",
    "\n",
    "There’s another type of distribution that often pops up in literature which you should know about called cumulative distribution function. All random variables (discrete and continuous) have a cumulative distribution function. It is a function giving the probability that the random variable X is less than or equal to x, for every value x. For a discrete random variable, the cumulative distribution function is found by summing up the probabilities.\n",
    "[https://www.datacamp.com/community/tutorials/probability-distributions-python]\n",
    "\n",
    "Probability distributions are models that approximate reality. If we can identify a distribution that closely models the the outcome we care about then that’s really powerful."
   ]
  },
  {
   "cell_type": "markdown",
   "metadata": {},
   "source": [
    "# 3.1 numpy.random.standard_normal\n",
    "\n",
    "<br>Draw samples from a standard Normal distribution (mean=0, stdev=1). \n",
    "\n",
    "__Syntax:__ \n",
    "&nbsp;&nbsp;&nbsp;numpy.random.standard_normal(size=None)\n",
    "\n",
    "__Parameters:__ <br>\n",
    "&nbsp; &nbsp; &nbsp; &nbsp; &nbsp; __size :__ int or tuple of ints, _optional\n",
    "        <pre>Output shape. If the given shape is, e.g., (m, n, k), then m * n * k samples are drawn. \n",
    "        Default is None, in which case a single value is returned.</pre>\n",
    "\n",
    "__Returns:__\n",
    "&nbsp;  float or ndarray\n",
    "\n",
    "The standard normal distribution is a special case of the normal distribution . It is the distribution that occurs when a normal random variable has a mean of zero and a standard deviation of one.\n",
    "\n",
    "The normal random variable of a standard normal distribution is called a standard score or a z score. Every normal random variable X can be transformed into a z score via the following equation:\n",
    "z = (X - μ) / σ\n",
    "\n",
    "where X is a normal random variable, μ is the mean, and σ is the standard deviation.\n"
   ]
  },
  {
   "cell_type": "code",
   "execution_count": 19,
   "metadata": {},
   "outputs": [],
   "source": [
    "s = np.random.standard_normal(10000)"
   ]
  },
  {
   "cell_type": "code",
   "execution_count": 20,
   "metadata": {},
   "outputs": [
    {
     "data": {
      "text/plain": [
       "0.006681092688359082"
      ]
     },
     "execution_count": 20,
     "metadata": {},
     "output_type": "execute_result"
    }
   ],
   "source": [
    "s.mean()# mean is nearly 0 "
   ]
  },
  {
   "cell_type": "code",
   "execution_count": 21,
   "metadata": {},
   "outputs": [
    {
     "data": {
      "text/plain": [
       "1.0043902347639038"
      ]
     },
     "execution_count": 21,
     "metadata": {},
     "output_type": "execute_result"
    }
   ],
   "source": [
    "s.std()# standard deviation is nearly 1"
   ]
  },
  {
   "cell_type": "code",
   "execution_count": 22,
   "metadata": {},
   "outputs": [
    {
     "name": "stdout",
     "output_type": "stream",
     "text": [
      "[ 1.36532018  0.42991184 -0.16357301 ... -0.92054225  1.53400513\n",
      " -0.25693485]\n"
     ]
    }
   ],
   "source": [
    "print(s)"
   ]
  },
  {
   "cell_type": "code",
   "execution_count": 23,
   "metadata": {},
   "outputs": [
    {
     "data": {
      "image/png": "[encoded data removed]",
      "text/plain": [
       "<Figure size 432x288 with 1 Axes>"
      ]
     },
     "metadata": {
      "needs_background": "light"
     },
     "output_type": "display_data"
    }
   ],
   "source": [
    "plt.hist(s)\n",
    "plt.show()"
   ]
  },
  {
   "cell_type": "code",
   "execution_count": 24,
   "metadata": {},
   "outputs": [
    {
     "name": "stdout",
     "output_type": "stream",
     "text": [
      "[[[ 2.1968588   0.41546272]\n",
      "  [ 1.24171278  0.64738304]\n",
      "  [ 1.23476581 -0.50912474]\n",
      "  [ 1.06497685  1.63322991]\n",
      "  [ 0.46481599  0.02419033]\n",
      "  [-0.98191015 -0.72584531]\n",
      "  [-1.38907838  0.66110751]\n",
      "  [ 0.11300214  1.97739503]]\n",
      "\n",
      " [[ 2.23356977 -0.38460034]\n",
      "  [-0.39719726 -1.59501608]\n",
      "  [-1.85967226 -0.6465659 ]\n",
      "  [ 1.62425699  0.30522002]\n",
      "  [ 0.45715694 -0.68242661]\n",
      "  [-0.54423631 -0.18286526]\n",
      "  [-1.61512985  0.23989641]\n",
      "  [-1.67680507  1.00478851]]\n",
      "\n",
      " [[ 0.04089331 -0.4985918 ]\n",
      "  [-2.05750165 -0.84552381]\n",
      "  [-0.81718826  1.25368805]\n",
      "  [-0.30363303 -0.52700224]\n",
      "  [ 0.67465773 -1.36342217]\n",
      "  [-1.8207755  -0.0202516 ]\n",
      "  [ 0.50468202  0.84964991]\n",
      "  [ 1.39955571  0.30186409]]\n",
      "\n",
      " [[ 1.35764329 -0.38696876]\n",
      "  [ 0.21568052 -0.44949556]\n",
      "  [-1.53181037 -1.38282669]\n",
      "  [ 1.39491033  1.55579952]\n",
      "  [-1.37427543  0.68506102]\n",
      "  [-0.68987692 -2.13500654]\n",
      "  [-1.1841197   0.54245288]\n",
      "  [ 0.52082681 -1.29702872]]\n",
      "\n",
      " [[-0.97236047 -0.15910565]\n",
      "  [-0.57140906 -0.02762881]\n",
      "  [ 0.09575722  0.26868329]\n",
      "  [-0.49438661 -0.42643759]\n",
      "  [ 0.93946027 -1.25825312]\n",
      "  [-0.33208725 -1.04292119]\n",
      "  [ 2.00624923 -0.27801014]\n",
      "  [ 0.25618963 -1.9815437 ]]]\n"
     ]
    }
   ],
   "source": [
    "s1 = np.random.standard_normal(size=(5, 8, 2))\n",
    "print(s1)"
   ]
  },
  {
   "cell_type": "markdown",
   "metadata": {},
   "source": [
    "# 3.2 numpy.random.binomial\n",
    "\n",
    "Draw samples from a binomial distribution.\n",
    "\n",
    "Samples are drawn from a binomial distribution with specified parameters, __n__ trials and __p__ probability of success where __n__ an integer >= 0 and p is in the interval [0,1].(n may be input as a float, but it is truncated to an integer in use)\n",
    "\n",
    "__Syntax:__    numpy.random.binomial(n, p, size=None)\n",
    "\n",
    "__Parameters:__ <p>\n",
    " &nbsp; &nbsp; &nbsp; &nbsp; &nbsp; __n :__ float (but truncated to an integer) parameter, >= 0<br> \n",
    " &nbsp; &nbsp; &nbsp; &nbsp; &nbsp; __p :__ float parameter, >= 0 and <=1 <br>\n",
    " &nbsp; &nbsp; &nbsp; &nbsp; &nbsp;  __size :__ int or tuple of ints, _optional\n",
    "\n",
    "        Output shape. If the given shape is, e.g., (m, n, k), then m * n * k samples are drawn. \n",
    "        Default is None, in which case a single value is returned.</p>\n",
    "__Returns:__ <br>\n",
    "&nbsp; &nbsp; &nbsp; &nbsp; &nbsp;  __samples__ : {ndarray, scalar}\n",
    "            where the values are all integers in [0, n].\n"
   ]
  },
  {
   "cell_type": "markdown",
   "metadata": {},
   "source": [
    "The probability density for the binomial distribution is $$P(N) = \\binom{n}{N}p^N(1-p)^{n-N}$$\n",
    "\n",
    "where n is thr number of trails, p is the probabilty of success, and N is the number of successess.\n",
    "\n",
    "The binomial distribution is the probability distribution of a sequence of experiments where each experiment produces a binary outcome(e.g. success or failure) and where each of the outcomes is independent of all the other.\n",
    "Examples of a binomial experiment.\n",
    "Flipping a coin is an \n",
    "Randomly picking people on the street to answer a yes or no question.\n",
    "Attempting to convince visitors of a website to buy a product — the yes or no outcome is whether they purchased or not.You flip a coin 2 times and count the number of times the coin lands on heads. \n"
   ]
  },
  {
   "cell_type": "markdown",
   "metadata": {},
   "source": [
    "![binomial.PNG](images/binomial.PNG)"
   ]
  },
  {
   "cell_type": "markdown",
   "metadata": {},
   "source": [
    "                       "
   ]
  },
  {
   "cell_type": "markdown",
   "metadata": {},
   "source": [
    "![](images/binomial.jpeg)"
   ]
  },
  {
   "cell_type": "code",
   "execution_count": 25,
   "metadata": {},
   "outputs": [
    {
     "name": "stdout",
     "output_type": "stream",
     "text": [
      "[4 4 5 5 4 6 1 2 5 4 7 8 4 8 7 6 4 4 5 4 4 6 5 5 5 2 6 5 4 6 2 2 4 7 4 7 4\n",
      " 5 5 6 4 5 7 6 7 6 6 4 6 4 6 8 6 6 2 7 7 8 3 4 5 3 6 7 6 4 6 4 5 5 3 7 6 6\n",
      " 6 5 7 8 5 5 9 6 5 9 2 5 4 6 5 5 3 3 4 3 2 4 7 7 6 3]\n"
     ]
    }
   ],
   "source": [
    "# no of trials 10\n",
    "#fair coin so probability is 50%\n",
    "# repeat the experiment 100 times\n",
    "s = np.random.binomial(10,0.5,100) # no of heads when tossing a fair coin for 10 time and repating that experiment 100 times\n",
    "print(s) "
   ]
  },
  {
   "cell_type": "code",
   "execution_count": 26,
   "metadata": {},
   "outputs": [
    {
     "data": {
      "text/plain": [
       "[0, 1, 7, 7, 22, 21, 22, 13, 5, 2]"
      ]
     },
     "execution_count": 26,
     "metadata": {},
     "output_type": "execute_result"
    }
   ],
   "source": [
    "# find the number of heads \n",
    "[np.equal(s,i).sum() for i in range(10)]"
   ]
  },
  {
   "cell_type": "code",
   "execution_count": 27,
   "metadata": {},
   "outputs": [
    {
     "name": "stdout",
     "output_type": "stream",
     "text": [
      "[0.0, 0.01, 0.07, 0.07, 0.22, 0.21, 0.22, 0.13, 0.05, 0.02]\n"
     ]
    }
   ],
   "source": [
    "#probabily of outcomes in 100 experiments that the number of heads we got\n",
    "prob= [np.equal(s,i).mean() for i in range(10)]\n",
    "print(prob)"
   ]
  },
  {
   "cell_type": "code",
   "execution_count": 28,
   "metadata": {},
   "outputs": [
    {
     "data": {
      "text/plain": [
       "Text(0, 0.5, 'Probability')"
      ]
     },
     "execution_count": 28,
     "metadata": {},
     "output_type": "execute_result"
    },
    {
     "data": {
      "image/png": "[encoded data removed]",
      "text/plain": [
       "<Figure size 432x288 with 1 Axes>"
      ]
     },
     "metadata": {
      "needs_background": "light"
     },
     "output_type": "display_data"
    }
   ],
   "source": [
    "plt.xticks(range(10))\n",
    "plt.plot(list(range(10)), prob,color='blue', marker='o')\n",
    "plt.xlabel('Number of Heads',fontsize=14)\n",
    "plt.ylabel('Probability',fontsize=14)"
   ]
  },
  {
   "cell_type": "code",
   "execution_count": 58,
   "metadata": {},
   "outputs": [
    {
     "data": {
      "text/plain": [
       "Text(0, 0.5, 'Frequency')"
      ]
     },
     "execution_count": 58,
     "metadata": {},
     "output_type": "execute_result"
    },
    {
     "data": {
      "image/png": "[encoded data removed]",
      "text/plain": [
       "<Figure size 504x504 with 1 Axes>"
      ]
     },
     "metadata": {
      "needs_background": "light"
     },
     "output_type": "display_data"
    }
   ],
   "source": [
    "heads = np.random.binomial(10,0.5,10000)\n",
    "fig, ax = plt.subplots(figsize=(7,7))\n",
    "ax = sns.distplot(heads, bins=11, label='simulation results')\n",
    "ax.set_xlabel(\"Number of Heads\",fontsize=12)\n",
    "ax.set_ylabel(\"Frequency\",fontsize=12)"
   ]
  },
  {
   "cell_type": "code",
   "execution_count": 63,
   "metadata": {},
   "outputs": [
    {
     "data": {
      "image/png": "[encoded data removed]",
      "text/plain": [
       "<Figure size 720x504 with 1 Axes>"
      ]
     },
     "metadata": {
      "needs_background": "light"
     },
     "output_type": "display_data"
    }
   ],
   "source": [
    "# no of trials 10\n",
    "#fair coin so probability is 50%\n",
    "# repeat the experiment 1000 times\n",
    "\n",
    "heads = np.random.binomial(10,0.5,1000)\n",
    "fig, ax = plt.subplots(figsize=(10,7))\n",
    "ax = sns.distplot(heads, bins=10, label='simulation results')\n",
    "ax.set_xlabel(\"Number of Heads\",fontsize=12)\n",
    "ax.set_ylabel(\"Frequency\",fontsize=12)\n",
    "# Plot the actual binomial distribution as a sanity check\n",
    "from scipy import stats\n",
    "x = range(0,11)\n",
    "ax.plot(x, binom.pmf(x, 10, 0.5), 'ro', label='actual binomial distribution')\n",
    "ax.vlines(x, 0, binom.pmf(x, 10, 0.5), colors='r', lw=5, alpha=0.5)\n",
    "plt.legend()\n",
    "plt.show()"
   ]
  },
  {
   "cell_type": "markdown",
   "metadata": {},
   "source": [
    "Here binomial distribution is a pretty good approximation of what we would have observed if we had actually repeated our 10 coin tosses 1,000 times — so instead of wasting tons of time tossing coins and recording the results, we can just use the binomial distribution!"
   ]
  },
  {
   "cell_type": "markdown",
   "metadata": {},
   "source": [
    "# 3.3 numpy.random.chisquare\n",
    "\n",
    "Draw samples from a chi-square distribution.<br>\n",
    "When df independent random variables, each with standard normal distributions (mean 0, variance 1), are squared and summed, the resulting distribution is chi-square. This distribution is often used in hypothesis testing.\n",
    "\n",
    "__Syntax:__    numpy.random.chisquare(df, size=None)\n",
    "\n",
    "__Parameters:__ <br>\n",
    " &nbsp; &nbsp; &nbsp; &nbsp; &nbsp; __df :__  float or array_like of floats\n",
    "                                    Number of degrees of freedom, should be > 0<br> \n",
    " \n",
    " &nbsp; &nbsp; &nbsp; &nbsp; &nbsp;  __size :__ int or tuple of ints, _optional\n",
    "\n",
    "        Output shape. If the given shape is, e.g., (m, n, k), then m * n * k samples are drawn. If size is None (default), a single value is returned if df is a scalar. Otherwise, np.array(df).size samples are drawn </p>\n",
    "__Returns:__ <br>\n",
    "&nbsp; &nbsp; &nbsp; &nbsp; &nbsp;  __samples__ : {ndarray, scalar}\n",
    "            Drawn samples from the parameterized chi-square distribution.\n",
    "\n"
   ]
  },
  {
   "cell_type": "markdown",
   "metadata": {},
   "source": [
    " The variable obtained by summing the square of *df* independent, standard normally distributed random variables: $$ Q = \\sum_{i=0}^{df} {X_i^2}$$ is chi-square distributed,denoted $$ Q \\sim {X^2_k}$$\n",
    " \n",
    "  The probability density function of the chi-square distribution is\n",
    "  \n",
    "  $$p(x) = \\frac{(1/2)^{k/2}}{\\Gamma (k/2)} {x}^{k/2-1} {e}^{-x/2}$$\n",
    "  \n",
    "  where $\\Gamma$ is the gamma function \n",
    "   $$\\Gamma(x) = \\int_{0}^{\\infty} t^{x-1} e^{-t}dt$$"
   ]
  },
  {
   "cell_type": "markdown",
   "metadata": {},
   "source": [
    "The chi-square distribution has the following properties:\n",
    "\n",
    "The mean of the distribution is equal to the number of degrees of freedom.\n",
    "As the degrees of freedom increase, the chi-square curve approaches a normal distribution.\n"
   ]
  },
  {
   "cell_type": "code",
   "execution_count": 67,
   "metadata": {},
   "outputs": [
    {
     "name": "stdout",
     "output_type": "stream",
     "text": [
      "[3.51990634 0.46839966 0.84699272 2.12534258 1.27347678 0.43970017\n",
      " 4.02372653 0.63923931 1.12510061 0.86642079]\n"
     ]
    }
   ],
   "source": [
    "c =np.random.chisquare(2,10)\n",
    "print(c)"
   ]
  },
  {
   "cell_type": "code",
   "execution_count": 68,
   "metadata": {},
   "outputs": [
    {
     "data": {
      "text/plain": [
       "1.5328305497849715"
      ]
     },
     "execution_count": 68,
     "metadata": {},
     "output_type": "execute_result"
    }
   ],
   "source": [
    "c.mean()"
   ]
  },
  {
   "cell_type": "code",
   "execution_count": 69,
   "metadata": {},
   "outputs": [
    {
     "data": {
      "text/plain": [
       "1.2156701671685979"
      ]
     },
     "execution_count": 69,
     "metadata": {},
     "output_type": "execute_result"
    }
   ],
   "source": [
    "c.std()"
   ]
  },
  {
   "cell_type": "code",
   "execution_count": 77,
   "metadata": {},
   "outputs": [
    {
     "data": {
      "image/png": "[encoded data removed]",
      "text/plain": [
       "<Figure size 432x288 with 1 Axes>"
      ]
     },
     "metadata": {
      "needs_background": "light"
     },
     "output_type": "display_data"
    }
   ],
   "source": [
    "#https://medium.com/@successmagnum/python-data-science-tutorial-set-4-7122e1f62c93\n",
    "from scipy import stats\n",
    "import numpy as np\n",
    "import matplotlib.pyplot as plt\n",
    "x = np.linspace(0, 10, 100)\n",
    "fig,ax = plt.subplots(1,1)\n",
    "linestyles = [':', '--', '-.', '-']\n",
    "deg_of_freedom = [1, 4, 7, 10]\n",
    "for df, ls in zip(deg_of_freedom, linestyles):\n",
    "  ax.plot(x, stats.chi2.pdf(x, df), linestyle=ls, label='$df=%i$'%df)\n",
    "plt.xlim(0, 10)\n",
    "plt.ylim(0, 0.4)\n",
    "plt.xlabel('Value', fontsize=12)\n",
    "plt.ylabel('Frequency', fontsize=12)\n",
    "plt.title('Chi-Square Distribution', fontsize=14)\n",
    "#plt.legend(deg_of_freedom)\n",
    "plt.legend()\n",
    "plt.show()"
   ]
  },
  {
   "cell_type": "code",
   "execution_count": 78,
   "metadata": {},
   "outputs": [
    {
     "name": "stdout",
     "output_type": "stream",
     "text": [
      "[ 8.23941205  3.7599561   3.78325997 14.81808616  1.39567872  6.3706393\n",
      "  4.21974743  5.35892648  6.55387213  7.2456371  18.56529199  2.6491113\n",
      "  2.79985607 13.20328151  7.62533575  3.05957127  3.06985469  5.25313213\n",
      "  6.29373182  4.38634931  2.71684667  9.70937442  4.96005443  7.51971736\n",
      "  4.56799196 10.24404718  3.29906272  6.30964977  7.88497029  5.80064276\n",
      "  5.71493452 10.10150668  1.74033826  3.85897414  1.47397281  2.29548202\n",
      "  5.47227855  6.55279735  6.96596484  2.41312089  6.85157748  4.67140382\n",
      "  1.35181539  8.06276749  6.4829139  13.59698505  7.0639636   8.47792613\n",
      "  3.44466205  6.58244944]\n",
      "Mean 6.096778465145356\n"
     ]
    }
   ],
   "source": [
    "s=np.random.chisquare(6,50)\n",
    "   \n",
    "print(s)\n",
    "print(\"Mean\",s.mean())"
   ]
  },
  {
   "cell_type": "markdown",
   "metadata": {},
   "source": [
    "# 3.4 numpy.random.f\n",
    "\n",
    "Draw samples from an F distribution.\n",
    "\n",
    "Samples are drawn from an F distribution with specified parameters, dfnum (degrees of freedom in numerator) and dfden (degrees of freedom in denominator), where both parameters should be greater than zero.\n",
    "\n",
    "The random variate of the F distribution (also known as the Fisher distribution) is a continuous probability distribution that arises in ANOVA tests, and is the ratio of two chi-square variates.\n",
    "\n",
    "__Syntax :__ numpy.random.f(dfnum, dfden, size=None)\n",
    "\n",
    "__Parameters:__\t\n",
    "&nbsp; &nbsp; &nbsp; &nbsp; &nbsp;__dfnum :__ float or array_like of floats Degrees of freedom in numerator, should be > 0.\n",
    "\n",
    "&nbsp; &nbsp; &nbsp; &nbsp; &nbsp;__dfden :__ float or array_like of float Degrees of freedom in denominator, should be > 0.\n",
    "\n",
    "&nbsp; &nbsp; &nbsp; &nbsp; &nbsp;__size :__ int or tuple of ints, optional\n",
    "Output shape. If the given shape is, e.g., (m, n, k), then m * n * k samples are drawn. If size is None (default), a single value is returned if dfnum and dfden are both scalars. Otherwise, np.broadcast(dfnum, dfden).size samples are drawn.\n",
    "\n",
    "__Return :__ &nbsp; &nbsp; &nbsp; &nbsp; &nbsp;ndarray or scalar\n",
    "    &nbsp; *Drawn samples from the parameterized Fisher distribution*"
   ]
  },
  {
   "cell_type": "markdown",
   "metadata": {},
   "source": [
    "An example from Glantz[1], pp 47-40:\n",
    "\n",
    "Two groups, children of diabetics (25 people) and children from people without diabetes (25 controls).\n",
    "Fasting blood glucose was measured, case group had a mean value of 86.1, controls had a mean value of 82.2. \n",
    "Standard deviations were 2.09 and 2.49 respectively. \n",
    "Are these data consistent with the null hypothesis that the parents diabetic status does not affect their children’s blood glucose levels? \n",
    "Calculating the F statistic from the data gives a value of 36.01.\n",
    "\n",
    "Draw samples from the distribution:"
   ]
  },
  {
   "cell_type": "code",
   "execution_count": 79,
   "metadata": {},
   "outputs": [],
   "source": [
    "dfnum = 1  # between group degrees of freedom\n",
    "dfden = 48  # within groups degrees of freedom\n",
    "s = np.random.f(dfnum, dfden, 1000)"
   ]
  },
  {
   "cell_type": "code",
   "execution_count": 80,
   "metadata": {},
   "outputs": [
    {
     "data": {
      "text/plain": [
       "7.392782742036554"
      ]
     },
     "execution_count": 80,
     "metadata": {},
     "output_type": "execute_result"
    }
   ],
   "source": [
    "np.sort(s)[-10]"
   ]
  },
  {
   "cell_type": "markdown",
   "metadata": {},
   "source": [
    "So there is about a 1% chance that the F statistic will exceed 6.22, the measured value is 36, so the null hypothesis is rejected at the 1% level."
   ]
  },
  {
   "cell_type": "code",
   "execution_count": 81,
   "metadata": {},
   "outputs": [
    {
     "data": {
      "text/plain": [
       "(array([779., 141.,  43.,  19.,  11.,   3.,   1.,   2.,   0.,   1.]),\n",
       " array([2.49749200e-07, 1.60548979e+00, 3.21097934e+00, 4.81646888e+00,\n",
       "        6.42195842e+00, 8.02744796e+00, 9.63293751e+00, 1.12384270e+01,\n",
       "        1.28439166e+01, 1.44494061e+01, 1.60548957e+01]),\n",
       " <a list of 10 Patch objects>)"
      ]
     },
     "execution_count": 81,
     "metadata": {},
     "output_type": "execute_result"
    },
    {
     "data": {
      "image/png": "[encoded data removed]",
      "text/plain": [
       "<Figure size 432x288 with 1 Axes>"
      ]
     },
     "metadata": {
      "needs_background": "light"
     },
     "output_type": "display_data"
    }
   ],
   "source": [
    "plt.hist(s)\n",
    "\n",
    "#plt.plot(s)\n"
   ]
  },
  {
   "cell_type": "code",
   "execution_count": 87,
   "metadata": {},
   "outputs": [
    {
     "data": {
      "image/png": "[encoded data removed]",
      "text/plain": [
       "<Figure size 360x360 with 1 Axes>"
      ]
     },
     "metadata": {
      "needs_background": "light"
     },
     "output_type": "display_data"
    }
   ],
   "source": [
    "# f distribution plot\n",
    "#Define the distribution parameters to be plotted\n",
    "from scipy.stats import f as fisher_f\n",
    "mu = 0\n",
    "dfnum_values = [1, 5, 2, 10]\n",
    "dfden_values = [1, 2, 5, 50]\n",
    "linestyles = ['-', '--', ':', '-.']\n",
    "x = np.linspace(0, 5, 1001)[1:]\n",
    "\n",
    "fig, ax = plt.subplots(figsize=(5, 5))\n",
    "\n",
    "for (d1, d2, ls) in zip(dfnum_values, dfden_values, linestyles):\n",
    "    dist = fisher_f(d1, d2, mu)\n",
    "\n",
    "    plt.plot(x, dist.pdf(x), ls=ls,\n",
    "             label=r'$dfnum=%i,\\ dfden=%i$' % (d1, d2))\n",
    "\n",
    "plt.xlim(0, 4)\n",
    "plt.ylim(0.0, 1.0)\n",
    "\n",
    "plt.xlabel('$x$')\n",
    "plt.ylabel(r'$p(x|dfnum, dfden)$')\n",
    "plt.title(\"Fisher's Distribution\")\n",
    "\n",
    "plt.legend()\n",
    "plt.show()"
   ]
  },
  {
   "cell_type": "markdown",
   "metadata": {},
   "source": [
    "# 3.5 numpy.random.exponential\n",
    "\n",
    "Draw samples from an exponential distribution.\n",
    "\n",
    "__Syntax :__ numpy.random.exponential(scale=1.0, size=None)\n",
    "\n",
    "__Parameters:__\t\n",
    "&nbsp; &nbsp; &nbsp; &nbsp; &nbsp;__scale:__ float or array_like of floats Degrees of freedom in numerator, should be > 0.\n",
    "\n",
    "\n",
    "&nbsp; &nbsp; &nbsp; &nbsp; &nbsp;__size :__ int or tuple of ints, optional\n",
    "Output shape. If the given shape is, e.g., (m, n, k), then m * n * k samples are drawn. If size is None (default), a single value is returned if scale is a scalar. Otherwise, np.array(scale).size samples are drawn.\n",
    "\n",
    "__Returns :__ &nbsp; &nbsp; &nbsp; &nbsp; &nbsp;ndarray or scalar\n",
    "    &nbsp;  *Drawn samples from the parameterized exponential distribution* <br>\n",
    "\n",
    "Its probability density function is\n",
    " $$f(x; \\frac{1}{\\beta}) = \\frac{1}{\\beta} \\exp(-\\frac{x}{\\beta})$$\n",
    "\n",
    "\n",
    "for x > 0 and 0 elsewhere. \\beta is the scale parameter, which is the inverse of the rate parameter \\lambda = 1/\\beta. The rate parameter is an alternative, widely used parameterization of the exponential distribution.\n",
    "\n",
    "The exponential distribution is a continuous analogue of the geometric distribution. It describes many common situations, such as the size of raindrops measured over many rainstorms, or the time between page requests to Wikipedia."
   ]
  },
  {
   "cell_type": "code",
   "execution_count": 82,
   "metadata": {},
   "outputs": [
    {
     "data": {
      "image/png": "[encoded data removed]",
      "text/plain": [
       "<Figure size 432x288 with 1 Axes>"
      ]
     },
     "metadata": {
      "needs_background": "light"
     },
     "output_type": "display_data"
    }
   ],
   "source": [
    "scale = 1\n",
    "s = np.random.exponential(scale, 1000)\n",
    "#Display the histogram of the samples, along with the probability density function:\n",
    "\n",
    "count, bins, ignored = plt.hist(s, 30, density=True)\n"
   ]
  },
  {
   "cell_type": "markdown",
   "metadata": {},
   "source": [
    "Values for an exponential random variable occur in the following way. There are fewer large values and more small values. For example, the amount of money customers spend in one trip to the supermarket follows an exponential distribution. There are more people who spend small amounts of money and fewer people who spend large amounts of money.\n",
    "\n",
    "The exponential distribution is widely used in the field of reliability. "
   ]
  },
  {
   "cell_type": "markdown",
   "metadata": {},
   "source": [
    "# 4. Use of seeds in generating pseudorandom numbers"
   ]
  },
  {
   "cell_type": "markdown",
   "metadata": {},
   "source": [
    "The random numbers or data generated by numpy’s random module is not truly random, it is pseudo-random.\n",
    "These “pseudo-random numbers” are generated by some kinds of deterministic algorithms. These pseudo random numbers follow some kinds of sequences.\n",
    "\n",
    "it means random number generation isn't truly \"random\". It is deterministic, and the sequence it generates is dictated by the seed value you pass.\n",
    "\n",
    "Pseudo-random number generators work by performing some operation on a value. Generally this value is the previous number generated by the generator. However, the first time you use the generator, there is no previous value.\n",
    "\n",
    "Seeding a pseudo-random number generator gives it its first \"previous\" value. Each seed value will correspond to a sequence of generated values for a given random number generator. That is, if you provide the same seed twice, you get the same sequence of numbers twice.\n",
    "\n",
    "Generally, you want to seed your random number generator with some value that will change each execution of the program. For instance, the current time is a frequently-used seed. The reason why this doesn't happen automatically is so that if you want, you can provide a specific seed to get a known sequence of numbers.\n",
    "\n",
    "What is seed?\n",
    "\n",
    "The seed during such random number generation is actually the starting point in the sequence. If we use same seed every time, it will yield same sequence of random numbers.So, same seed yields same sequence of random numbers.\n",
    "\n",
    "The same sequence generation is useful in simulation and modeling applications."
   ]
  },
  {
   "cell_type": "code",
   "execution_count": null,
   "metadata": {},
   "outputs": [],
   "source": [
    "np.random.seed(100) # Set the random seed\n",
    "print(\"Random number with seed = \", np.random.randint(1, 500))\n",
    "np.random.seed(100)# Set the random seed\n",
    "print(\"Random number with seed = \", np.random.randint(1, 500)) "
   ]
  },
  {
   "cell_type": "code",
   "execution_count": null,
   "metadata": {},
   "outputs": [],
   "source": [
    "np.random.seed(10) # Set the random seed\n",
    "print(\"Random number with seed = \", np.random.randint(1, 100, size=6))\n",
    "print(\"Random number with seed = \", np.random.randint(1, 100, size=6))\n",
    "\n",
    "np.random.seed(10) # Set the random seed\n",
    "print(\"\\nRandom number with seed = \", np.random.randint(1, 100, size=6))\n",
    "print(\"Random number with seed = \", np.random.randint(1, 100, size=6))"
   ]
  },
  {
   "cell_type": "markdown",
   "metadata": {},
   "source": [
    "as it is clear from result that seed are used to create the squence of same random numbers."
   ]
  },
  {
   "cell_type": "code",
   "execution_count": null,
   "metadata": {},
   "outputs": [],
   "source": [
    "# without seed\n",
    "print(\"Random number without seed = \", np.random.randint(1, 500))\n",
    "print(\"Random number without seed = \", np.random.randint(1, 500))"
   ]
  },
  {
   "cell_type": "code",
   "execution_count": null,
   "metadata": {
    "scrolled": true
   },
   "outputs": [],
   "source": [
    "for i in range(2):\n",
    "    np.random.seed(10)\n",
    "    for i in range(10):\n",
    "        print(np.random.randint(5,15))\n",
    "  "
   ]
  },
  {
   "cell_type": "markdown",
   "metadata": {},
   "source": [
    "# References"
   ]
  },
  {
   "cell_type": "markdown",
   "metadata": {},
   "source": [
    "1. What exactly is the function of random.seed() in python? available online at https://www.edureka.co/community/25335/what-exactly-is-the-function-of-random-seed-in-python accesssed on 05/11/2019\n",
    "2. What is seed in random number generation available online at https://www.quora.com/What-is-seed-in-random-number-generation accessed on 29/10/2019\n",
    "3. Numpy in Python availabe at https://www.geeksforgeeks.org/numpy-in-python-set-1-introduction// accessed on 20/10/2019\n",
    "4. Numpy Tutorial available at https://www.python-course.eu/numpy.php accessed on 21/10/2019\n",
    "5. Numpy.random.binomial available at https://docs.scipy.org/doc/numpy-1.9.0/reference/generated/numpy.random.binomial.html accessed on 17/10/2019\n",
    "6. Uniform Distribution availabe at https://stattrek.com/statistics/dictionary.aspx?definition=uniform_distribution accessed on 05/11/2019\n",
    "7. numpy.random.choice available at https://docs.scipy.org/doc/numpy-1.14.0/reference/generated/numpy.random.choice.html#numpy.random.choice accessed on 10/11/2019\n",
    "8. Probability distributions available at https://www.datacamp.com/community/tutorials/probability-distributions-python] accessed on 20/10/2019\n",
    "9. Fun with the Binomial Distribution available at https://towardsdatascience.com/fun-with-the-binomial-distribution-96a5ecabf65b 9/11/2019\n",
    "10. Example of chi-squared distribution available at  https://www.astroml.org/book_figures/chapter3/fig_chi2_distribution.html accessed on 20/10/2019.\n",
    "\n",
    "11. Example of Fisher's F Distribution available at https://www.astroml.org/book_figures/chapter3/fig_fisher_f_distribution.html accessed on 21/10/2019\n",
    "\n"
   ]
  },
  {
   "cell_type": "markdown",
   "metadata": {},
   "source": [
    "# Conclusion\n",
    "\n",
    "It was an interesting and challenging assignment.It enhance my uderstanding of numpy.random package and statistics distributions.  "
   ]
  },
  {
   "cell_type": "code",
   "execution_count": null,
   "metadata": {},
   "outputs": [],
   "source": []
  }
 ],
 "metadata": {
  "kernelspec": {
   "display_name": "Python 3",
   "language": "python",
   "name": "python3"
  },
  "language_info": {
   "codemirror_mode": {
    "name": "ipython",
    "version": 3
   },
   "file_extension": ".py",
   "mimetype": "text/x-python",
   "name": "python",
   "nbconvert_exporter": "python",
   "pygments_lexer": "ipython3",
   "version": "3.7.1"
  }
 },
 "nbformat": 4,
 "nbformat_minor": 2
}
